{
 "cells": [
  {
   "cell_type": "markdown",
   "metadata": {},
   "source": [
    "# Librerías "
   ]
  },
  {
   "cell_type": "code",
   "execution_count": null,
   "metadata": {},
   "outputs": [],
   "source": [
    "from pathlib import Path\n",
    "import numpy\n",
    "import os\n",
    "import parmed.amber\n",
    "from datetime import datetime"
   ]
  },
  {
   "cell_type": "markdown",
   "metadata": {},
   "source": [
    "# Directorios y Variables\n"
   ]
  },
  {
   "cell_type": "code",
   "execution_count": null,
   "metadata": {},
   "outputs": [],
   "source": [
    "#Dirección de MSMS, datos de entrada en .prmtop y .crd, dirección de salida\n",
    "msms = '/home/rodrigo/codigo/msms.1'  #ubicación de MSMS\n",
    "direccion_datos = '/home/rodrigo/Desktop/datos/'  #ubicación de moleculas a transformar\n",
    "direccion_proteinas = '/home/rodrigo/Desktop/proteinas/'  #dirección a ubicar datos para pygbe"
   ]
  },
  {
   "cell_type": "code",
   "execution_count": null,
   "metadata": {},
   "outputs": [],
   "source": [
    "#Variables que se pueden modificar\n",
    "\n",
    "#Elegir si utilizar Radio 'Born' (1) o Radio 'Lennard-Jones VdW'  (2)\n",
    "OPCION = 2 #Valores 1 o 2\n",
    "\n",
    "\n",
    "#Datos de entrada para MSMS:\n",
    "radius_increase=0\n",
    "p=1.4 #Probe Radius para generar SES\n",
    "d=3.0 #densidad, valores usuales 1.0 (>1000) y 3.0 para moléculas más pequeñas\n",
    "\n",
    "\n",
    "#Parámetros para cambiar en .parm\n",
    "NCRIT = 500\n",
    "theta = 0.5\n",
    "\n",
    "\n",
    "#Parámetros para cambiar en .config\n",
    "epsilon = 1.15"
   ]
  },
  {
   "cell_type": "markdown",
   "metadata": {},
   "source": [
    "# Códigos y Funciones"
   ]
  },
  {
   "cell_type": "markdown",
   "metadata": {},
   "source": [
    "## Genarar Directorios y Mallas\n"
   ]
  },
  {
   "cell_type": "code",
   "execution_count": null,
   "metadata": {},
   "outputs": [],
   "source": [
    "#Lista de Moleculas en la Carpeta.  ### 1.-\n",
    "def lista_molec(direccion):\n",
    "    lista_de_moleculas=[]\n",
    "    for dirpath ,dirnames, filenames in os.walk(direccion):\n",
    "        filenames\n",
    "        for molecula in filenames:\n",
    "            if '.crd' in molecula:\n",
    "                molecula=molecula[:-4]\n",
    "                lista_de_moleculas.append(molecula)\n",
    "\n",
    "            elif '.pqr' in molecula:\n",
    "                molecula=molecula[:-4]\n",
    "                lista_de_moleculas.append(molecula)\n",
    "    return lista_de_moleculas\n",
    "\n",
    "\n",
    "#-----------------------------------------------------------------------------------------\n",
    "\n",
    "#Crear Directorio por cada Molecula.  ### 2.-\n",
    "def dir_molec(direccion_proteinas,molecule_name):\n",
    "    return os.system('mkdir '+direccion_proteinas + molecule_name)\n",
    "\n",
    "\n",
    "#-----------------------------------------------------------------------------------------\n",
    "\n",
    "\n",
    "#Definir Posiciones, radios y los tipos de átomos para cada molécula.   ### 3.-\n",
    "\n",
    "def pos_radi(molecule_name,OPCION,direccion_datos):\n",
    "    mol_param = parmed.amber.AmberParm(direccion_datos + molecule_name + '.prmtop')\n",
    "    N_atom = mol_param.ptr('NATOM')\n",
    "    atom_type = mol_param.parm_data['ATOM_TYPE_INDEX']\n",
    "    atom_radius = numpy.zeros(N_atom)\n",
    "    atom_depth = numpy.zeros(N_atom)\n",
    "    \n",
    "    if OPCION == 1:\n",
    "        atom_radius[:] = mol_param.parm_data['RADII'][:]\n",
    "\n",
    "        if N_atom%2==0:\n",
    "            mol_crd = numpy.loadtxt(direccion_datos+molecule_name+'.crd',skiprows=2)\n",
    "            mol_crd.flatten()\n",
    "            atom_pos = numpy.reshape(mol_crd,(N_atom,3))\n",
    "\n",
    "        elif N_atom%2!=0:\n",
    "            maximas_filas = (N_atom-1)//2\n",
    "            mol_crd=numpy.zeros(N_atom*3)\n",
    "            mol_crd_ini = numpy.loadtxt(direccion_datos+molecule_name+'.crd',skiprows=2,max_rows=maximas_filas)\n",
    "            mol_crd_end = numpy.loadtxt(direccion_datos+molecule_name+'.crd',skiprows=2+maximas_filas)\n",
    "            mol_crd[N_atom*3-3:] = mol_crd_end[:]\n",
    "            mol_crd[:N_atom*3-3] = mol_crd_ini.flatten()\n",
    "            atom_pos = numpy.reshape(mol_crd, (N_atom, 3))\n",
    "            \n",
    "    elif OPCION == 2:\n",
    "        for i in range(N_atom):\n",
    "            atom_radius[i] = mol_param.LJ_radius[atom_type[i]-1] \n",
    "    \n",
    "\n",
    "        if N_atom%2==0:\n",
    "            mol_crd = numpy.loadtxt(direccion_datos+molecule_name+'.crd',skiprows=2)\n",
    "            mol_crd.flatten()\n",
    "            atom_pos = numpy.reshape(mol_crd,(N_atom,3))\n",
    "\n",
    "        elif N_atom%2!=0:\n",
    "            maximas_filas = (N_atom-1)//2\n",
    "            mol_crd = numpy.zeros(N_atom*3)\n",
    "            mol_crd_ini = numpy.loadtxt(direccion_datos+molecule_name+'.crd',skiprows=2,max_rows=maximas_filas)\n",
    "            mol_crd_end = numpy.loadtxt(direccion_datos+molecule_name+'.crd',skiprows=2+maximas_filas)\n",
    "            mol_crd[N_atom*3-3:] = mol_crd_end[:]\n",
    "            mol_crd[:N_atom*3-3] = mol_crd_ini.flatten()\n",
    "            atom_pos = numpy.reshape(mol_crd, (N_atom, 3))\n",
    "        \n",
    "    return atom_pos, atom_radius, N_atom, atom_type\n",
    "       \n",
    "\n",
    "#-----------------------------------------------------------------------------------------\n",
    "\n",
    "         \n",
    "#Generar .xyzr y Malla con MSMS.\n",
    "##Variables Pueden ser cambiadas en sección anterior.  ### 4.-\n",
    "\n",
    "def convert_mesh(atom_pos, atom_radius, msms, molecule_name, direccion_proteinas, radius_increase, p, d):\n",
    "    os.system('mkdir '+direccion_proteinas+'/'+molecule_name+'/geometry')\n",
    "    xyzr_data = numpy.zeros((N_atom,4))\n",
    "    xyzr_data[:,:3] = atom_pos[:,:]\n",
    "    xyzr_data[:,-1] = atom_radius[:] + radius_increase\n",
    "    \n",
    "    \n",
    "    #generate xyzr and call MSMS.\n",
    "    dir_x_molec = direccion_proteinas+molecule_name  #Nombre de los directorios.\n",
    "    dir_x_molec_name = dir_x_molec+'/'+molecule_name\n",
    "    \n",
    "    numpy.savetxt(dir_x_molec_name+'.xyzr',xyzr_data)\n",
    "    cmd = msms+' -if '+dir_x_molec_name+'.xyzr -of '+dir_x_molec+'/geometry/'+\\\n",
    "    molecule_name + (' -d %1.1f -p %1.1f -no_header') %(d,p)\n",
    "    return os.system(cmd)"
   ]
  },
  {
   "cell_type": "markdown",
   "metadata": {},
   "source": [
    "## Generar .config, .param, y .pqr"
   ]
  },
  {
   "cell_type": "code",
   "execution_count": null,
   "metadata": {},
   "outputs": [],
   "source": [
    "#Generar .config\n",
    "def gen_config(molecule_name):\n",
    "    g=open(direccion_proteinas+molecule_name+'/'+molecule_name+'.config','w+')\n",
    "    config_text = \\\n",
    "    'FILE    geometry    dielectric_interface\\n\\\n",
    "    --------------------------------\\n\\\n",
    "    PARAM   LorY E?   Dielec  kappa   charges?    coulomb?  charge_file     Nparent parent  Nchild  children\\n\\\n",
    "    FIELD   1    0      80    1e-12       0           0       NA              0       NA      1       0\\n\\\n",
    "    FIELD   1    1      %1.2f   1e-12       1           1       MOLECULE        1       0       0       NA'\\\n",
    "    %(epsilon)\n",
    "    config_text_mod1=config_text.replace('geometry','geometry/'+molecule_name)\n",
    "    config_text_mod2=config_text_mod1.replace('MOLECULE',molecule_name+'.pqr')\n",
    "    g.write(config_text_mod2)\n",
    "    return g.close()"
   ]
  },
  {
   "cell_type": "code",
   "execution_count": null,
   "metadata": {},
   "outputs": [],
   "source": [
    "#Generar .param\n",
    "def gen_param(molecule_name):\n",
    "    f=open(direccion_proteinas+molecule_name+'/'+molecule_name+'.param','w+')\n",
    "    text_param = 'Precision   double\\n\\\n",
    "K           4\\n\\\n",
    "Nk          9\\n\\\n",
    "K_fine      37\\n\\\n",
    "thresold    0.5\\n\\\n",
    "BSZ         128\\n\\\n",
    "restart     100\\n\\\n",
    "tolerance   1e-6\\n\\\n",
    "max_iter    1000\\n\\\n",
    "P           8\\n\\\n",
    "eps         1e-12\\n\\\n",
    "NCRIT       %1.0f\\n\\\n",
    "theta       %1.2f\\n\\\n",
    "GPU         0\\n\\\n",
    "polar_eps   1e-2'%(NCRIT, theta)\n",
    "    f.write(text_param)\n",
    "    return f.close()"
   ]
  },
  {
   "cell_type": "code",
   "execution_count": null,
   "metadata": {},
   "outputs": [],
   "source": [
    "#Generar .pqr\n",
    "def gen_pqr(molecule_name):\n",
    "    dir_name = direccion_datos+molecule_name\n",
    "    mol = parmed.amber.AmberParm(direccion_datos + molecule_name + '.prmtop')\n",
    "    N_atom = mol.ptr('NATOM')\n",
    "    nombre = mol.parm_data['ATOM_NAME']\n",
    "    tipo = mol.parm_data['ATOM_TYPE_INDEX']\n",
    "    carga = mol.parm_data['CHARGE']\n",
    "    radio = numpy.zeros(N_atom)\n",
    "    \n",
    "    if OPCION == 1:\n",
    "        radio[:] = mol.parm_data['RADII'][:]    \n",
    "        \n",
    "        if N_atom%2==0:\n",
    "            mol_crd = numpy.loadtxt(direccion_datos+molecule_name+'.crd',skiprows=2)\n",
    "            mol_crd.flatten()\n",
    "            pos = numpy.reshape(mol_crd,(N_atom,3))\n",
    "\n",
    "        elif N_atom%2!=0:\n",
    "            maximas_filas=(N_atom-1)//2\n",
    "            mol_crd=numpy.zeros(N_atom*3)\n",
    "            mol_crd_ini= numpy.loadtxt(direccion_datos+molecule_name+'.crd',skiprows=2,max_rows=maximas_filas)\n",
    "            mol_crd_end = numpy.loadtxt(direccion_datos+molecule_name+'.crd',skiprows=2+maximas_filas)\n",
    "            mol_crd[N_atom*3-3:]=mol_crd_end[:]\n",
    "            mol_crd[:N_atom*3-3]=mol_crd_ini.flatten()\n",
    "            pos = numpy.reshape(mol_crd, (N_atom, 3))\n",
    "            \n",
    "    if OPCION == 2:\n",
    "        for i in range(N_atom):\n",
    "            radio[i] = mol.LJ_radius[atom_type[i]-1] \n",
    "    \n",
    "    \n",
    "        if N_atom%2==0:\n",
    "            mol_crd = numpy.loadtxt(direccion_datos+molecule_name+'.crd',skiprows=2)\n",
    "            mol_crd.flatten()\n",
    "            pos = numpy.reshape(mol_crd,(N_atom,3))\n",
    "\n",
    "        elif N_atom%2!=0:\n",
    "            maximas_filas=(N_atom-1)//2\n",
    "            mol_crd=numpy.zeros(N_atom*3)\n",
    "            mol_crd_ini= numpy.loadtxt(direccion_datos+molecule_name+'.crd',skiprows=2,max_rows=maximas_filas)\n",
    "            mol_crd_end = numpy.loadtxt(direccion_datos+molecule_name+'.crd',skiprows=2+maximas_filas)\n",
    "            mol_crd[N_atom*3-3:]=mol_crd_end[:]\n",
    "            mol_crd[:N_atom*3-3]=mol_crd_ini.flatten()\n",
    "            pos = numpy.reshape(mol_crd, (N_atom, 3))\n",
    "\n",
    "            \n",
    "            \n",
    "            \n",
    "    h=open(direccion_proteinas+molecule_name+'/'+molecule_name+'.pqr','w+')\n",
    "    for i in range(N_atom):\n",
    "        h.write('ATOM   %1.0f   %s   ALGO    %1.0f   %1.3f  %1.3f  %1.3f %1.4f %1.5f \\n'%(i+1,nombre[i],tipo[i],pos[i][0],pos[i][1],pos[i][2],carga[i],radio[i])) \n",
    "    return h.close()\n"
   ]
  },
  {
   "cell_type": "markdown",
   "metadata": {},
   "source": [
    "## Correr PyGBe y gen .txt con los resultados"
   ]
  },
  {
   "cell_type": "code",
   "execution_count": null,
   "metadata": {},
   "outputs": [],
   "source": [
    "def call_pygbe(molecule):\n",
    "    os.system('pygbe '+ direccion_proteinas+ '/' +molecule)"
   ]
  },
  {
   "cell_type": "code",
   "execution_count": null,
   "metadata": {},
   "outputs": [],
   "source": [
    "def gen_results(direccion_proteinas,lista):\n",
    "    g=open(direccion_proteinas+'resultados '+str(datetime.now())[:-7] +' .txt','w+')\n",
    "    for name in lista:\n",
    "        logs=[]\n",
    "        for a,b, filenames in os.walk(direccion_proteinas+name+'/output'):\n",
    "            for log in filenames:\n",
    "                if '.log' in log:\n",
    "                    logs.append(log)\n",
    "        f=open(direccion_proteinas+name+'/output/'+logs[-1])\n",
    "        E_solv=[]\n",
    "        while(True):\n",
    "            linea=f.readline()\n",
    "            if 'E_solv = ' in linea:\n",
    "                E_solv.append(linea)\n",
    "\n",
    "            if not linea:\n",
    "                break\n",
    "        f.close()\n",
    "        os.system('mv ' +direccion_proteinas+name+'/output/'+logs[-1] + ' ' + direccion_proteinas+name+'/output/'+logs[-1][:-4]+\\\n",
    "                  '.revisado')\n",
    "        del logs\n",
    "        if E_solv!=0:\n",
    "            g.write(name+'   '+E_solv[-1])\n",
    "            #g.write(' \\n')  ###Activar en caso de que haya error con alguna molécula\n",
    "        del E_solv\n",
    "\n",
    "\n",
    "    return g.close()\n"
   ]
  },
  {
   "cell_type": "markdown",
   "metadata": {},
   "source": [
    "# Correr Funciones"
   ]
  },
  {
   "cell_type": "code",
   "execution_count": null,
   "metadata": {},
   "outputs": [],
   "source": [
    "## Generar lista, directorios y mallas(Solo una vez):\n",
    "list_molecules = lista_molec(direccion_datos)\n",
    "for molec_name in list_molecules:\n",
    "    dir_molec(direccion_proteinas,molec_name)\n",
    "    #print (molec_name)             ### En caso de Haber error con alguna Molec.\n",
    "    atom_pos, atom_radius, N_atom, atom_type = pos_radi(molec_name,OPCION,direccion_datos)\n",
    "    convert_mesh(atom_pos, atom_radius, msms, molec_name, direccion_proteinas, radius_increase, p, d)\n"
   ]
  },
  {
   "cell_type": "code",
   "execution_count": null,
   "metadata": {},
   "outputs": [],
   "source": [
    "##Generar .param, .config, .pqr:\n",
    "for molec_name in list_molecules:\n",
    "    gen_config(molec_name)\n",
    "    gen_param(molec_name)\n",
    "    gen_pqr(molec_name)\n",
    "    "
   ]
  },
  {
   "cell_type": "code",
   "execution_count": null,
   "metadata": {},
   "outputs": [],
   "source": [
    "#PyGBe y data gen:\n",
    "for molec_name in list_molecules:\n",
    "    call_pygbe(molec_name)   "
   ]
  },
  {
   "cell_type": "code",
   "execution_count": null,
   "metadata": {},
   "outputs": [],
   "source": [
    "gen_results(direccion_proteinas,list_molecules)"
   ]
  },
  {
   "cell_type": "code",
   "execution_count": null,
   "metadata": {},
   "outputs": [],
   "source": []
  }
 ],
 "metadata": {
  "kernelspec": {
   "display_name": "Python 3",
   "language": "python",
   "name": "python3"
  },
  "language_info": {
   "codemirror_mode": {
    "name": "ipython",
    "version": 3
   },
   "file_extension": ".py",
   "mimetype": "text/x-python",
   "name": "python",
   "nbconvert_exporter": "python",
   "pygments_lexer": "ipython3",
   "version": "3.7.6"
  }
 },
 "nbformat": 4,
 "nbformat_minor": 4
}
