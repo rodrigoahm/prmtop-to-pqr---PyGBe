{
 "cells": [
  {
   "cell_type": "markdown",
   "metadata": {},
   "source": [
    "## Supplementary material for \"A Simple Electrostatic Model for the Hard-Sphere Solute Component of Nonpolar Solvation\"\n",
    "#### Christopher D. Cooper and Jaydeep P. Bardhan\n",
    "\n",
    "This Jupyter notebook explores results from solvation free energy calculations using an implicit solvent model from the paper \"A Simple Electrostatic Model for the Hard-Sphere Solute Component of Nonpolar Solvation\", and molecular dynamics from Mobley et al. \"Small Molecule Hydration Free Energies in Explicit Solvent: An Extensive Test of Fixed-Charge Atomistic Simulations\" (2009). The test set corresponds to 497 small solutes from D. Mobley's paper.\n",
    "\n",
    "The code reads in the files `implicit_data.txt` and `explicit_data.txt` which are available in the Supplementary Material. These are CSV files with the names and different free energy components for the 497 molecules. "
   ]
  },
  {
   "cell_type": "code",
   "execution_count": 1,
   "metadata": {},
   "outputs": [
    {
     "data": {
      "text/html": [
       "        <script type=\"text/javascript\">\n",
       "        window.PlotlyConfig = {MathJaxConfig: 'local'};\n",
       "        if (window.MathJax) {MathJax.Hub.Config({SVG: {font: \"STIX-Web\"}});}\n",
       "        if (typeof require !== 'undefined') {\n",
       "        require.undef(\"plotly\");\n",
       "        requirejs.config({\n",
       "            paths: {\n",
       "                'plotly': ['https://cdn.plot.ly/plotly-latest.min']\n",
       "            }\n",
       "        });\n",
       "        require(['plotly'], function(Plotly) {\n",
       "            window._Plotly = Plotly;\n",
       "        });\n",
       "        }\n",
       "        </script>\n",
       "        "
      ]
     },
     "metadata": {},
     "output_type": "display_data"
    }
   ],
   "source": [
    "import numpy\n",
    "import plotly.graph_objs as go\n",
    "from plotly.offline import download_plotlyjs, init_notebook_mode, plot, iplot\n",
    "init_notebook_mode(connected=True)"
   ]
  },
  {
   "cell_type": "code",
   "execution_count": 2,
   "metadata": {},
   "outputs": [],
   "source": [
    "def read_atoms_volume(archivo):\n",
    "    moleculas = []; n_atomos = []; volumen = []; area = []\n",
    "    doc=open(archivo,'r')\n",
    "    for linea in doc.readlines():\n",
    "        L=linea.split('   ')\n",
    "        moleculas.append(L[0])\n",
    "        n_atomos.append(int(L[1]))\n",
    "        volumen.append(int(float(L[2][:7])))\n",
    "        area.append(int(float(L[3][:7])))\n",
    "    \n",
    "    return (moleculas,n_atomos,volumen,area)\n",
    "\n",
    "\n",
    "#------------------------------------------------------------------------------------------------------\n",
    "\n",
    "#------------------------------------------------------------------------------------------------------\n",
    "\n",
    "#------------------------------------------------------------------------------------------------------\n",
    "\n",
    "def separar(variable,explicit, implicit):\n",
    "    comp_explicit = open('data/explicit_comp.txt','w+')#Crear Documentos a Comparar\n",
    "    comp_explicit.write('IUPAC, SMILES, dGes, dGcav, dGdisp, dGexper, SASA, Vol\\n')\n",
    "    comp_implicit = open('data/implicit_comp.txt','w+')\n",
    "    comp_implicit.write('IUPAC, SMILES, dGes, dGcav, dGdisp, dGexper, SASA, Vol\\n')\n",
    "    new_atoms_doc = open('data/n_groups.txt','w+')\n",
    "    \n",
    "    \n",
    "    if isinstance(variable, int):                    #Si es un número se identifica el número de átomos\n",
    "        n_atoms_doc = open('data/n_atom.txt','r')  \n",
    "        for linea_atoms in n_atoms_doc.readlines():\n",
    "            lista_atoms = linea_atoms.split('   ')\n",
    "            if variable == int(lista_atoms[1]):\n",
    "                new_atoms_doc.write(linea_atoms)\n",
    "                exp = open(explicit)\n",
    "                for linea_exp in exp.readlines():\n",
    "                    lista_exp = linea_exp.split(',')\n",
    "                    if lista_exp[0]==lista_atoms[0]:\n",
    "                        comp_explicit.write(linea_exp)\n",
    "                imp = open(implicit)\n",
    "                for linea_imp in imp.readlines():\n",
    "                    lista_imp = linea_imp.split(',')\n",
    "                    if lista_imp[0]==lista_atoms[0]:\n",
    "                        comp_implicit.write(linea_imp)\n",
    "                exp.close()\n",
    "                imp.close()\n",
    "        n_atoms_doc.close()\n",
    "#-------------------------------------------------------------------------------\n",
    "            \n",
    "    elif isinstance(variable, str):\n",
    "        if len(variable)<=3:\n",
    "            exp=open(explicit)\n",
    "            imp=open(implicit)\n",
    "            for linea_exp in exp.readlines():\n",
    "                lista_exp = linea_exp.split(',')\n",
    "                n_atoms_doc = open('data/n_atom.txt','r') \n",
    "                if variable in lista_exp[1]:\n",
    "                    for linea_atoms in n_atoms_doc.readlines():\n",
    "                        if lista_exp[0] == linea_atoms.split('   ')[0]:\n",
    "                            new_atoms_doc.write(linea_atoms)\n",
    "                    comp_explicit.write(linea_exp)\n",
    "                n_atoms_doc.close()\n",
    "                    \n",
    "            for linea_imp in imp.readlines():\n",
    "                lista_imp = linea_imp.split(',')\n",
    "                if variable in lista_imp[1]:\n",
    "                    comp_implicit.write(linea_imp)\n",
    "            exp.close()\n",
    "            imp.close()\n",
    "            \n",
    "        else:\n",
    "            exp=open(explicit)\n",
    "            imp=open(implicit)\n",
    "            for linea_exp in exp.readlines():\n",
    "                lista_exp = linea_exp.split(',')\n",
    "                if variable in lista_exp[0]:\n",
    "                    for linea_atoms in n_atoms_doc.readlines():\n",
    "                        n_atoms_doc = open('data/n_atom.txt','r')\n",
    "                        if lista_exp[0] == linea_atoms.split('   ')[0]:\n",
    "                            new_atoms_doc.write(linea_atoms)\n",
    "                    comp_explicit.write(linea_exp)\n",
    "                    n_atoms_doc.close()\n",
    "                    \n",
    "            for linea_imp in imp.readlines():\n",
    "                lista_imp = linea_imp.split(',')\n",
    "                if variable in lista_imp[0]:\n",
    "                    n_atoms_doc.close()\n",
    "            imp.close()\n",
    "            exp.close()\n",
    "        \n",
    "        \n",
    "    comp_explicit.close()\n",
    "    comp_implicit.close()\n",
    "    return new_atoms_doc.close()    \n",
    "\n",
    "\n",
    "\n",
    "\n",
    "#------------------------------------------------------------------------------------------------------\n",
    "\n",
    "#------------------------------------------------------------------------------------------------------\n",
    "\n",
    "#------------------------------------------------------------------------------------------------------\n",
    "\n",
    "def grupos(variable,lim_i,lim_S,explicit,implicit,n_atoms):\n",
    "    comp_explicit = open('data/explicit_comp.txt','w+')#Crear Documentos a Comparar\n",
    "    comp_explicit.write('IUPAC, SMILES, dGes, dGcav, dGdisp, dGexper, SASA, Vol\\n')\n",
    "    comp_implicit = open('data/implicit_comp.txt','w+')\n",
    "    comp_implicit.write('IUPAC, SMILES, dGes, dGcav, dGdisp, dGexper, SASA, Vol\\n')\n",
    "    n_atoms_doc = open(n_atoms,'r')   \n",
    "    new_atoms_doc = open('data/n_groups.txt','w+')\n",
    "    \n",
    "    \n",
    "    if variable=='n':\n",
    "        for linea_atoms in n_atoms_doc.readlines():\n",
    "            lista_atoms = linea_atoms.split('   ')        \n",
    "            if lim_i<=int(lista_atoms[1])<=lim_S:\n",
    "                new_atoms_doc.write(linea_atoms)\n",
    "                exp = open(explicit)\n",
    "                for linea_exp in exp.readlines():\n",
    "                    lista_exp = linea_exp.split(',')\n",
    "                    if lista_exp[0]==lista_atoms[0]:\n",
    "                        comp_explicit.write(linea_exp)\n",
    "                imp = open(implicit)\n",
    "                for linea_imp in imp.readlines():\n",
    "                    lista_imp=linea_imp.split(',')\n",
    "                    if lista_imp[0]==lista_atoms[0]:\n",
    "                        comp_implicit.write(linea_imp)\n",
    "\n",
    "                exp.close()\n",
    "                imp.close()\n",
    "                \n",
    "    if variable=='vol':\n",
    "        for linea_atoms in n_atoms_doc.readlines():\n",
    "            lista_atoms = linea_atoms.split('   ')        \n",
    "            if lim_i<=float(lista_atoms[2][:5])<=lim_S:\n",
    "                new_atoms_doc.write(linea_atoms)\n",
    "                exp = open(explicit)\n",
    "                for linea_exp in exp.readlines():\n",
    "                    lista_exp = linea_exp.split(',')\n",
    "                    if lista_exp[0]==lista_atoms[0]:\n",
    "                        comp_explicit.write(linea_exp)\n",
    "                imp = open(implicit)\n",
    "                for linea_imp in imp.readlines():\n",
    "                    lista_imp=linea_imp.split(',')\n",
    "                    if lista_imp[0]==lista_atoms[0]:\n",
    "                        comp_implicit.write(linea_imp)\n",
    "\n",
    "                exp.close()\n",
    "                imp.close()\n",
    "                \n",
    "    if variable=='sup':\n",
    "        for linea_atoms in n_atoms_doc.readlines():\n",
    "            lista_atoms = linea_atoms.split('   ')        \n",
    "            if lim_i<=float(lista_atoms[3][:5])<=lim_S:\n",
    "                new_atoms_doc.write(linea_atoms)\n",
    "                exp = open(explicit)\n",
    "                for linea_exp in exp.readlines():\n",
    "                    lista_exp = linea_exp.split(',')\n",
    "                    if lista_exp[0]==lista_atoms[0]:\n",
    "                        comp_explicit.write(linea_exp)\n",
    "                imp = open(implicit)\n",
    "                for linea_imp in imp.readlines():\n",
    "                    lista_imp=linea_imp.split(',')\n",
    "                    if lista_imp[0]==lista_atoms[0]:\n",
    "                        comp_implicit.write(linea_imp)\n",
    "\n",
    "                exp.close()\n",
    "                imp.close()\n",
    "\n",
    "\n",
    "\n",
    "        \n",
    "    new_atoms_doc.close()\n",
    "    comp_explicit.close()\n",
    "    comp_implicit.close()\n",
    "    return n_atoms_doc.close()"
   ]
  },
  {
   "cell_type": "code",
   "execution_count": 3,
   "metadata": {},
   "outputs": [],
   "source": [
    "def plot_correl(X, Y, names,N_ATOMS,OPCION='', key='None', title='Energy', xlabel='X-axis', ylabel='Y-axis'):\n",
    "    \"\"\"\n",
    "    Uses plotly to do scatter plot of correlation between two datasets\n",
    "    Inputs:\n",
    "    -------\n",
    "        X    : (array of float) data in X axis\n",
    "        Y    : (array of float) data in Y axis\n",
    "        names: (array of string) molecule names\n",
    "        key  : (string) highlight points that contain 'key' in the name\n",
    "        title: (string) title of the plot. Defaults to 'Energy'\n",
    "        xlabel: (string) x label of the plot\n",
    "    Output:\n",
    "    -------\n",
    "        Plotly scatter plot with hover tags\n",
    "        Correlation statistics\n",
    "    \"\"\"\n",
    "    if OPCION=='num':\n",
    "        moleculas,n_atomos,volumen,area = read_atoms_volume(N_ATOMS)\n",
    "        key_true = []\n",
    "        if key=='vol':\n",
    "            key_true=volumen\n",
    "        elif key=='sup':\n",
    "            key_true=area\n",
    "        else:\n",
    "            key_true=n_atomos\n",
    "        \n",
    "    else:   \n",
    "        key_true = []\n",
    "        for i in range(len(names)):\n",
    "            if key in names[i]:\n",
    "                key_true.append(\"red\")\n",
    "            else:\n",
    "                key_true.append(\"blue\")\n",
    "\n",
    "    trace = go.Scatter(\n",
    "                x = X,\n",
    "                y = Y,\n",
    "                text = names,\n",
    "                mode='markers',\n",
    "                marker = dict(size=8,\n",
    "                            opacity=0.6, color=key_true,colorscale='Viridis',colorbar=dict(thickness=20)),\n",
    "                hoverinfo = 'text')\n",
    "\n",
    "\n",
    "    max_val = numpy.max(X)\n",
    "    min_val = numpy.min(X)\n",
    "    ref = go.Scatter( x = numpy.array([min_val,max_val]),\n",
    "                      y = numpy.array([min_val,max_val]),\n",
    "                      mode = 'lines'\n",
    "                    )\n",
    "\n",
    "    data = [trace, ref]\n",
    "    \n",
    "    layout= go.Layout(\n",
    "        title= 'Energy',\n",
    "        hovermode= 'closest',\n",
    "        xaxis= dict(\n",
    "            title= 'MD',\n",
    "            ticklen= 5,\n",
    "            zeroline= False,\n",
    "            gridwidth= 2,\n",
    "        ),\n",
    "        yaxis=dict(\n",
    "            title= 'BEM',\n",
    "            ticklen= 5,\n",
    "            gridwidth= 2,\n",
    "        ),\n",
    "        showlegend= False\n",
    "    )\n",
    "    \n",
    "    correl = numpy.corrcoef(X, Y)\n",
    "    rmsd = numpy.sqrt(numpy.sum(numpy.abs(X-Y)**2)/len(X))\n",
    "    mue = numpy.sum(numpy.abs(X-Y))/len(X)\n",
    "\n",
    "    print ('Correlation coeff: %1.4f'%correl[0,1])\n",
    "    print ('RMSD: %1.4f'%rmsd)\n",
    "    print ('MUE: %1.4f'%mue)\n",
    "    \n",
    "    fig= go.Figure(data=data, layout=layout)\n",
    "    iplot(fig)\n",
    "    \n",
    "    \n",
    "def read_explicit(filename):\n",
    "    \"\"\"\n",
    "    Reads in data of solvation free energy from explicit_data.txt (taken from Mobley et al 2009)\n",
    "    Input:\n",
    "    ------\n",
    "        filename: (string) name of file (probably explicit_data.txt)\n",
    "        \n",
    "    Output:\n",
    "    -------\n",
    "        iupac: (array of str) names of molecules in IUPAC\n",
    "        smiles: (array of str) names of molecuiles in SMILES \n",
    "        dGes: (array of float) electrostatic component of solvation free energy \n",
    "        dGcav: (array of float) free energy to generate the solute-shaped cavity \n",
    "        dGdisp: (array of float) free energy of the solute-solvent dispersion interaction \n",
    "        dGexper: (array of float) solvation free energy measured experimentally\n",
    "    \"\"\"\n",
    "    \n",
    "    iupac = []; smiles = []; dGes = []; dGcav = []; dGdisp = []; dGexper = []\n",
    "    with open(filename) as f:\n",
    "        line = f.readline()\n",
    "        line = f.readline()\n",
    "\n",
    "        while line:\n",
    "            line_split = line.split()\n",
    "            iupac.append(line_split[0][:-1])\n",
    "            smiles.append(line_split[1][:-1])\n",
    "            dGes.append(float(line_split[2][:-1]))\n",
    "            dGcav.append(float(line_split[3][:-1]))\n",
    "            dGdisp.append(float(line_split[4][:-1]))\n",
    "            dGexper.append(float(line_split[5]))\n",
    "            line = f.readline()\n",
    "\n",
    "            \n",
    "    iupac   = numpy.array(iupac)\n",
    "    smiles  = numpy.array(smiles)\n",
    "    dGes    = numpy.array(dGes)\n",
    "    dGcav   = numpy.array(dGcav)\n",
    "    dGdisp  = numpy.array(dGdisp)\n",
    "    dGexper = numpy.array(dGexper)\n",
    "    \n",
    "    return iupac, smiles, dGes, dGcav, dGdisp, dGexper\n",
    "            \n",
    "    \n",
    "def read_implicit(filename):\n",
    "    \"\"\"\n",
    "    Reads in data of solvation free energy from implicit_data.txt \n",
    "    Input:\n",
    "    ------\n",
    "        filename: (string) name of file (probably implicit_data.txt)\n",
    "        \n",
    "    Output:\n",
    "    -------\n",
    "        iupac: (array of str) names of molecules in IUPAC\n",
    "        smiles: (array of str) names of molecuiles in SMILES \n",
    "        dGes: (array of float) electrostatic component of solvation free energy \n",
    "        dGcav: (array of float) free energy to generate the solute-shaped cavity \n",
    "        dGdisp: (array of float) free energy of the solute-solvent dispersion interaction \n",
    "        dGexper: (array of float) solvation free energy measured experimentally\n",
    "        sasa: (array of float) solvent accessible surface area \n",
    "        volume: (array of float) molecular volume (inside the SAS)\n",
    "    \"\"\"\n",
    "    iupac = []; smiles = []; dGes = []; dGcav = []; dGdisp = []; dGexper = []; sasa = []; vol = [];\n",
    "    with open(filename) as f:\n",
    "        line = f.readline()\n",
    "        line = f.readline()\n",
    "\n",
    "        while line:\n",
    "            line_split = line.split()\n",
    "            iupac.append(line_split[0][:-1])\n",
    "            smiles.append(line_split[1][:-1])\n",
    "            dGes.append(float(line_split[2][:-1]))\n",
    "            dGcav.append(float(line_split[3][:-1]))\n",
    "            dGdisp.append(float(line_split[4][:-1]))\n",
    "            dGexper.append(float(line_split[5][:-1]))\n",
    "            sasa.append(float(line_split[6][:-1]))\n",
    "            vol.append(float(line_split[7]))\n",
    "            line = f.readline()\n",
    "\n",
    "            \n",
    "    iupac   = numpy.array(iupac)\n",
    "    smiles  = numpy.array(smiles)\n",
    "    dGes    = numpy.array(dGes)\n",
    "    dGcav   = numpy.array(dGcav)\n",
    "    dGdisp  = numpy.array(dGdisp)\n",
    "    dGexper = numpy.array(dGexper)\n",
    "    sasa    = numpy.array(sasa)\n",
    "    vol     = numpy.array(vol)\n",
    "    \n",
    "    return iupac, smiles, dGes, dGcav, dGdisp, dGexper, sasa, vol"
   ]
  },
  {
   "cell_type": "markdown",
   "metadata": {},
   "source": [
    "All the `_i` files are energy components for the implicit solvent model, whereas `_e` for the explicit solvent. `iupac` and `smiles` are the molecule names, which are the same in both files. `SASA` is the solvent accessible surface area and `vol` the volume of each solute.\n",
    "\n",
    "As a reminder:\n",
    "* $\\Delta G_{cav}$ is the cavity energy\n",
    "* $\\Delta G_{disp}$ is the energy of the solute-solvent dispersion interacion\n",
    "* $\\Delta G_{es}$ is the electrostatic component of free energy (charging free energy)\n",
    "* $\\Delta G_{np} = \\Delta G_{cav} + \\Delta G_{disp}$ is the nonpolar component of the solvation free energy\n",
    "* $\\Delta G = \\Delta G_{np} + \\Delta G_{es}$ is the total solvation free energy\n",
    "* $\\Delta G_{exper}$ is the solvation free energy obtained from experiments\n",
    "\n",
    "Next, you can explore the correlation between explicit and implicit solvent calculations for each energy component, and with the experimental values. You might find the following very useful:\n",
    "* Hover over the scatter plot, you'll be able to see the name of each solute, given by either IUPAC or SMILES (see docstring under the `plot_correl` function). \n",
    "* Highlight in red components with a certain string in its name using the ` key` argument. For example, if you want to see all the compounds with triple bonds, your third input argument would be `smiles` and you can add `key='#'`  \n",
    "\n",
    "\n"
   ]
  },
  {
   "cell_type": "markdown",
   "metadata": {},
   "source": [
    "* Los eps es la constante dielectrica multiplicada por 100, los datos se pueden encontrar en la carpeta `new_implicit`\n",
    "\n",
    "* Activar función de \"grupos\" para para separar la información por rangos.`var` son los tipos de rangos con los cuales se desea trabajar, `n` para el numero de átomos, `vol` para volúmen y `sup` para trabjar con superficie\n",
    "\n",
    "\n",
    "* Activar función \"separar\" para trabajar con número de átomos exactos o tipos de átomos. Las entradas pueden ser uno número cualquiera `(9)`, un átomo `('Cl','Br', etc.)`, doble enlance `('=')` o nombres `('methyl','chl',...)`\n",
    "\n",
    "* Si se desea resaltar la información por números, ya sea número de átomos, superficie o volúmen,  `OPCION ='num'` y `key='n','vol' o 'sup'`. En caso de resaltar por iupac o smiles, `OPCION=''`"
   ]
  },
  {
   "cell_type": "code",
   "execution_count": 4,
   "metadata": {
    "scrolled": false
   },
   "outputs": [
    {
     "name": "stdout",
     "output_type": "stream",
     "text": [
      "Correlation coeff: 0.9426\n",
      "RMSD: 1.0070\n",
      "MUE: 0.7892\n"
     ]
    },
    {
     "data": {
      "application/vnd.plotly.v1+json": {
       "config": {
        "linkText": "Export to plot.ly",
        "plotlyServerURL": "https://plot.ly",
        "showLink": false
       },
       "data": [
        {
         "hoverinfo": "text",
         "marker": {
          "color": [
           20,
           6,
           12,
           12,
           12,
           21,
           12,
           12,
           21,
           20,
           12,
           12,
           21,
           12,
           24,
           12,
           24,
           24,
           12,
           13,
           19,
           21,
           19,
           20,
           16,
           19,
           13,
           16,
           24,
           19,
           17,
           22,
           19,
           17,
           19,
           17,
           20,
           24,
           19,
           17,
           14,
           13,
           11,
           15,
           16,
           17,
           21,
           13,
           13,
           22,
           18,
           17,
           15,
           15,
           13,
           18,
           12,
           13,
           14,
           12,
           19,
           20,
           16,
           15,
           13,
           17,
           19,
           19,
           19,
           17,
           19,
           17,
           16,
           14,
           13,
           9,
           11,
           14,
           12,
           19,
           17,
           13,
           15,
           18,
           17,
           19,
           15,
           15,
           16,
           17,
           14,
           16,
           15,
           17,
           22,
           16,
           13,
           15,
           16,
           14,
           13,
           14,
           12,
           19,
           17,
           21,
           13,
           13,
           15,
           24,
           21,
           18,
           12,
           20,
           17,
           19,
           14,
           22,
           16,
           15,
           25,
           6,
           11,
           21,
           17,
           23,
           25,
           24,
           20,
           22,
           12,
           19,
           23,
           12,
           17,
           6,
           15,
           22,
           7,
           8,
           17,
           19,
           14,
           16,
           24,
           14,
           16,
           12,
           13,
           15,
           16,
           15,
           15,
           22,
           12,
           12,
           10,
           14,
           13,
           13,
           12,
           6,
           13,
           15,
           17,
           16,
           14,
           13,
           31,
           30,
           23,
           26,
           13,
           11,
           10,
           9,
           6,
           14,
           21,
           20,
           11,
           26,
           23,
           19,
           17,
           18,
           23,
           12,
           4,
           21,
           22,
           22,
           22,
           18,
           16,
           9,
           19,
           19,
           20,
           9,
           19,
           12,
           23,
           20,
           20,
           17,
           26,
           24,
           13,
           17,
           14,
           18,
           16,
           18,
           8,
           11,
           18,
           17,
           11,
           12,
           24,
           23,
           15,
           14,
           8,
           23,
           12,
           29,
           22,
           20,
           20,
           14,
           11,
           20,
           20,
           21,
           24,
           26,
           30,
           23,
           26,
           27,
           17,
           23,
           14,
           20,
           21,
           18,
           14,
           10,
           7,
           27,
           28,
           28,
           28,
           16,
           17,
           18,
           24,
           25,
           25,
           16,
           12,
           17,
           18,
           15,
           13,
           16,
           16,
           16,
           17,
           24,
           13,
           15,
           16,
           19,
           10,
           11,
           10,
           9,
           10,
           26,
           11,
           10,
           17,
           24,
           16,
           24,
           6,
           9,
           13,
           15,
           29,
           6,
           26,
           27,
           17,
           34
          ],
          "colorbar": {
           "thickness": 20
          },
          "colorscale": [
           [
            0,
            "#440154"
           ],
           [
            0.1111111111111111,
            "#482878"
           ],
           [
            0.2222222222222222,
            "#3e4989"
           ],
           [
            0.3333333333333333,
            "#31688e"
           ],
           [
            0.4444444444444444,
            "#26828e"
           ],
           [
            0.5555555555555556,
            "#1f9e89"
           ],
           [
            0.6666666666666666,
            "#35b779"
           ],
           [
            0.7777777777777778,
            "#6ece58"
           ],
           [
            0.8888888888888888,
            "#b5de2b"
           ],
           [
            1,
            "#fde725"
           ]
          ],
          "opacity": 0.6,
          "size": 8
         },
         "mode": "markers",
         "text": [
          "CC(OC(=O)C)OC(=O)C",
          "C=C(Cl)Cl",
          "C1=CC(=C(C(=C1Cl)Cl)Cl)Cl",
          "C1=C(C=C(C(=C1Cl)Cl)Cl)Cl",
          "C1=CC(=C(C(=C1)Cl)Cl)Cl",
          "CC1=C(C(=CC=C1)C)C",
          "C1=C(C(=CC(=C1Cl)Cl)Cl)Cl",
          "C1=CC(=C(C=C1Cl)Cl)Cl",
          "CC1=CC(=C(C=C1)C)C",
          "CC(=O)OCCOC(=O)C",
          "C1=CC=C(C(=C1)Cl)Cl",
          "C1=C(C=C(C=C1Cl)Cl)Cl",
          "CC1=CC(=CC(=C1)C)C",
          "C1=CC(=CC(=C1)Cl)Cl",
          "CC1=CC2=CC=CC=C2C(=C1)C",
          "C1=CC(=CC=C1Cl)Cl",
          "CC1=CC=C(C2=CC=CC=C12)C",
          "CCC1=CC=CC2=CC=CC=C21",
          "CN1C=CN=C1",
          "CN1C=CC=C1",
          "CC1=CCCCC1",
          "CC1=CC=CC2=CC=CC=C12",
          "C1=CC=C2C(=C1)C=CC=C2O",
          "C1=CC=C2C(=C1)C=CC=C2N",
          "CCCC[N+](=O)[O-]",
          "CCCCC[N+](=O)[O-]",
          "CCC[N+](=O)[O-]",
          "CC(=C)C(=C)C",
          "CC1=CC2=CC=CC=C2C=C1C",
          "CC1=C(C(=CC=C1)O)C",
          "CC1=C(N=CC=C1)C",
          "CC(C)C(=O)C(C)C",
          "CC1=CC(=C(C=C1)O)C",
          "CC1=CC(=NC=C1)C",
          "CC1=CC(=C(C=C1)C)O",
          "CC1=CN=C(C=C1)C",
          "CC1=C(C(=CC=C1)C)N",
          "CC1=CC2=C(C=C1)C=C(C=C2)C",
          "CC1=C(C(=CC=C1)C)O",
          "CC1=NC(=CC=C1)C",
          "C1=CC=C(C(=C1)N)Cl",
          "C1=CC=C(C(=C1)O)Cl",
          "C1=CC=NC(=C1)Cl",
          "CC1=CC=CC=C1Cl",
          "CCC1=NC=CN=C1",
          "CCC1=CC=CC=N1",
          "CCC1=CC=CC=C1C",
          "C1=CC=C(C(=C1)O)F",
          "C1=CC=C(C(=C1)O)I",
          "CC(C)CC1=NC=CN=C1",
          "COC1=CC=CC=C1N",
          "COC1=CC=CC=C1O",
          "CC=C(C)C",
          "CC=C(C)C",
          "CC(=C)C=C",
          "CCCC(=C)C",
          "CC(=C)C",
          "CC1=NC=CN=C1",
          "CC1=CC=CC=N1",
          "CC1=CC=CS1",
          "C1=CC=C2C=C(C=CC2=C1)O",
          "C1=CC=C2C=C(C=CC2=C1)N",
          "C1=CC=C(C(=C1)N)[N+](=O)[O-]",
          "C1=CC=C(C(=C1)[N+](=O)[O-])O",
          "CC(C)[N+](=O)[O-]",
          "CC1=CC=CC=C1[N+](=O)[O-]",
          "C1=CC=C(C=C1)CCO",
          "CC(=O)C(C)(C)C",
          "CC1=C(C=C(C=C1)O)C",
          "CC1=C(C=NC=C1)C",
          "CC1=CC(=CC(=C1)O)C",
          "CC1=CC(=CN=C1)C",
          "CC(=O)C1=CN=CC=C1",
          "C1=CC(=CC(=C1)Cl)N",
          "C1=CC(=CC(=C1)Cl)O",
          "C=CCCl",
          "C1=CC(=CN=C1)Cl",
          "C1=CC(=CC(=C1)O)C#N",
          "C1=CC(=CN=C1)C#N",
          "CCC1=CC(=CC=C1)O",
          "CCC1=CN=CC=C1",
          "C1=CC(=CN=C1)C=O",
          "C1=CC(=CC(=C1)O)C=O",
          "COC1=CC=CC(=C1)N",
          "COC1=CC=CC(=C1)O",
          "CC1=CNC2=CC=CC=C12",
          "CC(C)C=C",
          "CC(C)C=C",
          "CC(C)C(=O)C",
          "CC(C)CC(=O)O",
          "CC1=CN=CC=C1",
          "C1=CC(=CC(=C1)[N+](=O)[O-])N",
          "C1=CC(=CC(=C1)O)[N+](=O)[O-]",
          "CC1=CC(=CC=C1)[N+](=O)[O-]",
          "C1=CC=C(C=C1)CCCO",
          "CC(=O)C1=CC=NC=C1",
          "C1=CC(=CC=C1O)Br",
          "CC1=CC=C(C=C1)Br",
          "CC1=C(C=CC(=C1)O)Cl",
          "C1=CC(=CC=C1N)Cl",
          "C1=CC(=CC=C1O)Cl",
          "C1=CC(=CC=C1C#N)O",
          "C1=CN=CC=C1C#N",
          "CCC1=CC=C(C=C1)O",
          "CCC1=CC=NC=C1",
          "CCC1=CC=C(C=C1)C",
          "C1=CC(=CC=C1O)F",
          "C1=CN=CC=C1C=O",
          "C1=CC(=CC=C1C=O)O",
          "CC1=CC=C(C=C1)C(C)C",
          "CC(=O)C1=CC=C(C=C1)OC",
          "COC1=CC=C(C=C1)N",
          "CC1=CN=CN1",
          "CC1=CC=C(C=C1)C(=O)C",
          "CC1=CC=C(C=C1)C=O",
          "CC(C)CC(=O)C",
          "CC1=CC=NC=C1",
          "CCCC1=CC=C(C=C1)O",
          "C1=CC(=CC=C1N)[N+](=O)[O-]",
          "C1=CC(=CC=C1[N+](=O)[O-])O",
          "CC(C)(C)C1=CC=C(C=C1)O",
          "C(=CCl)Cl",
          "CC=CC=O",
          "CCCCC=CC",
          "CCCC=CC=O",
          "CCCCCC=CC=O",
          "CC1=CC=C(C=C1)C(=O)N(C)C",
          "CN(C)C(=O)C1=CC=C(C=C1)[N+](=O",
          "CN(C)C1=CC=CC=C1",
          "CN(C)C(=O)C1=CC=CC=C1",
          "CN(C)C=O",
          "CC(=O)N1CCCC1",
          "CN(CC(F)(F)F)C1=CC=CC=C1",
          "CC(=O)NC",
          "CNC1=CC=CC=C1",
          "C(=CCl)Cl",
          "CCC=CC",
          "C1CC2=CC=CC3=C2C1=CC=C3",
          "CC=O",
          "CC(=O)O",
          "CC(=O)C1=CC=CC=C1",
          "CC(=C)C1=CC=CC=C1",
          "C1=CC=C(C=C1)N",
          "COC1=CC=CC=C1",
          "C1=CC=C2C=C3C=CC=CC3=CC2=C1",
          "C1=CC=C(C=C1)C=O",
          "C1=CC=C(C=C1)C(=O)N",
          "C1=CC=CC=C1",
          "C1=CC=C(C=C1)C#N",
          "C1=CC=C(C=C1)C(F)(F)F",
          "C1=CC=C(C=C1)CO",
          "C1=CC=C(C=C1)CBr",
          "C1=CC=C(C=C1)CCl",
          "C1=CC=C(C=C1)C2=CC=CC=C2",
          "C1=CC=C(C=C1)Br",
          "CCC=C",
          "C=CC=C",
          "CCCC(=O)O",
          "CCCC=O",
          "CCCC=O",
          "C1=CC=C(C=C1)Cl",
          "C=CCl",
          "C1=CC=C(C=C1)C#N",
          "C1C=CC=CC=C1",
          "C1CCC(=O)CC1",
          "C1CCC=CC1",
          "C1CCC(=O)C1",
          "C1CC=CC1",
          "CCCCCCCCC(=O)C",
          "CCOC(OCC)OC1=CC=CC=C1",
          "CCOC(=O)CC(=O)OCC",
          "CCOC(=O)CCC(=O)OCC",
          "COS(=O)(=O)OC",
          "CS(=O)(=O)C",
          "CS(=O)C",
          "CC(=O)N",
          "C=C",
          "CCOC(=O)C",
          "CCOC(=O)C1=CC=CC=C1",
          "CCCC(=O)OCC",
          "CCOC=O",
          "CCCCCC(=O)OCC",
          "CCCCC(=O)OCC",
          "CCOC1=CC=CC=C1",
          "CCC(=O)OCC",
          "CCC1=CC=CC=C1",
          "C1C2=CC=CC=C2C3=CC=CC=C31",
          "C1=CC=C(C=C1)F",
          "C=O",
          "CCCCCC=C",
          "CCCCCC(=O)C",
          "CCCC(=O)CCC",
          "CCCCCCC=O",
          "CCCCC=C",
          "C=CCCC=C",
          "C(=C(F)F)(C(F)(F)F)F",
          "CCCCC(=O)C",
          "CCCCCC=O",
          "CCCCCC(=O)O",
          "C1=CN=CN1",
          "C1CC2=CC=CC=C2C1",
          "C1=CC=C(C=C1)I",
          "CC(C)CCOC(=O)C",
          "CC(C)CCOC=O",
          "CC(C)COC(=O)C",
          "CC(C)COC=O",
          "CC(C)COC(=O)C(C)C",
          "CC(C)CC1=CC=CC=C1",
          "CC(C)C=O",
          "CC(C)OC(=O)C",
          "CC(C)OC=O",
          "C1=CC=C(C(=C1)C(F)(F)F)C(F)(F)",
          "CC1=CC(=CC=C1)O",
          "CC1=CC(=CC=C1)C",
          "CS(=O)(=O)Cl",
          "CC(=O)OC",
          "COC(=O)C1=CC=CC=C1",
          "CCCC(=O)OC",
          "COC(=O)CCl",
          "COC(=O)CC#N",
          "COC(=O)C1CCCCC1",
          "CC(=O)C1CCCCC1",
          "COC(=O)C1CC1",
          "CC(=O)C1CC1",
          "COC=O",
          "CCCCCC(=O)OC",
          "COS(=O)(=O)C",
          "CCCCCCCC(=O)OC",
          "COC1=CC=C(C=C1)C(=O)OC",
          "COC(=O)C1=CC=C(C=C1)[N+](=O)[O",
          "CCCCC(=O)OC",
          "CCC(=O)OC",
          "COC(=O)C(F)(F)F",
          "CC(C)(C)C(=O)OC",
          "CCCCOC(=O)C",
          "CCCCCC(=O)N",
          "CCCCC1=CC=CC=C1",
          "CCCCCCOC(=O)C",
          "CCCCCCC1=CC=CC=C1",
          "CCCCCOC(=O)C",
          "CCCCCOC(=O)CC",
          "CCCCCC1=CC=CC=C1",
          "CCCOC(=O)C",
          "CCCC(=O)OCCC",
          "CCCOC=O",
          "CCCOC(=O)CC",
          "CCCC1=CC=CC=C1",
          "C1=CC=C2C=CC=CC2=C1",
          "C1=CC=C(C=C1)[N+](=O)[O-]",
          "CC[N+](=O)[O-]",
          "C[N+](=O)[O-]",
          "CCCCCCCC=C",
          "CCCCCCCC(=O)C",
          "CCCCC(=O)CCCC",
          "CCCCCCCCC=O",
          "CC1=CC=CC=C1O",
          "CC1=CC=CC=C1N",
          "CC1=CC=CC=C1C",
          "CCCCCCC=C",
          "CCCCCCC(=O)C",
          "CCCCCCCC=O",
          "CC1=CC=C(C=C1)O",
          "C1=CC(=CC=C1Br)Br",
          "CC1=CC=C(C=C1)N",
          "CC1=CC=C(C=C1)C",
          "CCCC=C",
          "C=CCC=C",
          "CCCC(=O)C",
          "CCC(=O)CC",
          "CCCCC=O",
          "CCCCC(=O)O",
          "C1=CC=C2C(=C1)C=CC3=CC=CC=C32",
          "C1=CC=C(C=C1)O",
          "C1=CC=C(C=C1)OC=O",
          "CSC1=CC=CC=C1",
          "FC(C(F)F)OC1=CC=CC=C1",
          "C=CCO",
          "CCC(=O)O",
          "CC(=O)C",
          "CC=C",
          "CCC=O",
          "C1=CC2=C3C(=C1)C=CC4=CC=CC(=C4",
          "C1=CC=NC=C1",
          "C1=CNC=C1",
          "C1=CC=C2C(=C1)C=CC=N2",
          "CCC(C)C1=CC=CC=C1",
          "C=CC1=CC=CC=C1",
          "CC(C)(C)C1=CC=CC=C1",
          "C(=C(Cl)Cl)(Cl)Cl",
          "C1=CSC=C1",
          "C1=CC=C(C=C1)S",
          "CC1=CC=CC=C1",
          "C(C)(=O)C(C(C)=O)(C(C(C)=O)(CO",
          "C(=C(Cl)Cl)Cl",
          "CCOP(=O)(OCC)OCC",
          "COC(C1=CC=CC=C1)(OC)OC",
          "COP(=O)(OC)OC",
          "CCCCCCCCCC(=O)C"
         ],
         "type": "scatter",
         "x": [
          -9.52,
          -0.85,
          -1.25,
          -0.92,
          -1.67,
          -2.79,
          -0.97,
          -1.35,
          -2.75,
          -9.93,
          -1.96,
          -0.96,
          -2.73,
          -1.6,
          -4.5,
          -1.63,
          -4.5,
          -4.61,
          -7.06,
          -3.9,
          -0.66,
          -4.52,
          -8.31,
          -8.63,
          -2.43,
          -2.4,
          -2.44,
          -1.11,
          -4.43,
          -6.49,
          -4.79,
          -5.13,
          -6.48,
          -4.94,
          -5.97,
          -4.76,
          -6.51,
          -4.42,
          -5.78,
          -5.15,
          -6.04,
          -4.51,
          -4.85,
          -2.18,
          -6.94,
          -4.96,
          -2.85,
          -4.89,
          -3.93,
          -6.81,
          -7.69,
          -6,
          -0.56,
          -0.55,
          -1.12,
          -0.4,
          -0.45,
          -6.99,
          -4.95,
          -1.9,
          -8.7,
          -8.83,
          -7.84,
          -5.4,
          -2.54,
          -3.79,
          -7.05,
          -5.18,
          -6.86,
          -4.59,
          -7.01,
          -4.47,
          -8.04,
          -6.41,
          -6.38,
          -1.48,
          -3.78,
          -8.16,
          -5.79,
          -6.91,
          -4.59,
          -8.22,
          -10.18,
          -8.44,
          -8.1,
          -7.53,
          -0.33,
          -0.34,
          -5.34,
          -6.99,
          -4.56,
          -8,
          -7.45,
          -3.51,
          -7.38,
          -8.38,
          -6.59,
          -2.2,
          -6.38,
          -6.47,
          -6.53,
          -8.72,
          -5.99,
          -7.07,
          -4.72,
          -2.78,
          -6.51,
          -8.13,
          -10.85,
          -2.53,
          -7.89,
          -8.09,
          -8.85,
          -6.7,
          -6.43,
          -5.28,
          -4.73,
          -6.96,
          -9.03,
          -8.04,
          -7.21,
          -0.87,
          -5.82,
          -0.43,
          -5.48,
          -5.37,
          -9.1,
          -9.24,
          -6.13,
          -9.17,
          -8.13,
          -8.86,
          -6.24,
          -9.93,
          -7.1,
          -1.72,
          -0.42,
          -4.89,
          -5.18,
          -7.07,
          -6.67,
          -3.53,
          -7,
          -3.98,
          -5.97,
          -6.36,
          -10.97,
          -2.7,
          -4.13,
          -3.02,
          -6.94,
          -3.13,
          -3.37,
          -4.97,
          -2.2,
          -0.37,
          -0.96,
          -6.92,
          -5.05,
          -5.07,
          -2.13,
          -1.06,
          -4.14,
          -1.97,
          -5.14,
          -0.53,
          -4.85,
          -0.58,
          -5.26,
          -7.19,
          -8.27,
          -10.32,
          -8.13,
          -11.21,
          -9.68,
          -9.94,
          -0.3,
          -5.14,
          -6.33,
          -5.39,
          -4.52,
          -5.43,
          -5.47,
          -4.12,
          -5.51,
          -2.76,
          -5.31,
          -2.1,
          -4.87,
          -0.33,
          -5.3,
          -5.19,
          -5.06,
          -0.33,
          -0.65,
          -1.17,
          -5.28,
          -5.09,
          -6.93,
          -8.49,
          -2.97,
          -2.11,
          -5.44,
          -5.17,
          -5.23,
          -5,
          -5.29,
          -2.66,
          -4.98,
          -5.15,
          -4.37,
          -4.19,
          -6.94,
          -2.71,
          -6.85,
          -5.44,
          -6.3,
          -5.36,
          -5.16,
          -6.89,
          -5.51,
          -5.38,
          -6.3,
          -5.82,
          -4.48,
          -5.36,
          -8.81,
          -5.31,
          -7.45,
          -6.27,
          -5.43,
          -5.47,
          -3.4,
          -5.28,
          -5.45,
          -9.76,
          -2.76,
          -5.49,
          -2.71,
          -5.4,
          -5.96,
          -2.75,
          -5.3,
          -5.35,
          -5.03,
          -5.45,
          -2.72,
          -4.51,
          -3.63,
          -2.47,
          -2.53,
          -0.33,
          -5.29,
          -5.2,
          -5.09,
          -6.55,
          -6.81,
          -2.75,
          -0.33,
          -5.31,
          -5.12,
          -6.95,
          -1.7,
          -6.91,
          -2.71,
          -0.34,
          -0.7,
          -5.25,
          -5.23,
          -5.08,
          -7.01,
          -6,
          -7.01,
          -6.26,
          -3.14,
          -5.49,
          -5.18,
          -7.64,
          -5.31,
          -0.37,
          -5.06,
          -7.03,
          -4.75,
          -5.16,
          -5.7,
          -2.72,
          -3.34,
          -2.98,
          -0.09,
          -1.88,
          -3.26,
          -2.7,
          -13.83,
          -0.82,
          -11.94,
          -7.42,
          -11.33,
          -5.26
         ],
         "y": [
          -7.4284,
          -0.9557,
          -1.3598,
          -1.049,
          -1.7867,
          -2.0052,
          -1.1029,
          -1.5809,
          -1.9892,
          -8.6547,
          -2.0653,
          -1.2357,
          -1.9753,
          -1.8123,
          -3.4925,
          -1.897,
          -3.5023,
          -3.5551,
          -5.3171,
          -3.0452,
          -0.5396,
          -3.6312,
          -9.0344,
          -8.0269,
          -2.3412,
          -2.3,
          -2.3681,
          -1.0806,
          -3.4986,
          -6.9247,
          -3.5102,
          -3.4691,
          -6.9205,
          -3.5872,
          -5.2048,
          -3.4368,
          -5.4443,
          -3.4956,
          -5.0373,
          -3.486,
          -6.6646,
          -5.1107,
          -4.1224,
          -2.0612,
          -5.2746,
          -3.5616,
          -2.0577,
          -5.6379,
          -4.1409,
          -4.8756,
          -7.6767,
          -6.6327,
          -0.5397,
          -0.5397,
          -1.0603,
          -0.4553,
          -0.4957,
          -5.5172,
          -3.6648,
          -1.77,
          -9.4159,
          -8.5184,
          -7.1046,
          -9.6655,
          -2.3916,
          -3.1086,
          -7.0814,
          -3.8026,
          -7.1291,
          -3.5496,
          -7.3925,
          -3.3815,
          -6.7251,
          -6.8149,
          -7.0784,
          -1.7194,
          -3.2994,
          -9.2963,
          -5.3354,
          -7.1784,
          -3.5459,
          -7.1845,
          -10.4298,
          -8.4557,
          -8.9718,
          -6.9905,
          -0.3989,
          -0.3989,
          -3.9647,
          -8.6384,
          -3.6158,
          -8.5945,
          -8.5674,
          -3.2831,
          -6.9552,
          -7.0095,
          -7.4888,
          -2.0479,
          -7.0088,
          -7.0842,
          -7.4788,
          -9.4847,
          -5.4477,
          -7.4463,
          -3.7004,
          -2.0232,
          -7.4495,
          -7.0983,
          -11.3836,
          -1.8742,
          -7.1141,
          -8.285,
          -7.5457,
          -5.4697,
          -5.5581,
          -3.8994,
          -3.7608,
          -7.4234,
          -9.6921,
          -8.9956,
          -7.5814,
          -1.1345,
          -4.9261,
          -0.4577,
          -4.5984,
          -4.5401,
          -7.4937,
          -8.2821,
          -4.4366,
          -7.527,
          -6.1981,
          -6.2257,
          -6.1704,
          -8.0934,
          -6.2413,
          -1.8878,
          -0.4514,
          -3.7695,
          -4.4299,
          -9.1645,
          -5.5633,
          -2.7063,
          -7.03,
          -3.7082,
          -5.0016,
          -5.6353,
          -10.3423,
          -2.2608,
          -4.0076,
          -3.0459,
          -6.1488,
          -2.9052,
          -3.1666,
          -3.5298,
          -2.1684,
          -0.4186,
          -1.0307,
          -8.6825,
          -4.2146,
          -4.2146,
          -2.1536,
          -1.1914,
          -4.0076,
          -2.0829,
          -3.8973,
          -0.527,
          -3.8425,
          -0.5958,
          -3.9848,
          -5.2591,
          -8.2654,
          -7.2142,
          -7.4066,
          -9.3036,
          -7.3847,
          -9.3957,
          -0.4328,
          -4.1098,
          -5.1236,
          -3.9326,
          -4.1483,
          -3.9741,
          -3.9692,
          -3.4999,
          -4.0523,
          -2.1166,
          -4.3136,
          -2.1413,
          -4.5766,
          -0.4368,
          -3.9626,
          -3.6347,
          -4.1932,
          -0.4358,
          -0.8224,
          -1.3188,
          -3.9765,
          -4.2273,
          -8.6723,
          -7.6514,
          -2.1961,
          -2.1808,
          -4.1361,
          -4.5209,
          -3.9925,
          -4.3996,
          -3.6169,
          -1.8818,
          -3.9895,
          -4.1671,
          -4.142,
          -4.3528,
          -7.2323,
          -2.0749,
          -7.2576,
          -4.5238,
          -5.3262,
          -4.0528,
          -4.95,
          -6.973,
          -3.8111,
          -3.9255,
          -4.3519,
          -3.8495,
          -4.3011,
          -4.0983,
          -7.6016,
          -4.1025,
          -6.574,
          -5.7987,
          -4.1384,
          -4.2363,
          -3.596,
          -3.8362,
          -4.2409,
          -8.9556,
          -2.0942,
          -4.2311,
          -2.1105,
          -4.2424,
          -3.9508,
          -2.0977,
          -4.1295,
          -3.8276,
          -4.5097,
          -3.9411,
          -2.0931,
          -3.7581,
          -3.4974,
          -2.4684,
          -2.6741,
          -0.4525,
          -3.996,
          -3.7137,
          -4.2603,
          -7.0389,
          -6.3838,
          -2.1005,
          -0.4368,
          -3.9777,
          -4.286,
          -7.4954,
          -1.8797,
          -6.874,
          -2.0796,
          -0.4285,
          -0.9307,
          -3.9644,
          -3.8285,
          -4.2013,
          -8.7249,
          -5.0197,
          -7.6241,
          -6.2827,
          -2.9033,
          -6.3219,
          -5.2237,
          -8.7648,
          -4.2486,
          -0.4654,
          -4.2476,
          -5.8174,
          -3.8411,
          -5.2568,
          -4.6111,
          -1.9666,
          -2.717,
          -2.0874,
          -0.0754,
          -1.8752,
          -3.8862,
          -2.1731,
          -13.5935,
          -0.9563,
          -8.8958,
          -5.2576,
          -9.4001,
          -4.0298
         ]
        },
        {
         "mode": "lines",
         "type": "scatter",
         "x": [
          -13.83,
          -0.09
         ],
         "y": [
          -13.83,
          -0.09
         ]
        }
       ],
       "layout": {
        "hovermode": "closest",
        "showlegend": false,
        "template": {
         "data": {
          "bar": [
           {
            "error_x": {
             "color": "#2a3f5f"
            },
            "error_y": {
             "color": "#2a3f5f"
            },
            "marker": {
             "line": {
              "color": "#E5ECF6",
              "width": 0.5
             }
            },
            "type": "bar"
           }
          ],
          "barpolar": [
           {
            "marker": {
             "line": {
              "color": "#E5ECF6",
              "width": 0.5
             }
            },
            "type": "barpolar"
           }
          ],
          "carpet": [
           {
            "aaxis": {
             "endlinecolor": "#2a3f5f",
             "gridcolor": "white",
             "linecolor": "white",
             "minorgridcolor": "white",
             "startlinecolor": "#2a3f5f"
            },
            "baxis": {
             "endlinecolor": "#2a3f5f",
             "gridcolor": "white",
             "linecolor": "white",
             "minorgridcolor": "white",
             "startlinecolor": "#2a3f5f"
            },
            "type": "carpet"
           }
          ],
          "choropleth": [
           {
            "colorbar": {
             "outlinewidth": 0,
             "ticks": ""
            },
            "type": "choropleth"
           }
          ],
          "contour": [
           {
            "colorbar": {
             "outlinewidth": 0,
             "ticks": ""
            },
            "colorscale": [
             [
              0,
              "#0d0887"
             ],
             [
              0.1111111111111111,
              "#46039f"
             ],
             [
              0.2222222222222222,
              "#7201a8"
             ],
             [
              0.3333333333333333,
              "#9c179e"
             ],
             [
              0.4444444444444444,
              "#bd3786"
             ],
             [
              0.5555555555555556,
              "#d8576b"
             ],
             [
              0.6666666666666666,
              "#ed7953"
             ],
             [
              0.7777777777777778,
              "#fb9f3a"
             ],
             [
              0.8888888888888888,
              "#fdca26"
             ],
             [
              1,
              "#f0f921"
             ]
            ],
            "type": "contour"
           }
          ],
          "contourcarpet": [
           {
            "colorbar": {
             "outlinewidth": 0,
             "ticks": ""
            },
            "type": "contourcarpet"
           }
          ],
          "heatmap": [
           {
            "colorbar": {
             "outlinewidth": 0,
             "ticks": ""
            },
            "colorscale": [
             [
              0,
              "#0d0887"
             ],
             [
              0.1111111111111111,
              "#46039f"
             ],
             [
              0.2222222222222222,
              "#7201a8"
             ],
             [
              0.3333333333333333,
              "#9c179e"
             ],
             [
              0.4444444444444444,
              "#bd3786"
             ],
             [
              0.5555555555555556,
              "#d8576b"
             ],
             [
              0.6666666666666666,
              "#ed7953"
             ],
             [
              0.7777777777777778,
              "#fb9f3a"
             ],
             [
              0.8888888888888888,
              "#fdca26"
             ],
             [
              1,
              "#f0f921"
             ]
            ],
            "type": "heatmap"
           }
          ],
          "heatmapgl": [
           {
            "colorbar": {
             "outlinewidth": 0,
             "ticks": ""
            },
            "colorscale": [
             [
              0,
              "#0d0887"
             ],
             [
              0.1111111111111111,
              "#46039f"
             ],
             [
              0.2222222222222222,
              "#7201a8"
             ],
             [
              0.3333333333333333,
              "#9c179e"
             ],
             [
              0.4444444444444444,
              "#bd3786"
             ],
             [
              0.5555555555555556,
              "#d8576b"
             ],
             [
              0.6666666666666666,
              "#ed7953"
             ],
             [
              0.7777777777777778,
              "#fb9f3a"
             ],
             [
              0.8888888888888888,
              "#fdca26"
             ],
             [
              1,
              "#f0f921"
             ]
            ],
            "type": "heatmapgl"
           }
          ],
          "histogram": [
           {
            "marker": {
             "colorbar": {
              "outlinewidth": 0,
              "ticks": ""
             }
            },
            "type": "histogram"
           }
          ],
          "histogram2d": [
           {
            "colorbar": {
             "outlinewidth": 0,
             "ticks": ""
            },
            "colorscale": [
             [
              0,
              "#0d0887"
             ],
             [
              0.1111111111111111,
              "#46039f"
             ],
             [
              0.2222222222222222,
              "#7201a8"
             ],
             [
              0.3333333333333333,
              "#9c179e"
             ],
             [
              0.4444444444444444,
              "#bd3786"
             ],
             [
              0.5555555555555556,
              "#d8576b"
             ],
             [
              0.6666666666666666,
              "#ed7953"
             ],
             [
              0.7777777777777778,
              "#fb9f3a"
             ],
             [
              0.8888888888888888,
              "#fdca26"
             ],
             [
              1,
              "#f0f921"
             ]
            ],
            "type": "histogram2d"
           }
          ],
          "histogram2dcontour": [
           {
            "colorbar": {
             "outlinewidth": 0,
             "ticks": ""
            },
            "colorscale": [
             [
              0,
              "#0d0887"
             ],
             [
              0.1111111111111111,
              "#46039f"
             ],
             [
              0.2222222222222222,
              "#7201a8"
             ],
             [
              0.3333333333333333,
              "#9c179e"
             ],
             [
              0.4444444444444444,
              "#bd3786"
             ],
             [
              0.5555555555555556,
              "#d8576b"
             ],
             [
              0.6666666666666666,
              "#ed7953"
             ],
             [
              0.7777777777777778,
              "#fb9f3a"
             ],
             [
              0.8888888888888888,
              "#fdca26"
             ],
             [
              1,
              "#f0f921"
             ]
            ],
            "type": "histogram2dcontour"
           }
          ],
          "mesh3d": [
           {
            "colorbar": {
             "outlinewidth": 0,
             "ticks": ""
            },
            "type": "mesh3d"
           }
          ],
          "parcoords": [
           {
            "line": {
             "colorbar": {
              "outlinewidth": 0,
              "ticks": ""
             }
            },
            "type": "parcoords"
           }
          ],
          "pie": [
           {
            "automargin": true,
            "type": "pie"
           }
          ],
          "scatter": [
           {
            "marker": {
             "colorbar": {
              "outlinewidth": 0,
              "ticks": ""
             }
            },
            "type": "scatter"
           }
          ],
          "scatter3d": [
           {
            "line": {
             "colorbar": {
              "outlinewidth": 0,
              "ticks": ""
             }
            },
            "marker": {
             "colorbar": {
              "outlinewidth": 0,
              "ticks": ""
             }
            },
            "type": "scatter3d"
           }
          ],
          "scattercarpet": [
           {
            "marker": {
             "colorbar": {
              "outlinewidth": 0,
              "ticks": ""
             }
            },
            "type": "scattercarpet"
           }
          ],
          "scattergeo": [
           {
            "marker": {
             "colorbar": {
              "outlinewidth": 0,
              "ticks": ""
             }
            },
            "type": "scattergeo"
           }
          ],
          "scattergl": [
           {
            "marker": {
             "colorbar": {
              "outlinewidth": 0,
              "ticks": ""
             }
            },
            "type": "scattergl"
           }
          ],
          "scattermapbox": [
           {
            "marker": {
             "colorbar": {
              "outlinewidth": 0,
              "ticks": ""
             }
            },
            "type": "scattermapbox"
           }
          ],
          "scatterpolar": [
           {
            "marker": {
             "colorbar": {
              "outlinewidth": 0,
              "ticks": ""
             }
            },
            "type": "scatterpolar"
           }
          ],
          "scatterpolargl": [
           {
            "marker": {
             "colorbar": {
              "outlinewidth": 0,
              "ticks": ""
             }
            },
            "type": "scatterpolargl"
           }
          ],
          "scatterternary": [
           {
            "marker": {
             "colorbar": {
              "outlinewidth": 0,
              "ticks": ""
             }
            },
            "type": "scatterternary"
           }
          ],
          "surface": [
           {
            "colorbar": {
             "outlinewidth": 0,
             "ticks": ""
            },
            "colorscale": [
             [
              0,
              "#0d0887"
             ],
             [
              0.1111111111111111,
              "#46039f"
             ],
             [
              0.2222222222222222,
              "#7201a8"
             ],
             [
              0.3333333333333333,
              "#9c179e"
             ],
             [
              0.4444444444444444,
              "#bd3786"
             ],
             [
              0.5555555555555556,
              "#d8576b"
             ],
             [
              0.6666666666666666,
              "#ed7953"
             ],
             [
              0.7777777777777778,
              "#fb9f3a"
             ],
             [
              0.8888888888888888,
              "#fdca26"
             ],
             [
              1,
              "#f0f921"
             ]
            ],
            "type": "surface"
           }
          ],
          "table": [
           {
            "cells": {
             "fill": {
              "color": "#EBF0F8"
             },
             "line": {
              "color": "white"
             }
            },
            "header": {
             "fill": {
              "color": "#C8D4E3"
             },
             "line": {
              "color": "white"
             }
            },
            "type": "table"
           }
          ]
         },
         "layout": {
          "annotationdefaults": {
           "arrowcolor": "#2a3f5f",
           "arrowhead": 0,
           "arrowwidth": 1
          },
          "coloraxis": {
           "colorbar": {
            "outlinewidth": 0,
            "ticks": ""
           }
          },
          "colorscale": {
           "diverging": [
            [
             0,
             "#8e0152"
            ],
            [
             0.1,
             "#c51b7d"
            ],
            [
             0.2,
             "#de77ae"
            ],
            [
             0.3,
             "#f1b6da"
            ],
            [
             0.4,
             "#fde0ef"
            ],
            [
             0.5,
             "#f7f7f7"
            ],
            [
             0.6,
             "#e6f5d0"
            ],
            [
             0.7,
             "#b8e186"
            ],
            [
             0.8,
             "#7fbc41"
            ],
            [
             0.9,
             "#4d9221"
            ],
            [
             1,
             "#276419"
            ]
           ],
           "sequential": [
            [
             0,
             "#0d0887"
            ],
            [
             0.1111111111111111,
             "#46039f"
            ],
            [
             0.2222222222222222,
             "#7201a8"
            ],
            [
             0.3333333333333333,
             "#9c179e"
            ],
            [
             0.4444444444444444,
             "#bd3786"
            ],
            [
             0.5555555555555556,
             "#d8576b"
            ],
            [
             0.6666666666666666,
             "#ed7953"
            ],
            [
             0.7777777777777778,
             "#fb9f3a"
            ],
            [
             0.8888888888888888,
             "#fdca26"
            ],
            [
             1,
             "#f0f921"
            ]
           ],
           "sequentialminus": [
            [
             0,
             "#0d0887"
            ],
            [
             0.1111111111111111,
             "#46039f"
            ],
            [
             0.2222222222222222,
             "#7201a8"
            ],
            [
             0.3333333333333333,
             "#9c179e"
            ],
            [
             0.4444444444444444,
             "#bd3786"
            ],
            [
             0.5555555555555556,
             "#d8576b"
            ],
            [
             0.6666666666666666,
             "#ed7953"
            ],
            [
             0.7777777777777778,
             "#fb9f3a"
            ],
            [
             0.8888888888888888,
             "#fdca26"
            ],
            [
             1,
             "#f0f921"
            ]
           ]
          },
          "colorway": [
           "#636efa",
           "#EF553B",
           "#00cc96",
           "#ab63fa",
           "#FFA15A",
           "#19d3f3",
           "#FF6692",
           "#B6E880",
           "#FF97FF",
           "#FECB52"
          ],
          "font": {
           "color": "#2a3f5f"
          },
          "geo": {
           "bgcolor": "white",
           "lakecolor": "white",
           "landcolor": "#E5ECF6",
           "showlakes": true,
           "showland": true,
           "subunitcolor": "white"
          },
          "hoverlabel": {
           "align": "left"
          },
          "hovermode": "closest",
          "mapbox": {
           "style": "light"
          },
          "paper_bgcolor": "white",
          "plot_bgcolor": "#E5ECF6",
          "polar": {
           "angularaxis": {
            "gridcolor": "white",
            "linecolor": "white",
            "ticks": ""
           },
           "bgcolor": "#E5ECF6",
           "radialaxis": {
            "gridcolor": "white",
            "linecolor": "white",
            "ticks": ""
           }
          },
          "scene": {
           "xaxis": {
            "backgroundcolor": "#E5ECF6",
            "gridcolor": "white",
            "gridwidth": 2,
            "linecolor": "white",
            "showbackground": true,
            "ticks": "",
            "zerolinecolor": "white"
           },
           "yaxis": {
            "backgroundcolor": "#E5ECF6",
            "gridcolor": "white",
            "gridwidth": 2,
            "linecolor": "white",
            "showbackground": true,
            "ticks": "",
            "zerolinecolor": "white"
           },
           "zaxis": {
            "backgroundcolor": "#E5ECF6",
            "gridcolor": "white",
            "gridwidth": 2,
            "linecolor": "white",
            "showbackground": true,
            "ticks": "",
            "zerolinecolor": "white"
           }
          },
          "shapedefaults": {
           "line": {
            "color": "#2a3f5f"
           }
          },
          "ternary": {
           "aaxis": {
            "gridcolor": "white",
            "linecolor": "white",
            "ticks": ""
           },
           "baxis": {
            "gridcolor": "white",
            "linecolor": "white",
            "ticks": ""
           },
           "bgcolor": "#E5ECF6",
           "caxis": {
            "gridcolor": "white",
            "linecolor": "white",
            "ticks": ""
           }
          },
          "title": {
           "x": 0.05
          },
          "xaxis": {
           "automargin": true,
           "gridcolor": "white",
           "linecolor": "white",
           "ticks": "",
           "title": {
            "standoff": 15
           },
           "zerolinecolor": "white",
           "zerolinewidth": 2
          },
          "yaxis": {
           "automargin": true,
           "gridcolor": "white",
           "linecolor": "white",
           "ticks": "",
           "title": {
            "standoff": 15
           },
           "zerolinecolor": "white",
           "zerolinewidth": 2
          }
         }
        },
        "title": {
         "text": "Energy"
        },
        "xaxis": {
         "gridwidth": 2,
         "ticklen": 5,
         "title": {
          "text": "MD"
         },
         "zeroline": false
        },
        "yaxis": {
         "gridwidth": 2,
         "ticklen": 5,
         "title": {
          "text": "BEM"
         }
        }
       }
      },
      "text/html": [
       "<div>\n",
       "        \n",
       "        \n",
       "            <div id=\"38f70d18-069e-4a3a-92a3-ea7f8b3999af\" class=\"plotly-graph-div\" style=\"height:525px; width:100%;\"></div>\n",
       "            <script type=\"text/javascript\">\n",
       "                require([\"plotly\"], function(Plotly) {\n",
       "                    window.PLOTLYENV=window.PLOTLYENV || {};\n",
       "                    \n",
       "                if (document.getElementById(\"38f70d18-069e-4a3a-92a3-ea7f8b3999af\")) {\n",
       "                    Plotly.newPlot(\n",
       "                        '38f70d18-069e-4a3a-92a3-ea7f8b3999af',\n",
       "                        [{\"hoverinfo\": \"text\", \"marker\": {\"color\": [20, 6, 12, 12, 12, 21, 12, 12, 21, 20, 12, 12, 21, 12, 24, 12, 24, 24, 12, 13, 19, 21, 19, 20, 16, 19, 13, 16, 24, 19, 17, 22, 19, 17, 19, 17, 20, 24, 19, 17, 14, 13, 11, 15, 16, 17, 21, 13, 13, 22, 18, 17, 15, 15, 13, 18, 12, 13, 14, 12, 19, 20, 16, 15, 13, 17, 19, 19, 19, 17, 19, 17, 16, 14, 13, 9, 11, 14, 12, 19, 17, 13, 15, 18, 17, 19, 15, 15, 16, 17, 14, 16, 15, 17, 22, 16, 13, 15, 16, 14, 13, 14, 12, 19, 17, 21, 13, 13, 15, 24, 21, 18, 12, 20, 17, 19, 14, 22, 16, 15, 25, 6, 11, 21, 17, 23, 25, 24, 20, 22, 12, 19, 23, 12, 17, 6, 15, 22, 7, 8, 17, 19, 14, 16, 24, 14, 16, 12, 13, 15, 16, 15, 15, 22, 12, 12, 10, 14, 13, 13, 12, 6, 13, 15, 17, 16, 14, 13, 31, 30, 23, 26, 13, 11, 10, 9, 6, 14, 21, 20, 11, 26, 23, 19, 17, 18, 23, 12, 4, 21, 22, 22, 22, 18, 16, 9, 19, 19, 20, 9, 19, 12, 23, 20, 20, 17, 26, 24, 13, 17, 14, 18, 16, 18, 8, 11, 18, 17, 11, 12, 24, 23, 15, 14, 8, 23, 12, 29, 22, 20, 20, 14, 11, 20, 20, 21, 24, 26, 30, 23, 26, 27, 17, 23, 14, 20, 21, 18, 14, 10, 7, 27, 28, 28, 28, 16, 17, 18, 24, 25, 25, 16, 12, 17, 18, 15, 13, 16, 16, 16, 17, 24, 13, 15, 16, 19, 10, 11, 10, 9, 10, 26, 11, 10, 17, 24, 16, 24, 6, 9, 13, 15, 29, 6, 26, 27, 17, 34], \"colorbar\": {\"thickness\": 20}, \"colorscale\": [[0.0, \"#440154\"], [0.1111111111111111, \"#482878\"], [0.2222222222222222, \"#3e4989\"], [0.3333333333333333, \"#31688e\"], [0.4444444444444444, \"#26828e\"], [0.5555555555555556, \"#1f9e89\"], [0.6666666666666666, \"#35b779\"], [0.7777777777777778, \"#6ece58\"], [0.8888888888888888, \"#b5de2b\"], [1.0, \"#fde725\"]], \"opacity\": 0.6, \"size\": 8}, \"mode\": \"markers\", \"text\": [\"CC(OC(=O)C)OC(=O)C\", \"C=C(Cl)Cl\", \"C1=CC(=C(C(=C1Cl)Cl)Cl)Cl\", \"C1=C(C=C(C(=C1Cl)Cl)Cl)Cl\", \"C1=CC(=C(C(=C1)Cl)Cl)Cl\", \"CC1=C(C(=CC=C1)C)C\", \"C1=C(C(=CC(=C1Cl)Cl)Cl)Cl\", \"C1=CC(=C(C=C1Cl)Cl)Cl\", \"CC1=CC(=C(C=C1)C)C\", \"CC(=O)OCCOC(=O)C\", \"C1=CC=C(C(=C1)Cl)Cl\", \"C1=C(C=C(C=C1Cl)Cl)Cl\", \"CC1=CC(=CC(=C1)C)C\", \"C1=CC(=CC(=C1)Cl)Cl\", \"CC1=CC2=CC=CC=C2C(=C1)C\", \"C1=CC(=CC=C1Cl)Cl\", \"CC1=CC=C(C2=CC=CC=C12)C\", \"CCC1=CC=CC2=CC=CC=C21\", \"CN1C=CN=C1\", \"CN1C=CC=C1\", \"CC1=CCCCC1\", \"CC1=CC=CC2=CC=CC=C12\", \"C1=CC=C2C(=C1)C=CC=C2O\", \"C1=CC=C2C(=C1)C=CC=C2N\", \"CCCC[N+](=O)[O-]\", \"CCCCC[N+](=O)[O-]\", \"CCC[N+](=O)[O-]\", \"CC(=C)C(=C)C\", \"CC1=CC2=CC=CC=C2C=C1C\", \"CC1=C(C(=CC=C1)O)C\", \"CC1=C(N=CC=C1)C\", \"CC(C)C(=O)C(C)C\", \"CC1=CC(=C(C=C1)O)C\", \"CC1=CC(=NC=C1)C\", \"CC1=CC(=C(C=C1)C)O\", \"CC1=CN=C(C=C1)C\", \"CC1=C(C(=CC=C1)C)N\", \"CC1=CC2=C(C=C1)C=C(C=C2)C\", \"CC1=C(C(=CC=C1)C)O\", \"CC1=NC(=CC=C1)C\", \"C1=CC=C(C(=C1)N)Cl\", \"C1=CC=C(C(=C1)O)Cl\", \"C1=CC=NC(=C1)Cl\", \"CC1=CC=CC=C1Cl\", \"CCC1=NC=CN=C1\", \"CCC1=CC=CC=N1\", \"CCC1=CC=CC=C1C\", \"C1=CC=C(C(=C1)O)F\", \"C1=CC=C(C(=C1)O)I\", \"CC(C)CC1=NC=CN=C1\", \"COC1=CC=CC=C1N\", \"COC1=CC=CC=C1O\", \"CC=C(C)C\", \"CC=C(C)C\", \"CC(=C)C=C\", \"CCCC(=C)C\", \"CC(=C)C\", \"CC1=NC=CN=C1\", \"CC1=CC=CC=N1\", \"CC1=CC=CS1\", \"C1=CC=C2C=C(C=CC2=C1)O\", \"C1=CC=C2C=C(C=CC2=C1)N\", \"C1=CC=C(C(=C1)N)[N+](=O)[O-]\", \"C1=CC=C(C(=C1)[N+](=O)[O-])O\", \"CC(C)[N+](=O)[O-]\", \"CC1=CC=CC=C1[N+](=O)[O-]\", \"C1=CC=C(C=C1)CCO\", \"CC(=O)C(C)(C)C\", \"CC1=C(C=C(C=C1)O)C\", \"CC1=C(C=NC=C1)C\", \"CC1=CC(=CC(=C1)O)C\", \"CC1=CC(=CN=C1)C\", \"CC(=O)C1=CN=CC=C1\", \"C1=CC(=CC(=C1)Cl)N\", \"C1=CC(=CC(=C1)Cl)O\", \"C=CCCl\", \"C1=CC(=CN=C1)Cl\", \"C1=CC(=CC(=C1)O)C#N\", \"C1=CC(=CN=C1)C#N\", \"CCC1=CC(=CC=C1)O\", \"CCC1=CN=CC=C1\", \"C1=CC(=CN=C1)C=O\", \"C1=CC(=CC(=C1)O)C=O\", \"COC1=CC=CC(=C1)N\", \"COC1=CC=CC(=C1)O\", \"CC1=CNC2=CC=CC=C12\", \"CC(C)C=C\", \"CC(C)C=C\", \"CC(C)C(=O)C\", \"CC(C)CC(=O)O\", \"CC1=CN=CC=C1\", \"C1=CC(=CC(=C1)[N+](=O)[O-])N\", \"C1=CC(=CC(=C1)O)[N+](=O)[O-]\", \"CC1=CC(=CC=C1)[N+](=O)[O-]\", \"C1=CC=C(C=C1)CCCO\", \"CC(=O)C1=CC=NC=C1\", \"C1=CC(=CC=C1O)Br\", \"CC1=CC=C(C=C1)Br\", \"CC1=C(C=CC(=C1)O)Cl\", \"C1=CC(=CC=C1N)Cl\", \"C1=CC(=CC=C1O)Cl\", \"C1=CC(=CC=C1C#N)O\", \"C1=CN=CC=C1C#N\", \"CCC1=CC=C(C=C1)O\", \"CCC1=CC=NC=C1\", \"CCC1=CC=C(C=C1)C\", \"C1=CC(=CC=C1O)F\", \"C1=CN=CC=C1C=O\", \"C1=CC(=CC=C1C=O)O\", \"CC1=CC=C(C=C1)C(C)C\", \"CC(=O)C1=CC=C(C=C1)OC\", \"COC1=CC=C(C=C1)N\", \"CC1=CN=CN1\", \"CC1=CC=C(C=C1)C(=O)C\", \"CC1=CC=C(C=C1)C=O\", \"CC(C)CC(=O)C\", \"CC1=CC=NC=C1\", \"CCCC1=CC=C(C=C1)O\", \"C1=CC(=CC=C1N)[N+](=O)[O-]\", \"C1=CC(=CC=C1[N+](=O)[O-])O\", \"CC(C)(C)C1=CC=C(C=C1)O\", \"C(=CCl)Cl\", \"CC=CC=O\", \"CCCCC=CC\", \"CCCC=CC=O\", \"CCCCCC=CC=O\", \"CC1=CC=C(C=C1)C(=O)N(C)C\", \"CN(C)C(=O)C1=CC=C(C=C1)[N+](=O\", \"CN(C)C1=CC=CC=C1\", \"CN(C)C(=O)C1=CC=CC=C1\", \"CN(C)C=O\", \"CC(=O)N1CCCC1\", \"CN(CC(F)(F)F)C1=CC=CC=C1\", \"CC(=O)NC\", \"CNC1=CC=CC=C1\", \"C(=CCl)Cl\", \"CCC=CC\", \"C1CC2=CC=CC3=C2C1=CC=C3\", \"CC=O\", \"CC(=O)O\", \"CC(=O)C1=CC=CC=C1\", \"CC(=C)C1=CC=CC=C1\", \"C1=CC=C(C=C1)N\", \"COC1=CC=CC=C1\", \"C1=CC=C2C=C3C=CC=CC3=CC2=C1\", \"C1=CC=C(C=C1)C=O\", \"C1=CC=C(C=C1)C(=O)N\", \"C1=CC=CC=C1\", \"C1=CC=C(C=C1)C#N\", \"C1=CC=C(C=C1)C(F)(F)F\", \"C1=CC=C(C=C1)CO\", \"C1=CC=C(C=C1)CBr\", \"C1=CC=C(C=C1)CCl\", \"C1=CC=C(C=C1)C2=CC=CC=C2\", \"C1=CC=C(C=C1)Br\", \"CCC=C\", \"C=CC=C\", \"CCCC(=O)O\", \"CCCC=O\", \"CCCC=O\", \"C1=CC=C(C=C1)Cl\", \"C=CCl\", \"C1=CC=C(C=C1)C#N\", \"C1C=CC=CC=C1\", \"C1CCC(=O)CC1\", \"C1CCC=CC1\", \"C1CCC(=O)C1\", \"C1CC=CC1\", \"CCCCCCCCC(=O)C\", \"CCOC(OCC)OC1=CC=CC=C1\", \"CCOC(=O)CC(=O)OCC\", \"CCOC(=O)CCC(=O)OCC\", \"COS(=O)(=O)OC\", \"CS(=O)(=O)C\", \"CS(=O)C\", \"CC(=O)N\", \"C=C\", \"CCOC(=O)C\", \"CCOC(=O)C1=CC=CC=C1\", \"CCCC(=O)OCC\", \"CCOC=O\", \"CCCCCC(=O)OCC\", \"CCCCC(=O)OCC\", \"CCOC1=CC=CC=C1\", \"CCC(=O)OCC\", \"CCC1=CC=CC=C1\", \"C1C2=CC=CC=C2C3=CC=CC=C31\", \"C1=CC=C(C=C1)F\", \"C=O\", \"CCCCCC=C\", \"CCCCCC(=O)C\", \"CCCC(=O)CCC\", \"CCCCCCC=O\", \"CCCCC=C\", \"C=CCCC=C\", \"C(=C(F)F)(C(F)(F)F)F\", \"CCCCC(=O)C\", \"CCCCCC=O\", \"CCCCCC(=O)O\", \"C1=CN=CN1\", \"C1CC2=CC=CC=C2C1\", \"C1=CC=C(C=C1)I\", \"CC(C)CCOC(=O)C\", \"CC(C)CCOC=O\", \"CC(C)COC(=O)C\", \"CC(C)COC=O\", \"CC(C)COC(=O)C(C)C\", \"CC(C)CC1=CC=CC=C1\", \"CC(C)C=O\", \"CC(C)OC(=O)C\", \"CC(C)OC=O\", \"C1=CC=C(C(=C1)C(F)(F)F)C(F)(F)\", \"CC1=CC(=CC=C1)O\", \"CC1=CC(=CC=C1)C\", \"CS(=O)(=O)Cl\", \"CC(=O)OC\", \"COC(=O)C1=CC=CC=C1\", \"CCCC(=O)OC\", \"COC(=O)CCl\", \"COC(=O)CC#N\", \"COC(=O)C1CCCCC1\", \"CC(=O)C1CCCCC1\", \"COC(=O)C1CC1\", \"CC(=O)C1CC1\", \"COC=O\", \"CCCCCC(=O)OC\", \"COS(=O)(=O)C\", \"CCCCCCCC(=O)OC\", \"COC1=CC=C(C=C1)C(=O)OC\", \"COC(=O)C1=CC=C(C=C1)[N+](=O)[O\", \"CCCCC(=O)OC\", \"CCC(=O)OC\", \"COC(=O)C(F)(F)F\", \"CC(C)(C)C(=O)OC\", \"CCCCOC(=O)C\", \"CCCCCC(=O)N\", \"CCCCC1=CC=CC=C1\", \"CCCCCCOC(=O)C\", \"CCCCCCC1=CC=CC=C1\", \"CCCCCOC(=O)C\", \"CCCCCOC(=O)CC\", \"CCCCCC1=CC=CC=C1\", \"CCCOC(=O)C\", \"CCCC(=O)OCCC\", \"CCCOC=O\", \"CCCOC(=O)CC\", \"CCCC1=CC=CC=C1\", \"C1=CC=C2C=CC=CC2=C1\", \"C1=CC=C(C=C1)[N+](=O)[O-]\", \"CC[N+](=O)[O-]\", \"C[N+](=O)[O-]\", \"CCCCCCCC=C\", \"CCCCCCCC(=O)C\", \"CCCCC(=O)CCCC\", \"CCCCCCCCC=O\", \"CC1=CC=CC=C1O\", \"CC1=CC=CC=C1N\", \"CC1=CC=CC=C1C\", \"CCCCCCC=C\", \"CCCCCCC(=O)C\", \"CCCCCCCC=O\", \"CC1=CC=C(C=C1)O\", \"C1=CC(=CC=C1Br)Br\", \"CC1=CC=C(C=C1)N\", \"CC1=CC=C(C=C1)C\", \"CCCC=C\", \"C=CCC=C\", \"CCCC(=O)C\", \"CCC(=O)CC\", \"CCCCC=O\", \"CCCCC(=O)O\", \"C1=CC=C2C(=C1)C=CC3=CC=CC=C32\", \"C1=CC=C(C=C1)O\", \"C1=CC=C(C=C1)OC=O\", \"CSC1=CC=CC=C1\", \"FC(C(F)F)OC1=CC=CC=C1\", \"C=CCO\", \"CCC(=O)O\", \"CC(=O)C\", \"CC=C\", \"CCC=O\", \"C1=CC2=C3C(=C1)C=CC4=CC=CC(=C4\", \"C1=CC=NC=C1\", \"C1=CNC=C1\", \"C1=CC=C2C(=C1)C=CC=N2\", \"CCC(C)C1=CC=CC=C1\", \"C=CC1=CC=CC=C1\", \"CC(C)(C)C1=CC=CC=C1\", \"C(=C(Cl)Cl)(Cl)Cl\", \"C1=CSC=C1\", \"C1=CC=C(C=C1)S\", \"CC1=CC=CC=C1\", \"C(C)(=O)C(C(C)=O)(C(C(C)=O)(CO\", \"C(=C(Cl)Cl)Cl\", \"CCOP(=O)(OCC)OCC\", \"COC(C1=CC=CC=C1)(OC)OC\", \"COP(=O)(OC)OC\", \"CCCCCCCCCC(=O)C\"], \"type\": \"scatter\", \"x\": [-9.52, -0.85, -1.25, -0.92, -1.67, -2.79, -0.97, -1.35, -2.75, -9.93, -1.96, -0.96, -2.73, -1.6, -4.5, -1.63, -4.5, -4.61, -7.06, -3.9, -0.66, -4.52, -8.31, -8.63, -2.43, -2.4, -2.44, -1.11, -4.43, -6.49, -4.79, -5.13, -6.48, -4.94, -5.97, -4.76, -6.51, -4.42, -5.78, -5.15, -6.04, -4.51, -4.85, -2.18, -6.94, -4.96, -2.85, -4.89, -3.93, -6.81, -7.69, -6.0, -0.56, -0.55, -1.12, -0.4, -0.45, -6.99, -4.95, -1.9, -8.7, -8.83, -7.84, -5.4, -2.54, -3.79, -7.05, -5.18, -6.86, -4.59, -7.01, -4.47, -8.04, -6.41, -6.38, -1.48, -3.78, -8.16, -5.79, -6.91, -4.59, -8.22, -10.18, -8.44, -8.1, -7.53, -0.33, -0.34, -5.34, -6.99, -4.56, -8.0, -7.45, -3.51, -7.38, -8.38, -6.59, -2.2, -6.38, -6.47, -6.53, -8.72, -5.99, -7.07, -4.72, -2.78, -6.51, -8.13, -10.85, -2.53, -7.89, -8.09, -8.85, -6.7, -6.43, -5.28, -4.73, -6.96, -9.03, -8.04, -7.21, -0.87, -5.82, -0.43, -5.48, -5.37, -9.1, -9.24, -6.13, -9.17, -8.13, -8.86, -6.24, -9.93, -7.1, -1.72, -0.42, -4.89, -5.18, -7.07, -6.67, -3.53, -7.0, -3.98, -5.97, -6.36, -10.97, -2.7, -4.13, -3.02, -6.94, -3.13, -3.37, -4.97, -2.2, -0.37, -0.96, -6.92, -5.05, -5.07, -2.13, -1.06, -4.14, -1.97, -5.14, -0.53, -4.85, -0.58, -5.26, -7.19, -8.27, -10.32, -8.13, -11.21, -9.68, -9.94, -0.3, -5.14, -6.33, -5.39, -4.52, -5.43, -5.47, -4.12, -5.51, -2.76, -5.31, -2.1, -4.87, -0.33, -5.3, -5.19, -5.06, -0.33, -0.65, -1.17, -5.28, -5.09, -6.93, -8.49, -2.97, -2.11, -5.44, -5.17, -5.23, -5.0, -5.29, -2.66, -4.98, -5.15, -4.37, -4.19, -6.94, -2.71, -6.85, -5.44, -6.3, -5.36, -5.16, -6.89, -5.51, -5.38, -6.3, -5.82, -4.48, -5.36, -8.81, -5.31, -7.45, -6.27, -5.43, -5.47, -3.4, -5.28, -5.45, -9.76, -2.76, -5.49, -2.71, -5.4, -5.96, -2.75, -5.3, -5.35, -5.03, -5.45, -2.72, -4.51, -3.63, -2.47, -2.53, -0.33, -5.29, -5.2, -5.09, -6.55, -6.81, -2.75, -0.33, -5.31, -5.12, -6.95, -1.7, -6.91, -2.71, -0.34, -0.7, -5.25, -5.23, -5.08, -7.01, -6.0, -7.01, -6.26, -3.14, -5.49, -5.18, -7.64, -5.31, -0.37, -5.06, -7.03, -4.75, -5.16, -5.7, -2.72, -3.34, -2.98, -0.09, -1.88, -3.26, -2.7, -13.83, -0.82, -11.94, -7.42, -11.33, -5.26], \"y\": [-7.4284, -0.9557, -1.3598, -1.049, -1.7867, -2.0052, -1.1029, -1.5809, -1.9892, -8.6547, -2.0653, -1.2357, -1.9753, -1.8123, -3.4925, -1.897, -3.5023, -3.5551, -5.3171, -3.0452, -0.5396, -3.6312, -9.0344, -8.0269, -2.3412, -2.3, -2.3681, -1.0806, -3.4986, -6.9247, -3.5102, -3.4691, -6.9205, -3.5872, -5.2048, -3.4368, -5.4443, -3.4956, -5.0373, -3.486, -6.6646, -5.1107, -4.1224, -2.0612, -5.2746, -3.5616, -2.0577, -5.6379, -4.1409, -4.8756, -7.6767, -6.6327, -0.5397, -0.5397, -1.0603, -0.4553, -0.4957, -5.5172, -3.6648, -1.77, -9.4159, -8.5184, -7.1046, -9.6655, -2.3916, -3.1086, -7.0814, -3.8026, -7.1291, -3.5496, -7.3925, -3.3815, -6.7251, -6.8149, -7.0784, -1.7194, -3.2994, -9.2963, -5.3354, -7.1784, -3.5459, -7.1845, -10.4298, -8.4557, -8.9718, -6.9905, -0.3989, -0.3989, -3.9647, -8.6384, -3.6158, -8.5945, -8.5674, -3.2831, -6.9552, -7.0095, -7.4888, -2.0479, -7.0088, -7.0842, -7.4788, -9.4847, -5.4477, -7.4463, -3.7004, -2.0232, -7.4495, -7.0983, -11.3836, -1.8742, -7.1141, -8.285, -7.5457, -5.4697, -5.5581, -3.8994, -3.7608, -7.4234, -9.6921, -8.9956, -7.5814, -1.1345, -4.9261, -0.4577, -4.5984, -4.5401, -7.4937, -8.2821, -4.4366, -7.527, -6.1981, -6.2257, -6.1704, -8.0934, -6.2413, -1.8878, -0.4514, -3.7695, -4.4299, -9.1645, -5.5633, -2.7063, -7.03, -3.7082, -5.0016, -5.6353, -10.3423, -2.2608, -4.0076, -3.0459, -6.1488, -2.9052, -3.1666, -3.5298, -2.1684, -0.4186, -1.0307, -8.6825, -4.2146, -4.2146, -2.1536, -1.1914, -4.0076, -2.0829, -3.8973, -0.527, -3.8425, -0.5958, -3.9848, -5.2591, -8.2654, -7.2142, -7.4066, -9.3036, -7.3847, -9.3957, -0.4328, -4.1098, -5.1236, -3.9326, -4.1483, -3.9741, -3.9692, -3.4999, -4.0523, -2.1166, -4.3136, -2.1413, -4.5766, -0.4368, -3.9626, -3.6347, -4.1932, -0.4358, -0.8224, -1.3188, -3.9765, -4.2273, -8.6723, -7.6514, -2.1961, -2.1808, -4.1361, -4.5209, -3.9925, -4.3996, -3.6169, -1.8818, -3.9895, -4.1671, -4.142, -4.3528, -7.2323, -2.0749, -7.2576, -4.5238, -5.3262, -4.0528, -4.95, -6.973, -3.8111, -3.9255, -4.3519, -3.8495, -4.3011, -4.0983, -7.6016, -4.1025, -6.574, -5.7987, -4.1384, -4.2363, -3.596, -3.8362, -4.2409, -8.9556, -2.0942, -4.2311, -2.1105, -4.2424, -3.9508, -2.0977, -4.1295, -3.8276, -4.5097, -3.9411, -2.0931, -3.7581, -3.4974, -2.4684, -2.6741, -0.4525, -3.996, -3.7137, -4.2603, -7.0389, -6.3838, -2.1005, -0.4368, -3.9777, -4.286, -7.4954, -1.8797, -6.874, -2.0796, -0.4285, -0.9307, -3.9644, -3.8285, -4.2013, -8.7249, -5.0197, -7.6241, -6.2827, -2.9033, -6.3219, -5.2237, -8.7648, -4.2486, -0.4654, -4.2476, -5.8174, -3.8411, -5.2568, -4.6111, -1.9666, -2.717, -2.0874, -0.0754, -1.8752, -3.8862, -2.1731, -13.5935, -0.9563, -8.8958, -5.2576, -9.4001, -4.0298]}, {\"mode\": \"lines\", \"type\": \"scatter\", \"x\": [-13.83, -0.09], \"y\": [-13.83, -0.09]}],\n",
       "                        {\"hovermode\": \"closest\", \"showlegend\": false, \"template\": {\"data\": {\"bar\": [{\"error_x\": {\"color\": \"#2a3f5f\"}, \"error_y\": {\"color\": \"#2a3f5f\"}, \"marker\": {\"line\": {\"color\": \"#E5ECF6\", \"width\": 0.5}}, \"type\": \"bar\"}], \"barpolar\": [{\"marker\": {\"line\": {\"color\": \"#E5ECF6\", \"width\": 0.5}}, \"type\": \"barpolar\"}], \"carpet\": [{\"aaxis\": {\"endlinecolor\": \"#2a3f5f\", \"gridcolor\": \"white\", \"linecolor\": \"white\", \"minorgridcolor\": \"white\", \"startlinecolor\": \"#2a3f5f\"}, \"baxis\": {\"endlinecolor\": \"#2a3f5f\", \"gridcolor\": \"white\", \"linecolor\": \"white\", \"minorgridcolor\": \"white\", \"startlinecolor\": \"#2a3f5f\"}, \"type\": \"carpet\"}], \"choropleth\": [{\"colorbar\": {\"outlinewidth\": 0, \"ticks\": \"\"}, \"type\": \"choropleth\"}], \"contour\": [{\"colorbar\": {\"outlinewidth\": 0, \"ticks\": \"\"}, \"colorscale\": [[0.0, \"#0d0887\"], [0.1111111111111111, \"#46039f\"], [0.2222222222222222, \"#7201a8\"], [0.3333333333333333, \"#9c179e\"], [0.4444444444444444, \"#bd3786\"], [0.5555555555555556, \"#d8576b\"], [0.6666666666666666, \"#ed7953\"], [0.7777777777777778, \"#fb9f3a\"], [0.8888888888888888, \"#fdca26\"], [1.0, \"#f0f921\"]], \"type\": \"contour\"}], \"contourcarpet\": [{\"colorbar\": {\"outlinewidth\": 0, \"ticks\": \"\"}, \"type\": \"contourcarpet\"}], \"heatmap\": [{\"colorbar\": {\"outlinewidth\": 0, \"ticks\": \"\"}, \"colorscale\": [[0.0, \"#0d0887\"], [0.1111111111111111, \"#46039f\"], [0.2222222222222222, \"#7201a8\"], [0.3333333333333333, \"#9c179e\"], [0.4444444444444444, \"#bd3786\"], [0.5555555555555556, \"#d8576b\"], [0.6666666666666666, \"#ed7953\"], [0.7777777777777778, \"#fb9f3a\"], [0.8888888888888888, \"#fdca26\"], [1.0, \"#f0f921\"]], \"type\": \"heatmap\"}], \"heatmapgl\": [{\"colorbar\": {\"outlinewidth\": 0, \"ticks\": \"\"}, \"colorscale\": [[0.0, \"#0d0887\"], [0.1111111111111111, \"#46039f\"], [0.2222222222222222, \"#7201a8\"], [0.3333333333333333, \"#9c179e\"], [0.4444444444444444, \"#bd3786\"], [0.5555555555555556, \"#d8576b\"], [0.6666666666666666, \"#ed7953\"], [0.7777777777777778, \"#fb9f3a\"], [0.8888888888888888, \"#fdca26\"], [1.0, \"#f0f921\"]], \"type\": \"heatmapgl\"}], \"histogram\": [{\"marker\": {\"colorbar\": {\"outlinewidth\": 0, \"ticks\": \"\"}}, \"type\": \"histogram\"}], \"histogram2d\": [{\"colorbar\": {\"outlinewidth\": 0, \"ticks\": \"\"}, \"colorscale\": [[0.0, \"#0d0887\"], [0.1111111111111111, \"#46039f\"], [0.2222222222222222, \"#7201a8\"], [0.3333333333333333, \"#9c179e\"], [0.4444444444444444, \"#bd3786\"], [0.5555555555555556, \"#d8576b\"], [0.6666666666666666, \"#ed7953\"], [0.7777777777777778, \"#fb9f3a\"], [0.8888888888888888, \"#fdca26\"], [1.0, \"#f0f921\"]], \"type\": \"histogram2d\"}], \"histogram2dcontour\": [{\"colorbar\": {\"outlinewidth\": 0, \"ticks\": \"\"}, \"colorscale\": [[0.0, \"#0d0887\"], [0.1111111111111111, \"#46039f\"], [0.2222222222222222, \"#7201a8\"], [0.3333333333333333, \"#9c179e\"], [0.4444444444444444, \"#bd3786\"], [0.5555555555555556, \"#d8576b\"], [0.6666666666666666, \"#ed7953\"], [0.7777777777777778, \"#fb9f3a\"], [0.8888888888888888, \"#fdca26\"], [1.0, \"#f0f921\"]], \"type\": \"histogram2dcontour\"}], \"mesh3d\": [{\"colorbar\": {\"outlinewidth\": 0, \"ticks\": \"\"}, \"type\": \"mesh3d\"}], \"parcoords\": [{\"line\": {\"colorbar\": {\"outlinewidth\": 0, \"ticks\": \"\"}}, \"type\": \"parcoords\"}], \"pie\": [{\"automargin\": true, \"type\": \"pie\"}], \"scatter\": [{\"marker\": {\"colorbar\": {\"outlinewidth\": 0, \"ticks\": \"\"}}, \"type\": \"scatter\"}], \"scatter3d\": [{\"line\": {\"colorbar\": {\"outlinewidth\": 0, \"ticks\": \"\"}}, \"marker\": {\"colorbar\": {\"outlinewidth\": 0, \"ticks\": \"\"}}, \"type\": \"scatter3d\"}], \"scattercarpet\": [{\"marker\": {\"colorbar\": {\"outlinewidth\": 0, \"ticks\": \"\"}}, \"type\": \"scattercarpet\"}], \"scattergeo\": [{\"marker\": {\"colorbar\": {\"outlinewidth\": 0, \"ticks\": \"\"}}, \"type\": \"scattergeo\"}], \"scattergl\": [{\"marker\": {\"colorbar\": {\"outlinewidth\": 0, \"ticks\": \"\"}}, \"type\": \"scattergl\"}], \"scattermapbox\": [{\"marker\": {\"colorbar\": {\"outlinewidth\": 0, \"ticks\": \"\"}}, \"type\": \"scattermapbox\"}], \"scatterpolar\": [{\"marker\": {\"colorbar\": {\"outlinewidth\": 0, \"ticks\": \"\"}}, \"type\": \"scatterpolar\"}], \"scatterpolargl\": [{\"marker\": {\"colorbar\": {\"outlinewidth\": 0, \"ticks\": \"\"}}, \"type\": \"scatterpolargl\"}], \"scatterternary\": [{\"marker\": {\"colorbar\": {\"outlinewidth\": 0, \"ticks\": \"\"}}, \"type\": \"scatterternary\"}], \"surface\": [{\"colorbar\": {\"outlinewidth\": 0, \"ticks\": \"\"}, \"colorscale\": [[0.0, \"#0d0887\"], [0.1111111111111111, \"#46039f\"], [0.2222222222222222, \"#7201a8\"], [0.3333333333333333, \"#9c179e\"], [0.4444444444444444, \"#bd3786\"], [0.5555555555555556, \"#d8576b\"], [0.6666666666666666, \"#ed7953\"], [0.7777777777777778, \"#fb9f3a\"], [0.8888888888888888, \"#fdca26\"], [1.0, \"#f0f921\"]], \"type\": \"surface\"}], \"table\": [{\"cells\": {\"fill\": {\"color\": \"#EBF0F8\"}, \"line\": {\"color\": \"white\"}}, \"header\": {\"fill\": {\"color\": \"#C8D4E3\"}, \"line\": {\"color\": \"white\"}}, \"type\": \"table\"}]}, \"layout\": {\"annotationdefaults\": {\"arrowcolor\": \"#2a3f5f\", \"arrowhead\": 0, \"arrowwidth\": 1}, \"coloraxis\": {\"colorbar\": {\"outlinewidth\": 0, \"ticks\": \"\"}}, \"colorscale\": {\"diverging\": [[0, \"#8e0152\"], [0.1, \"#c51b7d\"], [0.2, \"#de77ae\"], [0.3, \"#f1b6da\"], [0.4, \"#fde0ef\"], [0.5, \"#f7f7f7\"], [0.6, \"#e6f5d0\"], [0.7, \"#b8e186\"], [0.8, \"#7fbc41\"], [0.9, \"#4d9221\"], [1, \"#276419\"]], \"sequential\": [[0.0, \"#0d0887\"], [0.1111111111111111, \"#46039f\"], [0.2222222222222222, \"#7201a8\"], [0.3333333333333333, \"#9c179e\"], [0.4444444444444444, \"#bd3786\"], [0.5555555555555556, \"#d8576b\"], [0.6666666666666666, \"#ed7953\"], [0.7777777777777778, \"#fb9f3a\"], [0.8888888888888888, \"#fdca26\"], [1.0, \"#f0f921\"]], \"sequentialminus\": [[0.0, \"#0d0887\"], [0.1111111111111111, \"#46039f\"], [0.2222222222222222, \"#7201a8\"], [0.3333333333333333, \"#9c179e\"], [0.4444444444444444, \"#bd3786\"], [0.5555555555555556, \"#d8576b\"], [0.6666666666666666, \"#ed7953\"], [0.7777777777777778, \"#fb9f3a\"], [0.8888888888888888, \"#fdca26\"], [1.0, \"#f0f921\"]]}, \"colorway\": [\"#636efa\", \"#EF553B\", \"#00cc96\", \"#ab63fa\", \"#FFA15A\", \"#19d3f3\", \"#FF6692\", \"#B6E880\", \"#FF97FF\", \"#FECB52\"], \"font\": {\"color\": \"#2a3f5f\"}, \"geo\": {\"bgcolor\": \"white\", \"lakecolor\": \"white\", \"landcolor\": \"#E5ECF6\", \"showlakes\": true, \"showland\": true, \"subunitcolor\": \"white\"}, \"hoverlabel\": {\"align\": \"left\"}, \"hovermode\": \"closest\", \"mapbox\": {\"style\": \"light\"}, \"paper_bgcolor\": \"white\", \"plot_bgcolor\": \"#E5ECF6\", \"polar\": {\"angularaxis\": {\"gridcolor\": \"white\", \"linecolor\": \"white\", \"ticks\": \"\"}, \"bgcolor\": \"#E5ECF6\", \"radialaxis\": {\"gridcolor\": \"white\", \"linecolor\": \"white\", \"ticks\": \"\"}}, \"scene\": {\"xaxis\": {\"backgroundcolor\": \"#E5ECF6\", \"gridcolor\": \"white\", \"gridwidth\": 2, \"linecolor\": \"white\", \"showbackground\": true, \"ticks\": \"\", \"zerolinecolor\": \"white\"}, \"yaxis\": {\"backgroundcolor\": \"#E5ECF6\", \"gridcolor\": \"white\", \"gridwidth\": 2, \"linecolor\": \"white\", \"showbackground\": true, \"ticks\": \"\", \"zerolinecolor\": \"white\"}, \"zaxis\": {\"backgroundcolor\": \"#E5ECF6\", \"gridcolor\": \"white\", \"gridwidth\": 2, \"linecolor\": \"white\", \"showbackground\": true, \"ticks\": \"\", \"zerolinecolor\": \"white\"}}, \"shapedefaults\": {\"line\": {\"color\": \"#2a3f5f\"}}, \"ternary\": {\"aaxis\": {\"gridcolor\": \"white\", \"linecolor\": \"white\", \"ticks\": \"\"}, \"baxis\": {\"gridcolor\": \"white\", \"linecolor\": \"white\", \"ticks\": \"\"}, \"bgcolor\": \"#E5ECF6\", \"caxis\": {\"gridcolor\": \"white\", \"linecolor\": \"white\", \"ticks\": \"\"}}, \"title\": {\"x\": 0.05}, \"xaxis\": {\"automargin\": true, \"gridcolor\": \"white\", \"linecolor\": \"white\", \"ticks\": \"\", \"title\": {\"standoff\": 15}, \"zerolinecolor\": \"white\", \"zerolinewidth\": 2}, \"yaxis\": {\"automargin\": true, \"gridcolor\": \"white\", \"linecolor\": \"white\", \"ticks\": \"\", \"title\": {\"standoff\": 15}, \"zerolinecolor\": \"white\", \"zerolinewidth\": 2}}}, \"title\": {\"text\": \"Energy\"}, \"xaxis\": {\"gridwidth\": 2, \"ticklen\": 5, \"title\": {\"text\": \"MD\"}, \"zeroline\": false}, \"yaxis\": {\"gridwidth\": 2, \"ticklen\": 5, \"title\": {\"text\": \"BEM\"}}},\n",
       "                        {\"responsive\": true}\n",
       "                    ).then(function(){\n",
       "                            \n",
       "var gd = document.getElementById('38f70d18-069e-4a3a-92a3-ea7f8b3999af');\n",
       "var x = new MutationObserver(function (mutations, observer) {{\n",
       "        var display = window.getComputedStyle(gd).display;\n",
       "        if (!display || display === 'none') {{\n",
       "            console.log([gd, 'removed!']);\n",
       "            Plotly.purge(gd);\n",
       "            observer.disconnect();\n",
       "        }}\n",
       "}});\n",
       "\n",
       "// Listen for the removal of the full notebook cells\n",
       "var notebookContainer = gd.closest('#notebook-container');\n",
       "if (notebookContainer) {{\n",
       "    x.observe(notebookContainer, {childList: true});\n",
       "}}\n",
       "\n",
       "// Listen for the clearing of the current output cell\n",
       "var outputEl = gd.closest('.output');\n",
       "if (outputEl) {{\n",
       "    x.observe(outputEl, {childList: true});\n",
       "}}\n",
       "\n",
       "                        })\n",
       "                };\n",
       "                });\n",
       "            </script>\n",
       "        </div>"
      ]
     },
     "metadata": {},
     "output_type": "display_data"
    }
   ],
   "source": [
    "eps='125'\n",
    "direccion = 'new_implicit/'+eps+'.txt'\n",
    "var,i,S='n',5,10\n",
    "VAR='='\n",
    "\n",
    "#grupos(var,i,S,'data/explicit_data.txt','new_implicit/'+eps+'.txt','data/n_atom.txt')\n",
    "separar(VAR,'data/explicit_data.txt','new_implicit/'+eps+'.txt')\n",
    "\n",
    "iupac, smiles, dGes_i, dGcav_i, dGdisp_i, dGexper, SASA, vol =read_implicit('data/implicit_comp.txt')\n",
    "iupac, smiles, dGes_e, dGcav_e, dGdisp_e, dGexper = read_explicit('data/explicit_comp.txt')\n",
    "\n",
    "plot_correl(dGes_e, dGes_i,smiles,'data/n_groups.txt',OPCION='num' ,key='')"
   ]
  }
 ],
 "metadata": {
  "kernelspec": {
   "display_name": "Python 3",
   "language": "python",
   "name": "python3"
  },
  "language_info": {
   "codemirror_mode": {
    "name": "ipython",
    "version": 3
   },
   "file_extension": ".py",
   "mimetype": "text/x-python",
   "name": "python",
   "nbconvert_exporter": "python",
   "pygments_lexer": "ipython3",
   "version": "3.7.6"
  }
 },
 "nbformat": 4,
 "nbformat_minor": 4
}
