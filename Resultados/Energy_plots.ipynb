{
 "cells": [
  {
   "cell_type": "markdown",
   "metadata": {},
   "source": [
    "## Supplementary material for \"A Simple Electrostatic Model for the Hard-Sphere Solute Component of Nonpolar Solvation\"\n",
    "#### Christopher D. Cooper and Jaydeep P. Bardhan\n",
    "\n",
    "This Jupyter notebook explores results from solvation free energy calculations using an implicit solvent model from the paper \"A Simple Electrostatic Model for the Hard-Sphere Solute Component of Nonpolar Solvation\", and molecular dynamics from Mobley et al. \"Small Molecule Hydration Free Energies in Explicit Solvent: An Extensive Test of Fixed-Charge Atomistic Simulations\" (2009). The test set corresponds to 497 small solutes from D. Mobley's paper.\n",
    "\n",
    "The code reads in the files `implicit_data.txt` and `explicit_data.txt` which are available in the Supplementary Material. These are CSV files with the names and different free energy components for the 497 molecules. "
   ]
  },
  {
   "cell_type": "code",
   "execution_count": 12,
   "metadata": {},
   "outputs": [
    {
     "data": {
      "text/html": [
       "        <script type=\"text/javascript\">\n",
       "        window.PlotlyConfig = {MathJaxConfig: 'local'};\n",
       "        if (window.MathJax) {MathJax.Hub.Config({SVG: {font: \"STIX-Web\"}});}\n",
       "        if (typeof require !== 'undefined') {\n",
       "        require.undef(\"plotly\");\n",
       "        requirejs.config({\n",
       "            paths: {\n",
       "                'plotly': ['https://cdn.plot.ly/plotly-latest.min']\n",
       "            }\n",
       "        });\n",
       "        require(['plotly'], function(Plotly) {\n",
       "            window._Plotly = Plotly;\n",
       "        });\n",
       "        }\n",
       "        </script>\n",
       "        "
      ]
     },
     "metadata": {},
     "output_type": "display_data"
    }
   ],
   "source": [
    "import numpy\n",
    "import plotly.graph_objs as go\n",
    "from plotly.offline import download_plotlyjs, init_notebook_mode, plot, iplot\n",
    "init_notebook_mode(connected=True)"
   ]
  },
  {
   "cell_type": "code",
   "execution_count": 13,
   "metadata": {},
   "outputs": [],
   "source": [
    "def read_atoms_volume(archivo):\n",
    "    moleculas = []; n_atomos = []; volumen = []; area = []\n",
    "    doc=open(archivo,'r')\n",
    "    for linea in doc.readlines():\n",
    "        L=linea.split('   ')\n",
    "        moleculas.append(L[0])\n",
    "        n_atomos.append(int(L[1]))\n",
    "        volumen.append(int(float(L[2][:7])))\n",
    "        area.append(int(float(L[3][:7])))\n",
    "    \n",
    "    return (moleculas,n_atomos,volumen,area)\n",
    "\n",
    "\n",
    "def separar(variable,explicit, implicit):\n",
    "    comp_explicit = open('explicit_comp.txt','w+')#Crear Documentos a Comparar\n",
    "    comp_explicit.write('IUPAC, SMILES, dGes, dGcav, dGdisp, dGexper, SASA, Vol\\n')\n",
    "    comp_implicit = open('implicit_comp.txt','w+')\n",
    "    comp_implicit.write('IUPAC, SMILES, dGes, dGcav, dGdisp, dGexper, SASA, Vol\\n')\n",
    "    n_atoms_doc = open('n_atom.txt','r')   \n",
    "    \n",
    "    \n",
    "    if isinstance(variable, int):                    #Si es un número se identifica el número de átomos\n",
    "        for linea_atoms in n_atoms_doc.readlines():\n",
    "            lista_atoms = linea_atoms.split('   ')\n",
    "            if variable == int(lista_atoms[1]):\n",
    "                exp = open(explicit)\n",
    "                for linea_exp in exp.readlines():\n",
    "                    lista_exp = linea_exp.split(',')\n",
    "                    if lista_exp[0]==lista_atoms[0]:\n",
    "                        comp_explicit.write(linea_exp)\n",
    "                imp = open(implicit)\n",
    "                for linea_imp in imp.readlines():\n",
    "                    lista_imp = linea_imp.split(',')\n",
    "                    if lista_imp[0]==lista_atoms[0]:\n",
    "                        comp_implicit.write(linea_imp)\n",
    "                exp.close()\n",
    "                imp.close()\n",
    "\n",
    "                \n",
    "    elif isinstance(variable, str):\n",
    "        if len(variable)<=3:\n",
    "            exp=open(explicit)\n",
    "            imp=open(implicit)\n",
    "            for linea_exp in exp.readlines():\n",
    "                lista_exp = linea_exp.split(',')\n",
    "                if variable in lista_exp[1]:\n",
    "                    comp_explicit.write(linea_exp)\n",
    "            for linea_imp in imp.readlines():\n",
    "                lista_imp = linea_imp.split(',')\n",
    "                if variable in lista_imp[1]:\n",
    "                    comp_implicit.write(linea_imp)\n",
    "            exp.close()\n",
    "            imp.close()\n",
    "        else:\n",
    "            exp=open(explicit)\n",
    "            imp=open(implicit)\n",
    "            for linea_exp in exp.readlines():\n",
    "                lista_exp = linea_exp.split(',')\n",
    "                if variable in lista_exp[0]:\n",
    "                    comp_explicit.write(linea_exp)\n",
    "            for linea_imp in imp.readlines():\n",
    "                lista_imp = linea_imp.split(',')\n",
    "                if variable in lista_imp[0]:\n",
    "                    comp_implicit.write(linea_imp)\n",
    "            imp.close()\n",
    "            exp.close()\n",
    "        \n",
    "        \n",
    "        \n",
    "    \n",
    "    comp_explicit.close()\n",
    "    comp_implicit.close()\n",
    "    return n_atoms_doc.close()    \n",
    "\n",
    "def grupos(variable,lim_i,lim_S,explicit,implicit,n_atoms):\n",
    "    comp_explicit = open('explicit_comp.txt','w+')#Crear Documentos a Comparar\n",
    "    comp_explicit.write('IUPAC, SMILES, dGes, dGcav, dGdisp, dGexper, SASA, Vol\\n')\n",
    "    comp_implicit = open('implicit_comp.txt','w+')\n",
    "    comp_implicit.write('IUPAC, SMILES, dGes, dGcav, dGdisp, dGexper, SASA, Vol\\n')\n",
    "    n_atoms_doc = open(n_atoms,'r')   \n",
    "    new_atoms_doc = open('n_groups.txt','w+')\n",
    "    \n",
    "    \n",
    "    if variable=='n':\n",
    "        for linea_atoms in n_atoms_doc.readlines():\n",
    "            lista_atoms = linea_atoms.split('   ')        \n",
    "            if lim_i<=int(lista_atoms[1])<=lim_S:\n",
    "                new_atoms_doc.write(linea_atoms)\n",
    "                exp = open(explicit)\n",
    "                for linea_exp in exp.readlines():\n",
    "                    lista_exp = linea_exp.split(',')\n",
    "                    if lista_exp[0]==lista_atoms[0]:\n",
    "                        comp_explicit.write(linea_exp)\n",
    "                imp = open(implicit)\n",
    "                for linea_imp in imp.readlines():\n",
    "                    lista_imp=linea_imp.split(',')\n",
    "                    if lista_imp[0]==lista_atoms[0]:\n",
    "                        comp_implicit.write(linea_imp)\n",
    "\n",
    "                exp.close()\n",
    "                imp.close()\n",
    "                \n",
    "    if variable=='vol':\n",
    "        for linea_atoms in n_atoms_doc.readlines():\n",
    "            lista_atoms = linea_atoms.split('   ')        \n",
    "            if lim_i<=float(lista_atoms[2][:5])<=lim_S:\n",
    "                new_atoms_doc.write(linea_atoms)\n",
    "                exp = open(explicit)\n",
    "                for linea_exp in exp.readlines():\n",
    "                    lista_exp = linea_exp.split(',')\n",
    "                    if lista_exp[0]==lista_atoms[0]:\n",
    "                        comp_explicit.write(linea_exp)\n",
    "                imp = open(implicit)\n",
    "                for linea_imp in imp.readlines():\n",
    "                    lista_imp=linea_imp.split(',')\n",
    "                    if lista_imp[0]==lista_atoms[0]:\n",
    "                        comp_implicit.write(linea_imp)\n",
    "\n",
    "                exp.close()\n",
    "                imp.close()\n",
    "                \n",
    "    if variable=='sup':\n",
    "        for linea_atoms in n_atoms_doc.readlines():\n",
    "            lista_atoms = linea_atoms.split('   ')        \n",
    "            if lim_i<=float(lista_atoms[3][:5])<=lim_S:\n",
    "                new_atoms_doc.write(linea_atoms)\n",
    "                exp = open(explicit)\n",
    "                for linea_exp in exp.readlines():\n",
    "                    lista_exp = linea_exp.split(',')\n",
    "                    if lista_exp[0]==lista_atoms[0]:\n",
    "                        comp_explicit.write(linea_exp)\n",
    "                imp = open(implicit)\n",
    "                for linea_imp in imp.readlines():\n",
    "                    lista_imp=linea_imp.split(',')\n",
    "                    if lista_imp[0]==lista_atoms[0]:\n",
    "                        comp_implicit.write(linea_imp)\n",
    "\n",
    "                exp.close()\n",
    "                imp.close()\n",
    "\n",
    "\n",
    "\n",
    "        \n",
    "    new_atoms_doc.close()\n",
    "    comp_explicit.close()\n",
    "    comp_implicit.close()\n",
    "    return n_atoms_doc.close()"
   ]
  },
  {
   "cell_type": "code",
   "execution_count": 14,
   "metadata": {},
   "outputs": [],
   "source": [
    "def plot_correl(X, Y, names,N_ATOMS,OPCION, key='None', title='Energy', xlabel='X-axis', ylabel='Y-axis'):\n",
    "    \"\"\"\n",
    "    Uses plotly to do scatter plot of correlation between two datasets\n",
    "    Inputs:\n",
    "    -------\n",
    "        X    : (array of float) data in X axis\n",
    "        Y    : (array of float) data in Y axis\n",
    "        names: (array of string) molecule names\n",
    "        key  : (string) highlight points that contain 'key' in the name\n",
    "        title: (string) title of the plot. Defaults to 'Energy'\n",
    "        xlabel: (string) x label of the plot\n",
    "    Output:\n",
    "    -------\n",
    "        Plotly scatter plot with hover tags\n",
    "        Correlation statistics\n",
    "    \"\"\"\n",
    "    if OPCION=='num':\n",
    "        moleculas,n_atomos,volumen,area = read_atoms_volume(N_ATOMS)\n",
    "        key_true = []\n",
    "        if key=='vol':\n",
    "            key_true=volumen\n",
    "        elif key=='sup':\n",
    "            key_true=area\n",
    "        else:\n",
    "            key_true=n_atomos\n",
    "        \n",
    "    else:   \n",
    "        key_true = []\n",
    "        for i in range(len(names)):\n",
    "            if key in names[i]:\n",
    "                key_true.append(\"red\")\n",
    "            else:\n",
    "                key_true.append(\"blue\")\n",
    "\n",
    "    trace = go.Scatter(\n",
    "                x = X,\n",
    "                y = Y,\n",
    "                text = names,\n",
    "                mode='markers',\n",
    "                marker = dict(size=8,\n",
    "                            opacity=0.6, color=key_true,colorscale='Viridis',colorbar=dict(thickness=20)),\n",
    "                hoverinfo = 'text')\n",
    "\n",
    "\n",
    "    max_val = numpy.max(X)\n",
    "    min_val = numpy.min(X)\n",
    "    ref = go.Scatter( x = numpy.array([min_val,max_val]),\n",
    "                      y = numpy.array([min_val,max_val]),\n",
    "                      mode = 'lines'\n",
    "                    )\n",
    "\n",
    "    data = [trace, ref]\n",
    "    \n",
    "    layout= go.Layout(\n",
    "        title= 'Energy',\n",
    "        hovermode= 'closest',\n",
    "        xaxis= dict(\n",
    "            title= 'MD',\n",
    "            ticklen= 5,\n",
    "            zeroline= False,\n",
    "            gridwidth= 2,\n",
    "        ),\n",
    "        yaxis=dict(\n",
    "            title= 'BEM',\n",
    "            ticklen= 5,\n",
    "            gridwidth= 2,\n",
    "        ),\n",
    "        showlegend= False\n",
    "    )\n",
    "    \n",
    "    correl = numpy.corrcoef(X, Y)\n",
    "    rmsd = numpy.sqrt(numpy.sum(numpy.abs(X-Y)**2)/len(X))\n",
    "    mue = numpy.sum(numpy.abs(X-Y))/len(X)\n",
    "\n",
    "    print ('Correlation coeff: %1.4f'%correl[0,1])\n",
    "    print ('RMSD: %1.4f'%rmsd)\n",
    "    print ('MUE: %1.4f'%mue)\n",
    "    \n",
    "    fig= go.Figure(data=data, layout=layout)\n",
    "    iplot(fig)\n",
    "    \n",
    "    \n",
    "def read_explicit(filename):\n",
    "    \"\"\"\n",
    "    Reads in data of solvation free energy from explicit_data.txt (taken from Mobley et al 2009)\n",
    "    Input:\n",
    "    ------\n",
    "        filename: (string) name of file (probably explicit_data.txt)\n",
    "        \n",
    "    Output:\n",
    "    -------\n",
    "        iupac: (array of str) names of molecules in IUPAC\n",
    "        smiles: (array of str) names of molecuiles in SMILES \n",
    "        dGes: (array of float) electrostatic component of solvation free energy \n",
    "        dGcav: (array of float) free energy to generate the solute-shaped cavity \n",
    "        dGdisp: (array of float) free energy of the solute-solvent dispersion interaction \n",
    "        dGexper: (array of float) solvation free energy measured experimentally\n",
    "    \"\"\"\n",
    "    \n",
    "    iupac = []; smiles = []; dGes = []; dGcav = []; dGdisp = []; dGexper = []\n",
    "    with open(filename) as f:\n",
    "        line = f.readline()\n",
    "        line = f.readline()\n",
    "\n",
    "        while line:\n",
    "            line_split = line.split()\n",
    "            iupac.append(line_split[0][:-1])\n",
    "            smiles.append(line_split[1][:-1])\n",
    "            dGes.append(float(line_split[2][:-1]))\n",
    "            dGcav.append(float(line_split[3][:-1]))\n",
    "            dGdisp.append(float(line_split[4][:-1]))\n",
    "            dGexper.append(float(line_split[5]))\n",
    "            line = f.readline()\n",
    "\n",
    "            \n",
    "    iupac   = numpy.array(iupac)\n",
    "    smiles  = numpy.array(smiles)\n",
    "    dGes    = numpy.array(dGes)\n",
    "    dGcav   = numpy.array(dGcav)\n",
    "    dGdisp  = numpy.array(dGdisp)\n",
    "    dGexper = numpy.array(dGexper)\n",
    "    \n",
    "    return iupac, smiles, dGes, dGcav, dGdisp, dGexper\n",
    "            \n",
    "    \n",
    "def read_implicit(filename):\n",
    "    \"\"\"\n",
    "    Reads in data of solvation free energy from implicit_data.txt \n",
    "    Input:\n",
    "    ------\n",
    "        filename: (string) name of file (probably implicit_data.txt)\n",
    "        \n",
    "    Output:\n",
    "    -------\n",
    "        iupac: (array of str) names of molecules in IUPAC\n",
    "        smiles: (array of str) names of molecuiles in SMILES \n",
    "        dGes: (array of float) electrostatic component of solvation free energy \n",
    "        dGcav: (array of float) free energy to generate the solute-shaped cavity \n",
    "        dGdisp: (array of float) free energy of the solute-solvent dispersion interaction \n",
    "        dGexper: (array of float) solvation free energy measured experimentally\n",
    "        sasa: (array of float) solvent accessible surface area \n",
    "        volume: (array of float) molecular volume (inside the SAS)\n",
    "    \"\"\"\n",
    "    iupac = []; smiles = []; dGes = []; dGcav = []; dGdisp = []; dGexper = []; sasa = []; vol = [];\n",
    "    with open(filename) as f:\n",
    "        line = f.readline()\n",
    "        line = f.readline()\n",
    "\n",
    "        while line:\n",
    "            line_split = line.split()\n",
    "            iupac.append(line_split[0][:-1])\n",
    "            smiles.append(line_split[1][:-1])\n",
    "            dGes.append(float(line_split[2][:-1]))\n",
    "            dGcav.append(float(line_split[3][:-1]))\n",
    "            dGdisp.append(float(line_split[4][:-1]))\n",
    "            dGexper.append(float(line_split[5][:-1]))\n",
    "            sasa.append(float(line_split[6][:-1]))\n",
    "            vol.append(float(line_split[7]))\n",
    "            line = f.readline()\n",
    "\n",
    "            \n",
    "    iupac   = numpy.array(iupac)\n",
    "    smiles  = numpy.array(smiles)\n",
    "    dGes    = numpy.array(dGes)\n",
    "    dGcav   = numpy.array(dGcav)\n",
    "    dGdisp  = numpy.array(dGdisp)\n",
    "    dGexper = numpy.array(dGexper)\n",
    "    sasa    = numpy.array(sasa)\n",
    "    vol     = numpy.array(vol)\n",
    "    \n",
    "    return iupac, smiles, dGes, dGcav, dGdisp, dGexper, sasa, vol"
   ]
  },
  {
   "cell_type": "markdown",
   "metadata": {},
   "source": [
    "All the `_i` files are energy components for the implicit solvent model, whereas `_e` for the explicit solvent. `iupac` and `smiles` are the molecule names, which are the same in both files. `SASA` is the solvent accessible surface area and `vol` the volume of each solute.\n",
    "\n",
    "As a reminder:\n",
    "* $\\Delta G_{cav}$ is the cavity energy\n",
    "* $\\Delta G_{disp}$ is the energy of the solute-solvent dispersion interacion\n",
    "* $\\Delta G_{es}$ is the electrostatic component of free energy (charging free energy)\n",
    "* $\\Delta G_{np} = \\Delta G_{cav} + \\Delta G_{disp}$ is the nonpolar component of the solvation free energy\n",
    "* $\\Delta G = \\Delta G_{np} + \\Delta G_{es}$ is the total solvation free energy\n",
    "* $\\Delta G_{exper}$ is the solvation free energy obtained from experiments\n",
    "\n",
    "Next, you can explore the correlation between explicit and implicit solvent calculations for each energy component, and with the experimental values. You might find the following very useful:\n",
    "* Hover over the scatter plot, you'll be able to see the name of each solute, given by either IUPAC or SMILES (see docstring under the `plot_correl` function). \n",
    "* Highlight in red components with a certain string in its name using the `key` argument. For example, if you want to see all the compounds with triple bonds, your third input argument would be `smiles` and you can add `key='#'`  "
   ]
  },
  {
   "cell_type": "code",
   "execution_count": 25,
   "metadata": {
    "scrolled": false
   },
   "outputs": [
    {
     "name": "stdout",
     "output_type": "stream",
     "text": [
      "Correlation coeff: 0.9628\n",
      "RMSD: 1.2019\n",
      "MUE: 0.7338\n"
     ]
    },
    {
     "data": {
      "application/vnd.plotly.v1+json": {
       "config": {
        "linkText": "Export to plot.ly",
        "plotlyServerURL": "https://plot.ly",
        "showLink": false
       },
       "data": [
        {
         "hoverinfo": "text",
         "marker": {
          "color": [
           8,
           8,
           8,
           8,
           8,
           8,
           6,
           8,
           8,
           8,
           10,
           8,
           8,
           9,
           9,
           6,
           6,
           7,
           8,
           6,
           8,
           5,
           5,
           10,
           10,
           5,
           8,
           6,
           5,
           5,
           9,
           5,
           5,
           5,
           9,
           9,
           10,
           10,
           9,
           8,
           9,
           9,
           6,
           10,
           5,
           8,
           9,
           6,
           9,
           8,
           5,
           5,
           8,
           6,
           6,
           8,
           7,
           10,
           7,
           8,
           10,
           9,
           10,
           9,
           10,
           7,
           10,
           8,
           6,
           5,
           5,
           9,
           5,
           6,
           5
          ],
          "colorbar": {
           "thickness": 20
          },
          "colorscale": [
           [
            0,
            "#440154"
           ],
           [
            0.1111111111111111,
            "#482878"
           ],
           [
            0.2222222222222222,
            "#3e4989"
           ],
           [
            0.3333333333333333,
            "#31688e"
           ],
           [
            0.4444444444444444,
            "#26828e"
           ],
           [
            0.5555555555555556,
            "#1f9e89"
           ],
           [
            0.6666666666666666,
            "#35b779"
           ],
           [
            0.7777777777777778,
            "#6ece58"
           ],
           [
            0.8888888888888888,
            "#b5de2b"
           ],
           [
            1,
            "#fde725"
           ]
          ],
          "opacity": 0.6,
          "size": 8
         },
         "mode": "markers",
         "text": [
          "1112_tetrachloroethane",
          "111_trichloroethane",
          "1122_tetrachloroethane",
          "112_trichloro_122_trifluoroethane",
          "112_trichloroethane",
          "11_dichloroethane",
          "11_dichloroethene",
          "11_difluoroethane",
          "12_dibromoethane",
          "12_dichloroethane",
          "12_ethanediol",
          "1_bromo_2_chloroethane",
          "1_chloro_222_trifluoroethane",
          "222_trifluoroethanol",
          "3_chloroprop_1_ene",
          "E_12_dichloroethene",
          "Z_12_dichloroethene",
          "acetaldehyde",
          "acetic_acid",
          "acetonitrile",
          "bromoethane",
          "bromomethane",
          "bromotrifluoromethane",
          "but_1_yne",
          "buta_13_diene",
          "chlorodifluoromethane",
          "chloroethane",
          "chloroethylene",
          "chlorofluoromethane",
          "chloromethane",
          "cyclopropane",
          "dibromomethane",
          "dichloromethane",
          "diiodomethane",
          "dimethyl_ether",
          "dimethyl_sulfide",
          "dimethyl_sulfoxide",
          "dimethylamine",
          "ethanamide",
          "ethane",
          "ethanethiol",
          "ethanol",
          "ethene",
          "ethylamine",
          "fluoromethane",
          "halothane",
          "hexafluoropropene",
          "hydrazine",
          "imidazole",
          "iodoethane",
          "iodomethane",
          "methane",
          "methanesulfonyl_chloride",
          "methanethiol",
          "methanol",
          "methyl_formate",
          "methylamine",
          "nitroethane",
          "nitromethane",
          "pentachloroethane",
          "prop_2_en_1_ol",
          "propanenitrile",
          "propanone",
          "propene",
          "propionaldehyde",
          "propyne",
          "pyrrole",
          "teflurane",
          "tetrachloroethene",
          "tetrachloromethane",
          "tetrafluoromethane",
          "thiophene",
          "tribromomethane",
          "trichloroethene",
          "trichloromethane"
         ],
         "type": "scatter",
         "x": [
          -1.43,
          -1.13,
          -1.88,
          -0.32,
          -2.01,
          -1.64,
          -0.85,
          -2.41,
          -1.6,
          -2.15,
          -8.71,
          -1.77,
          -2.27,
          -6.05,
          -1.48,
          -0.87,
          -1.72,
          -5.18,
          -7.07,
          -3.77,
          -1.01,
          -0.89,
          -0.38,
          -0.86,
          -0.96,
          -2.32,
          -1.26,
          -1.06,
          -2.25,
          -1.14,
          -0.03,
          -1.1,
          -1.6,
          -2.3,
          -2.7,
          -1.7,
          -9.68,
          -4.72,
          -9.94,
          0,
          -2.49,
          -5.2,
          -0.3,
          -5,
          -1.61,
          -1.59,
          -1.17,
          -8.36,
          -8.49,
          -1.93,
          -1.9,
          0,
          -6.85,
          -2.25,
          -5.15,
          -4.48,
          -5.13,
          -2.47,
          -2.53,
          -1.13,
          -5.18,
          -3.61,
          -5.31,
          -0.37,
          -5.06,
          -0.87,
          -5.16,
          -1.99,
          -0.09,
          -0.13,
          -0.38,
          -1.88,
          -0.7,
          -0.82,
          -1.23
         ],
         "y": [
          -1.9188,
          -1.3677,
          -3.0652,
          -0.4954,
          -3.6829,
          -2.0882,
          -1.1415,
          -2.8453,
          -1.567,
          -3.147,
          -13.67,
          -1.7323,
          -3.0038,
          -9.6783,
          -2.0543,
          -1.3554,
          -2.2556,
          -5.2923,
          -10.9528,
          -4.1824,
          -1.2094,
          -1.1776,
          -0.5574,
          -1.1333,
          -1.2324,
          -3.6857,
          -1.5251,
          -1.4233,
          -3.0614,
          -1.4985,
          -0.1624,
          -1.478,
          -2.2066,
          -3.2877,
          -2.7022,
          -2.0213,
          -8.8221,
          -4.6196,
          -11.2264,
          -0.018,
          -3.5109,
          -6.8713,
          -0.5174,
          -5.3852,
          -1.85,
          -2.1956,
          -1.5773,
          -12.9071,
          -9.144,
          -2.2661,
          -2.3769,
          -0.0075,
          -8.6719,
          -3.4501,
          -7.0234,
          -5.139,
          -5.9075,
          -2.9485,
          -3.194,
          -1.5889,
          -6.2456,
          -3.8373,
          -5.0756,
          -0.5565,
          -5.0753,
          -1.2064,
          -6.2851,
          -2.9808,
          -0.0901,
          -0.1779,
          -0.6038,
          -2.242,
          -1.0094,
          -1.1427,
          -1.9246
         ]
        },
        {
         "mode": "lines",
         "type": "scatter",
         "x": [
          -9.94,
          0
         ],
         "y": [
          -9.94,
          0
         ]
        }
       ],
       "layout": {
        "hovermode": "closest",
        "showlegend": false,
        "template": {
         "data": {
          "bar": [
           {
            "error_x": {
             "color": "#2a3f5f"
            },
            "error_y": {
             "color": "#2a3f5f"
            },
            "marker": {
             "line": {
              "color": "#E5ECF6",
              "width": 0.5
             }
            },
            "type": "bar"
           }
          ],
          "barpolar": [
           {
            "marker": {
             "line": {
              "color": "#E5ECF6",
              "width": 0.5
             }
            },
            "type": "barpolar"
           }
          ],
          "carpet": [
           {
            "aaxis": {
             "endlinecolor": "#2a3f5f",
             "gridcolor": "white",
             "linecolor": "white",
             "minorgridcolor": "white",
             "startlinecolor": "#2a3f5f"
            },
            "baxis": {
             "endlinecolor": "#2a3f5f",
             "gridcolor": "white",
             "linecolor": "white",
             "minorgridcolor": "white",
             "startlinecolor": "#2a3f5f"
            },
            "type": "carpet"
           }
          ],
          "choropleth": [
           {
            "colorbar": {
             "outlinewidth": 0,
             "ticks": ""
            },
            "type": "choropleth"
           }
          ],
          "contour": [
           {
            "colorbar": {
             "outlinewidth": 0,
             "ticks": ""
            },
            "colorscale": [
             [
              0,
              "#0d0887"
             ],
             [
              0.1111111111111111,
              "#46039f"
             ],
             [
              0.2222222222222222,
              "#7201a8"
             ],
             [
              0.3333333333333333,
              "#9c179e"
             ],
             [
              0.4444444444444444,
              "#bd3786"
             ],
             [
              0.5555555555555556,
              "#d8576b"
             ],
             [
              0.6666666666666666,
              "#ed7953"
             ],
             [
              0.7777777777777778,
              "#fb9f3a"
             ],
             [
              0.8888888888888888,
              "#fdca26"
             ],
             [
              1,
              "#f0f921"
             ]
            ],
            "type": "contour"
           }
          ],
          "contourcarpet": [
           {
            "colorbar": {
             "outlinewidth": 0,
             "ticks": ""
            },
            "type": "contourcarpet"
           }
          ],
          "heatmap": [
           {
            "colorbar": {
             "outlinewidth": 0,
             "ticks": ""
            },
            "colorscale": [
             [
              0,
              "#0d0887"
             ],
             [
              0.1111111111111111,
              "#46039f"
             ],
             [
              0.2222222222222222,
              "#7201a8"
             ],
             [
              0.3333333333333333,
              "#9c179e"
             ],
             [
              0.4444444444444444,
              "#bd3786"
             ],
             [
              0.5555555555555556,
              "#d8576b"
             ],
             [
              0.6666666666666666,
              "#ed7953"
             ],
             [
              0.7777777777777778,
              "#fb9f3a"
             ],
             [
              0.8888888888888888,
              "#fdca26"
             ],
             [
              1,
              "#f0f921"
             ]
            ],
            "type": "heatmap"
           }
          ],
          "heatmapgl": [
           {
            "colorbar": {
             "outlinewidth": 0,
             "ticks": ""
            },
            "colorscale": [
             [
              0,
              "#0d0887"
             ],
             [
              0.1111111111111111,
              "#46039f"
             ],
             [
              0.2222222222222222,
              "#7201a8"
             ],
             [
              0.3333333333333333,
              "#9c179e"
             ],
             [
              0.4444444444444444,
              "#bd3786"
             ],
             [
              0.5555555555555556,
              "#d8576b"
             ],
             [
              0.6666666666666666,
              "#ed7953"
             ],
             [
              0.7777777777777778,
              "#fb9f3a"
             ],
             [
              0.8888888888888888,
              "#fdca26"
             ],
             [
              1,
              "#f0f921"
             ]
            ],
            "type": "heatmapgl"
           }
          ],
          "histogram": [
           {
            "marker": {
             "colorbar": {
              "outlinewidth": 0,
              "ticks": ""
             }
            },
            "type": "histogram"
           }
          ],
          "histogram2d": [
           {
            "colorbar": {
             "outlinewidth": 0,
             "ticks": ""
            },
            "colorscale": [
             [
              0,
              "#0d0887"
             ],
             [
              0.1111111111111111,
              "#46039f"
             ],
             [
              0.2222222222222222,
              "#7201a8"
             ],
             [
              0.3333333333333333,
              "#9c179e"
             ],
             [
              0.4444444444444444,
              "#bd3786"
             ],
             [
              0.5555555555555556,
              "#d8576b"
             ],
             [
              0.6666666666666666,
              "#ed7953"
             ],
             [
              0.7777777777777778,
              "#fb9f3a"
             ],
             [
              0.8888888888888888,
              "#fdca26"
             ],
             [
              1,
              "#f0f921"
             ]
            ],
            "type": "histogram2d"
           }
          ],
          "histogram2dcontour": [
           {
            "colorbar": {
             "outlinewidth": 0,
             "ticks": ""
            },
            "colorscale": [
             [
              0,
              "#0d0887"
             ],
             [
              0.1111111111111111,
              "#46039f"
             ],
             [
              0.2222222222222222,
              "#7201a8"
             ],
             [
              0.3333333333333333,
              "#9c179e"
             ],
             [
              0.4444444444444444,
              "#bd3786"
             ],
             [
              0.5555555555555556,
              "#d8576b"
             ],
             [
              0.6666666666666666,
              "#ed7953"
             ],
             [
              0.7777777777777778,
              "#fb9f3a"
             ],
             [
              0.8888888888888888,
              "#fdca26"
             ],
             [
              1,
              "#f0f921"
             ]
            ],
            "type": "histogram2dcontour"
           }
          ],
          "mesh3d": [
           {
            "colorbar": {
             "outlinewidth": 0,
             "ticks": ""
            },
            "type": "mesh3d"
           }
          ],
          "parcoords": [
           {
            "line": {
             "colorbar": {
              "outlinewidth": 0,
              "ticks": ""
             }
            },
            "type": "parcoords"
           }
          ],
          "pie": [
           {
            "automargin": true,
            "type": "pie"
           }
          ],
          "scatter": [
           {
            "marker": {
             "colorbar": {
              "outlinewidth": 0,
              "ticks": ""
             }
            },
            "type": "scatter"
           }
          ],
          "scatter3d": [
           {
            "line": {
             "colorbar": {
              "outlinewidth": 0,
              "ticks": ""
             }
            },
            "marker": {
             "colorbar": {
              "outlinewidth": 0,
              "ticks": ""
             }
            },
            "type": "scatter3d"
           }
          ],
          "scattercarpet": [
           {
            "marker": {
             "colorbar": {
              "outlinewidth": 0,
              "ticks": ""
             }
            },
            "type": "scattercarpet"
           }
          ],
          "scattergeo": [
           {
            "marker": {
             "colorbar": {
              "outlinewidth": 0,
              "ticks": ""
             }
            },
            "type": "scattergeo"
           }
          ],
          "scattergl": [
           {
            "marker": {
             "colorbar": {
              "outlinewidth": 0,
              "ticks": ""
             }
            },
            "type": "scattergl"
           }
          ],
          "scattermapbox": [
           {
            "marker": {
             "colorbar": {
              "outlinewidth": 0,
              "ticks": ""
             }
            },
            "type": "scattermapbox"
           }
          ],
          "scatterpolar": [
           {
            "marker": {
             "colorbar": {
              "outlinewidth": 0,
              "ticks": ""
             }
            },
            "type": "scatterpolar"
           }
          ],
          "scatterpolargl": [
           {
            "marker": {
             "colorbar": {
              "outlinewidth": 0,
              "ticks": ""
             }
            },
            "type": "scatterpolargl"
           }
          ],
          "scatterternary": [
           {
            "marker": {
             "colorbar": {
              "outlinewidth": 0,
              "ticks": ""
             }
            },
            "type": "scatterternary"
           }
          ],
          "surface": [
           {
            "colorbar": {
             "outlinewidth": 0,
             "ticks": ""
            },
            "colorscale": [
             [
              0,
              "#0d0887"
             ],
             [
              0.1111111111111111,
              "#46039f"
             ],
             [
              0.2222222222222222,
              "#7201a8"
             ],
             [
              0.3333333333333333,
              "#9c179e"
             ],
             [
              0.4444444444444444,
              "#bd3786"
             ],
             [
              0.5555555555555556,
              "#d8576b"
             ],
             [
              0.6666666666666666,
              "#ed7953"
             ],
             [
              0.7777777777777778,
              "#fb9f3a"
             ],
             [
              0.8888888888888888,
              "#fdca26"
             ],
             [
              1,
              "#f0f921"
             ]
            ],
            "type": "surface"
           }
          ],
          "table": [
           {
            "cells": {
             "fill": {
              "color": "#EBF0F8"
             },
             "line": {
              "color": "white"
             }
            },
            "header": {
             "fill": {
              "color": "#C8D4E3"
             },
             "line": {
              "color": "white"
             }
            },
            "type": "table"
           }
          ]
         },
         "layout": {
          "annotationdefaults": {
           "arrowcolor": "#2a3f5f",
           "arrowhead": 0,
           "arrowwidth": 1
          },
          "coloraxis": {
           "colorbar": {
            "outlinewidth": 0,
            "ticks": ""
           }
          },
          "colorscale": {
           "diverging": [
            [
             0,
             "#8e0152"
            ],
            [
             0.1,
             "#c51b7d"
            ],
            [
             0.2,
             "#de77ae"
            ],
            [
             0.3,
             "#f1b6da"
            ],
            [
             0.4,
             "#fde0ef"
            ],
            [
             0.5,
             "#f7f7f7"
            ],
            [
             0.6,
             "#e6f5d0"
            ],
            [
             0.7,
             "#b8e186"
            ],
            [
             0.8,
             "#7fbc41"
            ],
            [
             0.9,
             "#4d9221"
            ],
            [
             1,
             "#276419"
            ]
           ],
           "sequential": [
            [
             0,
             "#0d0887"
            ],
            [
             0.1111111111111111,
             "#46039f"
            ],
            [
             0.2222222222222222,
             "#7201a8"
            ],
            [
             0.3333333333333333,
             "#9c179e"
            ],
            [
             0.4444444444444444,
             "#bd3786"
            ],
            [
             0.5555555555555556,
             "#d8576b"
            ],
            [
             0.6666666666666666,
             "#ed7953"
            ],
            [
             0.7777777777777778,
             "#fb9f3a"
            ],
            [
             0.8888888888888888,
             "#fdca26"
            ],
            [
             1,
             "#f0f921"
            ]
           ],
           "sequentialminus": [
            [
             0,
             "#0d0887"
            ],
            [
             0.1111111111111111,
             "#46039f"
            ],
            [
             0.2222222222222222,
             "#7201a8"
            ],
            [
             0.3333333333333333,
             "#9c179e"
            ],
            [
             0.4444444444444444,
             "#bd3786"
            ],
            [
             0.5555555555555556,
             "#d8576b"
            ],
            [
             0.6666666666666666,
             "#ed7953"
            ],
            [
             0.7777777777777778,
             "#fb9f3a"
            ],
            [
             0.8888888888888888,
             "#fdca26"
            ],
            [
             1,
             "#f0f921"
            ]
           ]
          },
          "colorway": [
           "#636efa",
           "#EF553B",
           "#00cc96",
           "#ab63fa",
           "#FFA15A",
           "#19d3f3",
           "#FF6692",
           "#B6E880",
           "#FF97FF",
           "#FECB52"
          ],
          "font": {
           "color": "#2a3f5f"
          },
          "geo": {
           "bgcolor": "white",
           "lakecolor": "white",
           "landcolor": "#E5ECF6",
           "showlakes": true,
           "showland": true,
           "subunitcolor": "white"
          },
          "hoverlabel": {
           "align": "left"
          },
          "hovermode": "closest",
          "mapbox": {
           "style": "light"
          },
          "paper_bgcolor": "white",
          "plot_bgcolor": "#E5ECF6",
          "polar": {
           "angularaxis": {
            "gridcolor": "white",
            "linecolor": "white",
            "ticks": ""
           },
           "bgcolor": "#E5ECF6",
           "radialaxis": {
            "gridcolor": "white",
            "linecolor": "white",
            "ticks": ""
           }
          },
          "scene": {
           "xaxis": {
            "backgroundcolor": "#E5ECF6",
            "gridcolor": "white",
            "gridwidth": 2,
            "linecolor": "white",
            "showbackground": true,
            "ticks": "",
            "zerolinecolor": "white"
           },
           "yaxis": {
            "backgroundcolor": "#E5ECF6",
            "gridcolor": "white",
            "gridwidth": 2,
            "linecolor": "white",
            "showbackground": true,
            "ticks": "",
            "zerolinecolor": "white"
           },
           "zaxis": {
            "backgroundcolor": "#E5ECF6",
            "gridcolor": "white",
            "gridwidth": 2,
            "linecolor": "white",
            "showbackground": true,
            "ticks": "",
            "zerolinecolor": "white"
           }
          },
          "shapedefaults": {
           "line": {
            "color": "#2a3f5f"
           }
          },
          "ternary": {
           "aaxis": {
            "gridcolor": "white",
            "linecolor": "white",
            "ticks": ""
           },
           "baxis": {
            "gridcolor": "white",
            "linecolor": "white",
            "ticks": ""
           },
           "bgcolor": "#E5ECF6",
           "caxis": {
            "gridcolor": "white",
            "linecolor": "white",
            "ticks": ""
           }
          },
          "title": {
           "x": 0.05
          },
          "xaxis": {
           "automargin": true,
           "gridcolor": "white",
           "linecolor": "white",
           "ticks": "",
           "title": {
            "standoff": 15
           },
           "zerolinecolor": "white",
           "zerolinewidth": 2
          },
          "yaxis": {
           "automargin": true,
           "gridcolor": "white",
           "linecolor": "white",
           "ticks": "",
           "title": {
            "standoff": 15
           },
           "zerolinecolor": "white",
           "zerolinewidth": 2
          }
         }
        },
        "title": {
         "text": "Energy"
        },
        "xaxis": {
         "gridwidth": 2,
         "ticklen": 5,
         "title": {
          "text": "MD"
         },
         "zeroline": false
        },
        "yaxis": {
         "gridwidth": 2,
         "ticklen": 5,
         "title": {
          "text": "BEM"
         }
        }
       }
      },
      "text/html": [
       "<div>\n",
       "        \n",
       "        \n",
       "            <div id=\"e617fbb6-b86d-45ab-b32d-c1feb6e1e529\" class=\"plotly-graph-div\" style=\"height:525px; width:100%;\"></div>\n",
       "            <script type=\"text/javascript\">\n",
       "                require([\"plotly\"], function(Plotly) {\n",
       "                    window.PLOTLYENV=window.PLOTLYENV || {};\n",
       "                    \n",
       "                if (document.getElementById(\"e617fbb6-b86d-45ab-b32d-c1feb6e1e529\")) {\n",
       "                    Plotly.newPlot(\n",
       "                        'e617fbb6-b86d-45ab-b32d-c1feb6e1e529',\n",
       "                        [{\"hoverinfo\": \"text\", \"marker\": {\"color\": [8, 8, 8, 8, 8, 8, 6, 8, 8, 8, 10, 8, 8, 9, 9, 6, 6, 7, 8, 6, 8, 5, 5, 10, 10, 5, 8, 6, 5, 5, 9, 5, 5, 5, 9, 9, 10, 10, 9, 8, 9, 9, 6, 10, 5, 8, 9, 6, 9, 8, 5, 5, 8, 6, 6, 8, 7, 10, 7, 8, 10, 9, 10, 9, 10, 7, 10, 8, 6, 5, 5, 9, 5, 6, 5], \"colorbar\": {\"thickness\": 20}, \"colorscale\": [[0.0, \"#440154\"], [0.1111111111111111, \"#482878\"], [0.2222222222222222, \"#3e4989\"], [0.3333333333333333, \"#31688e\"], [0.4444444444444444, \"#26828e\"], [0.5555555555555556, \"#1f9e89\"], [0.6666666666666666, \"#35b779\"], [0.7777777777777778, \"#6ece58\"], [0.8888888888888888, \"#b5de2b\"], [1.0, \"#fde725\"]], \"opacity\": 0.6, \"size\": 8}, \"mode\": \"markers\", \"text\": [\"1112_tetrachloroethane\", \"111_trichloroethane\", \"1122_tetrachloroethane\", \"112_trichloro_122_trifluoroethane\", \"112_trichloroethane\", \"11_dichloroethane\", \"11_dichloroethene\", \"11_difluoroethane\", \"12_dibromoethane\", \"12_dichloroethane\", \"12_ethanediol\", \"1_bromo_2_chloroethane\", \"1_chloro_222_trifluoroethane\", \"222_trifluoroethanol\", \"3_chloroprop_1_ene\", \"E_12_dichloroethene\", \"Z_12_dichloroethene\", \"acetaldehyde\", \"acetic_acid\", \"acetonitrile\", \"bromoethane\", \"bromomethane\", \"bromotrifluoromethane\", \"but_1_yne\", \"buta_13_diene\", \"chlorodifluoromethane\", \"chloroethane\", \"chloroethylene\", \"chlorofluoromethane\", \"chloromethane\", \"cyclopropane\", \"dibromomethane\", \"dichloromethane\", \"diiodomethane\", \"dimethyl_ether\", \"dimethyl_sulfide\", \"dimethyl_sulfoxide\", \"dimethylamine\", \"ethanamide\", \"ethane\", \"ethanethiol\", \"ethanol\", \"ethene\", \"ethylamine\", \"fluoromethane\", \"halothane\", \"hexafluoropropene\", \"hydrazine\", \"imidazole\", \"iodoethane\", \"iodomethane\", \"methane\", \"methanesulfonyl_chloride\", \"methanethiol\", \"methanol\", \"methyl_formate\", \"methylamine\", \"nitroethane\", \"nitromethane\", \"pentachloroethane\", \"prop_2_en_1_ol\", \"propanenitrile\", \"propanone\", \"propene\", \"propionaldehyde\", \"propyne\", \"pyrrole\", \"teflurane\", \"tetrachloroethene\", \"tetrachloromethane\", \"tetrafluoromethane\", \"thiophene\", \"tribromomethane\", \"trichloroethene\", \"trichloromethane\"], \"type\": \"scatter\", \"x\": [-1.43, -1.13, -1.88, -0.32, -2.01, -1.64, -0.85, -2.41, -1.6, -2.15, -8.71, -1.77, -2.27, -6.05, -1.48, -0.87, -1.72, -5.18, -7.07, -3.77, -1.01, -0.89, -0.38, -0.86, -0.96, -2.32, -1.26, -1.06, -2.25, -1.14, -0.03, -1.1, -1.6, -2.3, -2.7, -1.7, -9.68, -4.72, -9.94, 0.0, -2.49, -5.2, -0.3, -5.0, -1.61, -1.59, -1.17, -8.36, -8.49, -1.93, -1.9, 0.0, -6.85, -2.25, -5.15, -4.48, -5.13, -2.47, -2.53, -1.13, -5.18, -3.61, -5.31, -0.37, -5.06, -0.87, -5.16, -1.99, -0.09, -0.13, -0.38, -1.88, -0.7, -0.82, -1.23], \"y\": [-1.9188, -1.3677, -3.0652, -0.4954, -3.6829, -2.0882, -1.1415, -2.8453, -1.567, -3.147, -13.67, -1.7323, -3.0038, -9.6783, -2.0543, -1.3554, -2.2556, -5.2923, -10.9528, -4.1824, -1.2094, -1.1776, -0.5574, -1.1333, -1.2324, -3.6857, -1.5251, -1.4233, -3.0614, -1.4985, -0.1624, -1.478, -2.2066, -3.2877, -2.7022, -2.0213, -8.8221, -4.6196, -11.2264, -0.018, -3.5109, -6.8713, -0.5174, -5.3852, -1.85, -2.1956, -1.5773, -12.9071, -9.144, -2.2661, -2.3769, -0.0075, -8.6719, -3.4501, -7.0234, -5.139, -5.9075, -2.9485, -3.194, -1.5889, -6.2456, -3.8373, -5.0756, -0.5565, -5.0753, -1.2064, -6.2851, -2.9808, -0.0901, -0.1779, -0.6038, -2.242, -1.0094, -1.1427, -1.9246]}, {\"mode\": \"lines\", \"type\": \"scatter\", \"x\": [-9.94, 0.0], \"y\": [-9.94, 0.0]}],\n",
       "                        {\"hovermode\": \"closest\", \"showlegend\": false, \"template\": {\"data\": {\"bar\": [{\"error_x\": {\"color\": \"#2a3f5f\"}, \"error_y\": {\"color\": \"#2a3f5f\"}, \"marker\": {\"line\": {\"color\": \"#E5ECF6\", \"width\": 0.5}}, \"type\": \"bar\"}], \"barpolar\": [{\"marker\": {\"line\": {\"color\": \"#E5ECF6\", \"width\": 0.5}}, \"type\": \"barpolar\"}], \"carpet\": [{\"aaxis\": {\"endlinecolor\": \"#2a3f5f\", \"gridcolor\": \"white\", \"linecolor\": \"white\", \"minorgridcolor\": \"white\", \"startlinecolor\": \"#2a3f5f\"}, \"baxis\": {\"endlinecolor\": \"#2a3f5f\", \"gridcolor\": \"white\", \"linecolor\": \"white\", \"minorgridcolor\": \"white\", \"startlinecolor\": \"#2a3f5f\"}, \"type\": \"carpet\"}], \"choropleth\": [{\"colorbar\": {\"outlinewidth\": 0, \"ticks\": \"\"}, \"type\": \"choropleth\"}], \"contour\": [{\"colorbar\": {\"outlinewidth\": 0, \"ticks\": \"\"}, \"colorscale\": [[0.0, \"#0d0887\"], [0.1111111111111111, \"#46039f\"], [0.2222222222222222, \"#7201a8\"], [0.3333333333333333, \"#9c179e\"], [0.4444444444444444, \"#bd3786\"], [0.5555555555555556, \"#d8576b\"], [0.6666666666666666, \"#ed7953\"], [0.7777777777777778, \"#fb9f3a\"], [0.8888888888888888, \"#fdca26\"], [1.0, \"#f0f921\"]], \"type\": \"contour\"}], \"contourcarpet\": [{\"colorbar\": {\"outlinewidth\": 0, \"ticks\": \"\"}, \"type\": \"contourcarpet\"}], \"heatmap\": [{\"colorbar\": {\"outlinewidth\": 0, \"ticks\": \"\"}, \"colorscale\": [[0.0, \"#0d0887\"], [0.1111111111111111, \"#46039f\"], [0.2222222222222222, \"#7201a8\"], [0.3333333333333333, \"#9c179e\"], [0.4444444444444444, \"#bd3786\"], [0.5555555555555556, \"#d8576b\"], [0.6666666666666666, \"#ed7953\"], [0.7777777777777778, \"#fb9f3a\"], [0.8888888888888888, \"#fdca26\"], [1.0, \"#f0f921\"]], \"type\": \"heatmap\"}], \"heatmapgl\": [{\"colorbar\": {\"outlinewidth\": 0, \"ticks\": \"\"}, \"colorscale\": [[0.0, \"#0d0887\"], [0.1111111111111111, \"#46039f\"], [0.2222222222222222, \"#7201a8\"], [0.3333333333333333, \"#9c179e\"], [0.4444444444444444, \"#bd3786\"], [0.5555555555555556, \"#d8576b\"], [0.6666666666666666, \"#ed7953\"], [0.7777777777777778, \"#fb9f3a\"], [0.8888888888888888, \"#fdca26\"], [1.0, \"#f0f921\"]], \"type\": \"heatmapgl\"}], \"histogram\": [{\"marker\": {\"colorbar\": {\"outlinewidth\": 0, \"ticks\": \"\"}}, \"type\": \"histogram\"}], \"histogram2d\": [{\"colorbar\": {\"outlinewidth\": 0, \"ticks\": \"\"}, \"colorscale\": [[0.0, \"#0d0887\"], [0.1111111111111111, \"#46039f\"], [0.2222222222222222, \"#7201a8\"], [0.3333333333333333, \"#9c179e\"], [0.4444444444444444, \"#bd3786\"], [0.5555555555555556, \"#d8576b\"], [0.6666666666666666, \"#ed7953\"], [0.7777777777777778, \"#fb9f3a\"], [0.8888888888888888, \"#fdca26\"], [1.0, \"#f0f921\"]], \"type\": \"histogram2d\"}], \"histogram2dcontour\": [{\"colorbar\": {\"outlinewidth\": 0, \"ticks\": \"\"}, \"colorscale\": [[0.0, \"#0d0887\"], [0.1111111111111111, \"#46039f\"], [0.2222222222222222, \"#7201a8\"], [0.3333333333333333, \"#9c179e\"], [0.4444444444444444, \"#bd3786\"], [0.5555555555555556, \"#d8576b\"], [0.6666666666666666, \"#ed7953\"], [0.7777777777777778, \"#fb9f3a\"], [0.8888888888888888, \"#fdca26\"], [1.0, \"#f0f921\"]], \"type\": \"histogram2dcontour\"}], \"mesh3d\": [{\"colorbar\": {\"outlinewidth\": 0, \"ticks\": \"\"}, \"type\": \"mesh3d\"}], \"parcoords\": [{\"line\": {\"colorbar\": {\"outlinewidth\": 0, \"ticks\": \"\"}}, \"type\": \"parcoords\"}], \"pie\": [{\"automargin\": true, \"type\": \"pie\"}], \"scatter\": [{\"marker\": {\"colorbar\": {\"outlinewidth\": 0, \"ticks\": \"\"}}, \"type\": \"scatter\"}], \"scatter3d\": [{\"line\": {\"colorbar\": {\"outlinewidth\": 0, \"ticks\": \"\"}}, \"marker\": {\"colorbar\": {\"outlinewidth\": 0, \"ticks\": \"\"}}, \"type\": \"scatter3d\"}], \"scattercarpet\": [{\"marker\": {\"colorbar\": {\"outlinewidth\": 0, \"ticks\": \"\"}}, \"type\": \"scattercarpet\"}], \"scattergeo\": [{\"marker\": {\"colorbar\": {\"outlinewidth\": 0, \"ticks\": \"\"}}, \"type\": \"scattergeo\"}], \"scattergl\": [{\"marker\": {\"colorbar\": {\"outlinewidth\": 0, \"ticks\": \"\"}}, \"type\": \"scattergl\"}], \"scattermapbox\": [{\"marker\": {\"colorbar\": {\"outlinewidth\": 0, \"ticks\": \"\"}}, \"type\": \"scattermapbox\"}], \"scatterpolar\": [{\"marker\": {\"colorbar\": {\"outlinewidth\": 0, \"ticks\": \"\"}}, \"type\": \"scatterpolar\"}], \"scatterpolargl\": [{\"marker\": {\"colorbar\": {\"outlinewidth\": 0, \"ticks\": \"\"}}, \"type\": \"scatterpolargl\"}], \"scatterternary\": [{\"marker\": {\"colorbar\": {\"outlinewidth\": 0, \"ticks\": \"\"}}, \"type\": \"scatterternary\"}], \"surface\": [{\"colorbar\": {\"outlinewidth\": 0, \"ticks\": \"\"}, \"colorscale\": [[0.0, \"#0d0887\"], [0.1111111111111111, \"#46039f\"], [0.2222222222222222, \"#7201a8\"], [0.3333333333333333, \"#9c179e\"], [0.4444444444444444, \"#bd3786\"], [0.5555555555555556, \"#d8576b\"], [0.6666666666666666, \"#ed7953\"], [0.7777777777777778, \"#fb9f3a\"], [0.8888888888888888, \"#fdca26\"], [1.0, \"#f0f921\"]], \"type\": \"surface\"}], \"table\": [{\"cells\": {\"fill\": {\"color\": \"#EBF0F8\"}, \"line\": {\"color\": \"white\"}}, \"header\": {\"fill\": {\"color\": \"#C8D4E3\"}, \"line\": {\"color\": \"white\"}}, \"type\": \"table\"}]}, \"layout\": {\"annotationdefaults\": {\"arrowcolor\": \"#2a3f5f\", \"arrowhead\": 0, \"arrowwidth\": 1}, \"coloraxis\": {\"colorbar\": {\"outlinewidth\": 0, \"ticks\": \"\"}}, \"colorscale\": {\"diverging\": [[0, \"#8e0152\"], [0.1, \"#c51b7d\"], [0.2, \"#de77ae\"], [0.3, \"#f1b6da\"], [0.4, \"#fde0ef\"], [0.5, \"#f7f7f7\"], [0.6, \"#e6f5d0\"], [0.7, \"#b8e186\"], [0.8, \"#7fbc41\"], [0.9, \"#4d9221\"], [1, \"#276419\"]], \"sequential\": [[0.0, \"#0d0887\"], [0.1111111111111111, \"#46039f\"], [0.2222222222222222, \"#7201a8\"], [0.3333333333333333, \"#9c179e\"], [0.4444444444444444, \"#bd3786\"], [0.5555555555555556, \"#d8576b\"], [0.6666666666666666, \"#ed7953\"], [0.7777777777777778, \"#fb9f3a\"], [0.8888888888888888, \"#fdca26\"], [1.0, \"#f0f921\"]], \"sequentialminus\": [[0.0, \"#0d0887\"], [0.1111111111111111, \"#46039f\"], [0.2222222222222222, \"#7201a8\"], [0.3333333333333333, \"#9c179e\"], [0.4444444444444444, \"#bd3786\"], [0.5555555555555556, \"#d8576b\"], [0.6666666666666666, \"#ed7953\"], [0.7777777777777778, \"#fb9f3a\"], [0.8888888888888888, \"#fdca26\"], [1.0, \"#f0f921\"]]}, \"colorway\": [\"#636efa\", \"#EF553B\", \"#00cc96\", \"#ab63fa\", \"#FFA15A\", \"#19d3f3\", \"#FF6692\", \"#B6E880\", \"#FF97FF\", \"#FECB52\"], \"font\": {\"color\": \"#2a3f5f\"}, \"geo\": {\"bgcolor\": \"white\", \"lakecolor\": \"white\", \"landcolor\": \"#E5ECF6\", \"showlakes\": true, \"showland\": true, \"subunitcolor\": \"white\"}, \"hoverlabel\": {\"align\": \"left\"}, \"hovermode\": \"closest\", \"mapbox\": {\"style\": \"light\"}, \"paper_bgcolor\": \"white\", \"plot_bgcolor\": \"#E5ECF6\", \"polar\": {\"angularaxis\": {\"gridcolor\": \"white\", \"linecolor\": \"white\", \"ticks\": \"\"}, \"bgcolor\": \"#E5ECF6\", \"radialaxis\": {\"gridcolor\": \"white\", \"linecolor\": \"white\", \"ticks\": \"\"}}, \"scene\": {\"xaxis\": {\"backgroundcolor\": \"#E5ECF6\", \"gridcolor\": \"white\", \"gridwidth\": 2, \"linecolor\": \"white\", \"showbackground\": true, \"ticks\": \"\", \"zerolinecolor\": \"white\"}, \"yaxis\": {\"backgroundcolor\": \"#E5ECF6\", \"gridcolor\": \"white\", \"gridwidth\": 2, \"linecolor\": \"white\", \"showbackground\": true, \"ticks\": \"\", \"zerolinecolor\": \"white\"}, \"zaxis\": {\"backgroundcolor\": \"#E5ECF6\", \"gridcolor\": \"white\", \"gridwidth\": 2, \"linecolor\": \"white\", \"showbackground\": true, \"ticks\": \"\", \"zerolinecolor\": \"white\"}}, \"shapedefaults\": {\"line\": {\"color\": \"#2a3f5f\"}}, \"ternary\": {\"aaxis\": {\"gridcolor\": \"white\", \"linecolor\": \"white\", \"ticks\": \"\"}, \"baxis\": {\"gridcolor\": \"white\", \"linecolor\": \"white\", \"ticks\": \"\"}, \"bgcolor\": \"#E5ECF6\", \"caxis\": {\"gridcolor\": \"white\", \"linecolor\": \"white\", \"ticks\": \"\"}}, \"title\": {\"x\": 0.05}, \"xaxis\": {\"automargin\": true, \"gridcolor\": \"white\", \"linecolor\": \"white\", \"ticks\": \"\", \"title\": {\"standoff\": 15}, \"zerolinecolor\": \"white\", \"zerolinewidth\": 2}, \"yaxis\": {\"automargin\": true, \"gridcolor\": \"white\", \"linecolor\": \"white\", \"ticks\": \"\", \"title\": {\"standoff\": 15}, \"zerolinecolor\": \"white\", \"zerolinewidth\": 2}}}, \"title\": {\"text\": \"Energy\"}, \"xaxis\": {\"gridwidth\": 2, \"ticklen\": 5, \"title\": {\"text\": \"MD\"}, \"zeroline\": false}, \"yaxis\": {\"gridwidth\": 2, \"ticklen\": 5, \"title\": {\"text\": \"BEM\"}}},\n",
       "                        {\"responsive\": true}\n",
       "                    ).then(function(){\n",
       "                            \n",
       "var gd = document.getElementById('e617fbb6-b86d-45ab-b32d-c1feb6e1e529');\n",
       "var x = new MutationObserver(function (mutations, observer) {{\n",
       "        var display = window.getComputedStyle(gd).display;\n",
       "        if (!display || display === 'none') {{\n",
       "            console.log([gd, 'removed!']);\n",
       "            Plotly.purge(gd);\n",
       "            observer.disconnect();\n",
       "        }}\n",
       "}});\n",
       "\n",
       "// Listen for the removal of the full notebook cells\n",
       "var notebookContainer = gd.closest('#notebook-container');\n",
       "if (notebookContainer) {{\n",
       "    x.observe(notebookContainer, {childList: true});\n",
       "}}\n",
       "\n",
       "// Listen for the clearing of the current output cell\n",
       "var outputEl = gd.closest('.output');\n",
       "if (outputEl) {{\n",
       "    x.observe(outputEl, {childList: true});\n",
       "}}\n",
       "\n",
       "                        })\n",
       "                };\n",
       "                });\n",
       "            </script>\n",
       "        </div>"
      ]
     },
     "metadata": {},
     "output_type": "display_data"
    }
   ],
   "source": [
    "eps='105'\n",
    "direccion = 'new_implicit/'+eps+'.txt'\n",
    "var,i,S='n',5,10\n",
    "#separar('C','explicit_data.txt','new_implicit/'+eps+'.txt')\n",
    "grupos(var,i,S,'explicit_data.txt','new_implicit/'+eps+'.txt','n_atom.txt')\n",
    "iupac, smiles, dGes_i, dGcav_i, dGdisp_i, dGexper, SASA, vol =read_implicit('implicit_comp.txt')\n",
    "iupac, smiles, dGes_e, dGcav_e, dGdisp_e, dGexper = read_explicit('explicit_comp.txt')\n",
    "\n",
    "plot_correl(dGes_e, dGes_i, iupac,'n_groups.txt','num', key=var)"
   ]
  },
  {
   "cell_type": "code",
   "execution_count": null,
   "metadata": {},
   "outputs": [],
   "source": []
  }
 ],
 "metadata": {
  "kernelspec": {
   "display_name": "Python 3",
   "language": "python",
   "name": "python3"
  },
  "language_info": {
   "codemirror_mode": {
    "name": "ipython",
    "version": 3
   },
   "file_extension": ".py",
   "mimetype": "text/x-python",
   "name": "python",
   "nbconvert_exporter": "python",
   "pygments_lexer": "ipython3",
   "version": "3.7.6"
  }
 },
 "nbformat": 4,
 "nbformat_minor": 4
}
