{
 "cells": [
  {
   "cell_type": "markdown",
   "metadata": {},
   "source": [
    "## Supplementary material for \"A Simple Electrostatic Model for the Hard-Sphere Solute Component of Nonpolar Solvation\"\n",
    "#### Christopher D. Cooper and Jaydeep P. Bardhan\n",
    "\n",
    "This Jupyter notebook explores results from solvation free energy calculations using an implicit solvent model from the paper \"A Simple Electrostatic Model for the Hard-Sphere Solute Component of Nonpolar Solvation\", and molecular dynamics from Mobley et al. \"Small Molecule Hydration Free Energies in Explicit Solvent: An Extensive Test of Fixed-Charge Atomistic Simulations\" (2009). The test set corresponds to 497 small solutes from D. Mobley's paper.\n",
    "\n",
    "The code reads in the files `implicit_data.txt` and `explicit_data.txt` which are available in the Supplementary Material. These are CSV files with the names and different free energy components for the 497 molecules. "
   ]
  },
  {
   "cell_type": "code",
   "execution_count": 22,
   "metadata": {},
   "outputs": [
    {
     "data": {
      "text/html": [
       "        <script type=\"text/javascript\">\n",
       "        window.PlotlyConfig = {MathJaxConfig: 'local'};\n",
       "        if (window.MathJax) {MathJax.Hub.Config({SVG: {font: \"STIX-Web\"}});}\n",
       "        if (typeof require !== 'undefined') {\n",
       "        require.undef(\"plotly\");\n",
       "        requirejs.config({\n",
       "            paths: {\n",
       "                'plotly': ['https://cdn.plot.ly/plotly-latest.min']\n",
       "            }\n",
       "        });\n",
       "        require(['plotly'], function(Plotly) {\n",
       "            window._Plotly = Plotly;\n",
       "        });\n",
       "        }\n",
       "        </script>\n",
       "        "
      ]
     },
     "metadata": {},
     "output_type": "display_data"
    }
   ],
   "source": [
    "import numpy\n",
    "import plotly.graph_objs as go\n",
    "from plotly.offline import download_plotlyjs, init_notebook_mode, plot, iplot\n",
    "init_notebook_mode(connected=True)"
   ]
  },
  {
   "cell_type": "code",
   "execution_count": 84,
   "metadata": {},
   "outputs": [],
   "source": [
    "def read_atoms_volume(archivo):\n",
    "    moleculas = []; n_atomos = []; volumen = []; area = []\n",
    "    doc=open(archivo,'r')\n",
    "    for linea in doc.readlines():\n",
    "        L=linea.split('   ')\n",
    "        moleculas.append(L[0])\n",
    "        n_atomos.append(int(L[1]))\n",
    "        volumen.append(int(float(L[2][:7])))\n",
    "        area.append(int(float(L[3][:7])))\n",
    "    \n",
    "    return (moleculas,n_atomos,volumen,area)\n",
    "\n",
    "\n",
    "#------------------------------------------------------------------------------------------------------\n",
    "\n",
    "#------------------------------------------------------------------------------------------------------\n",
    "\n",
    "#------------------------------------------------------------------------------------------------------\n",
    "\n",
    "def separar(variable,explicit, implicit):\n",
    "    comp_explicit = open('data/explicit_comp.txt','w+')#Crear Documentos a Comparar\n",
    "    comp_explicit.write('IUPAC, SMILES, dGes, dGcav, dGdisp, dGexper, SASA, Vol\\n')\n",
    "    comp_implicit = open('data/implicit_comp.txt','w+')\n",
    "    comp_implicit.write('IUPAC, SMILES, dGes, dGcav, dGdisp, dGexper, SASA, Vol\\n')\n",
    "    new_atoms_doc = open('data/n_groups.txt','w+')\n",
    "    \n",
    "    \n",
    "    if isinstance(variable, int):                    #Si es un número se identifica el número de átomos\n",
    "        n_atoms_doc = open('data/n_atom.txt','r')  \n",
    "        for linea_atoms in n_atoms_doc.readlines():\n",
    "            lista_atoms = linea_atoms.split('   ')\n",
    "            if variable == int(lista_atoms[1]):\n",
    "                new_atoms_doc.write(linea_atoms)\n",
    "                exp = open(explicit)\n",
    "                for linea_exp in exp.readlines():\n",
    "                    lista_exp = linea_exp.split(',')\n",
    "                    if lista_exp[0]==lista_atoms[0]:\n",
    "                        comp_explicit.write(linea_exp)\n",
    "                imp = open(implicit)\n",
    "                for linea_imp in imp.readlines():\n",
    "                    lista_imp = linea_imp.split(',')\n",
    "                    if lista_imp[0]==lista_atoms[0]:\n",
    "                        comp_implicit.write(linea_imp)\n",
    "                exp.close()\n",
    "                imp.close()\n",
    "        n_atoms_doc.close()\n",
    "#-------------------------------------------------------------------------------\n",
    "            \n",
    "    elif isinstance(variable, str):\n",
    "        if len(variable)<=3:\n",
    "            exp=open(explicit)\n",
    "            imp=open(implicit)\n",
    "            for linea_exp in exp.readlines():\n",
    "                lista_exp = linea_exp.split(',')\n",
    "                n_atoms_doc = open('data/n_atom.txt','r') \n",
    "                if variable in lista_exp[1]:\n",
    "                    for linea_atoms in n_atoms_doc.readlines():\n",
    "                        if lista_exp[0] == linea_atoms.split('   ')[0]:\n",
    "                            new_atoms_doc.write(linea_atoms)\n",
    "                    comp_explicit.write(linea_exp)\n",
    "                n_atoms_doc.close()\n",
    "                    \n",
    "            for linea_imp in imp.readlines():\n",
    "                lista_imp = linea_imp.split(',')\n",
    "                if variable in lista_imp[1]:\n",
    "                    comp_implicit.write(linea_imp)\n",
    "            exp.close()\n",
    "            imp.close()\n",
    "            \n",
    "        else:\n",
    "            exp=open(explicit)\n",
    "            imp=open(implicit)\n",
    "            for linea_exp in exp.readlines():\n",
    "                lista_exp = linea_exp.split(',')\n",
    "                if variable in lista_exp[0]:\n",
    "                    for linea_atoms in n_atoms_doc.readlines():\n",
    "                        n_atoms_doc = open('data/n_atom.txt','r')\n",
    "                        if lista_exp[0] == linea_atoms.split('   ')[0]:\n",
    "                            new_atoms_doc.write(linea_atoms)\n",
    "                    comp_explicit.write(linea_exp)\n",
    "                    n_atoms_doc.close()\n",
    "                    \n",
    "            for linea_imp in imp.readlines():\n",
    "                lista_imp = linea_imp.split(',')\n",
    "                if variable in lista_imp[0]:\n",
    "                    n_atoms_doc.close()\n",
    "            imp.close()\n",
    "            exp.close()\n",
    "        \n",
    "        \n",
    "    comp_explicit.close()\n",
    "    comp_implicit.close()\n",
    "    return new_atoms_doc.close()    \n",
    "\n",
    "\n",
    "\n",
    "\n",
    "#------------------------------------------------------------------------------------------------------\n",
    "\n",
    "#------------------------------------------------------------------------------------------------------\n",
    "\n",
    "#------------------------------------------------------------------------------------------------------\n",
    "\n",
    "def grupos(variable,lim_i,lim_S,explicit,implicit,n_atoms):\n",
    "    comp_explicit = open('data/explicit_comp.txt','w+')#Crear Documentos a Comparar\n",
    "    comp_explicit.write('IUPAC, SMILES, dGes, dGcav, dGdisp, dGexper, SASA, Vol\\n')\n",
    "    comp_implicit = open('data/implicit_comp.txt','w+')\n",
    "    comp_implicit.write('IUPAC, SMILES, dGes, dGcav, dGdisp, dGexper, SASA, Vol\\n')\n",
    "    n_atoms_doc = open(n_atoms,'r')   \n",
    "    new_atoms_doc = open('data/n_groups.txt','w+')\n",
    "    \n",
    "    \n",
    "    if variable=='n':\n",
    "        for linea_atoms in n_atoms_doc.readlines():\n",
    "            lista_atoms = linea_atoms.split('   ')        \n",
    "            if lim_i<=int(lista_atoms[1])<=lim_S:\n",
    "                new_atoms_doc.write(linea_atoms)\n",
    "                exp = open(explicit)\n",
    "                for linea_exp in exp.readlines():\n",
    "                    lista_exp = linea_exp.split(',')\n",
    "                    if lista_exp[0]==lista_atoms[0]:\n",
    "                        comp_explicit.write(linea_exp)\n",
    "                imp = open(implicit)\n",
    "                for linea_imp in imp.readlines():\n",
    "                    lista_imp=linea_imp.split(',')\n",
    "                    if lista_imp[0]==lista_atoms[0]:\n",
    "                        comp_implicit.write(linea_imp)\n",
    "\n",
    "                exp.close()\n",
    "                imp.close()\n",
    "                \n",
    "    if variable=='vol':\n",
    "        for linea_atoms in n_atoms_doc.readlines():\n",
    "            lista_atoms = linea_atoms.split('   ')        \n",
    "            if lim_i<=float(lista_atoms[2][:5])<=lim_S:\n",
    "                new_atoms_doc.write(linea_atoms)\n",
    "                exp = open(explicit)\n",
    "                for linea_exp in exp.readlines():\n",
    "                    lista_exp = linea_exp.split(',')\n",
    "                    if lista_exp[0]==lista_atoms[0]:\n",
    "                        comp_explicit.write(linea_exp)\n",
    "                imp = open(implicit)\n",
    "                for linea_imp in imp.readlines():\n",
    "                    lista_imp=linea_imp.split(',')\n",
    "                    if lista_imp[0]==lista_atoms[0]:\n",
    "                        comp_implicit.write(linea_imp)\n",
    "\n",
    "                exp.close()\n",
    "                imp.close()\n",
    "                \n",
    "    if variable=='sup':\n",
    "        for linea_atoms in n_atoms_doc.readlines():\n",
    "            lista_atoms = linea_atoms.split('   ')        \n",
    "            if lim_i<=float(lista_atoms[3][:5])<=lim_S:\n",
    "                new_atoms_doc.write(linea_atoms)\n",
    "                exp = open(explicit)\n",
    "                for linea_exp in exp.readlines():\n",
    "                    lista_exp = linea_exp.split(',')\n",
    "                    if lista_exp[0]==lista_atoms[0]:\n",
    "                        comp_explicit.write(linea_exp)\n",
    "                imp = open(implicit)\n",
    "                for linea_imp in imp.readlines():\n",
    "                    lista_imp=linea_imp.split(',')\n",
    "                    if lista_imp[0]==lista_atoms[0]:\n",
    "                        comp_implicit.write(linea_imp)\n",
    "\n",
    "                exp.close()\n",
    "                imp.close()\n",
    "\n",
    "\n",
    "\n",
    "        \n",
    "    new_atoms_doc.close()\n",
    "    comp_explicit.close()\n",
    "    comp_implicit.close()\n",
    "    return n_atoms_doc.close()"
   ]
  },
  {
   "cell_type": "code",
   "execution_count": 88,
   "metadata": {},
   "outputs": [],
   "source": [
    "def plot_correl(X, Y, names,N_ATOMS,OPCION='', key='None', title='Energy', xlabel='X-axis', ylabel='Y-axis'):\n",
    "    \"\"\"\n",
    "    Uses plotly to do scatter plot of correlation between two datasets\n",
    "    Inputs:\n",
    "    -------\n",
    "        X    : (array of float) data in X axis\n",
    "        Y    : (array of float) data in Y axis\n",
    "        names: (array of string) molecule names\n",
    "        key  : (string) highlight points that contain 'key' in the name\n",
    "        title: (string) title of the plot. Defaults to 'Energy'\n",
    "        xlabel: (string) x label of the plot\n",
    "    Output:\n",
    "    -------\n",
    "        Plotly scatter plot with hover tags\n",
    "        Correlation statistics\n",
    "    \"\"\"\n",
    "    if OPCION=='num':\n",
    "        moleculas,n_atomos,volumen,area = read_atoms_volume(N_ATOMS)\n",
    "        key_true = []\n",
    "        if key=='vol':\n",
    "            key_true=volumen\n",
    "        elif key=='sup':\n",
    "            key_true=area\n",
    "        else:\n",
    "            key_true=n_atomos\n",
    "        \n",
    "    else:   \n",
    "        key_true = []\n",
    "        for i in range(len(names)):\n",
    "            if key in names[i]:\n",
    "                key_true.append(\"red\")\n",
    "            else:\n",
    "                key_true.append(\"blue\")\n",
    "\n",
    "    trace = go.Scatter(\n",
    "                x = X,\n",
    "                y = Y,\n",
    "                text = names,\n",
    "                mode='markers',\n",
    "                marker = dict(size=8,\n",
    "                            opacity=0.6, color=key_true,colorscale='Viridis',colorbar=dict(thickness=20)),\n",
    "                hoverinfo = 'text')\n",
    "\n",
    "\n",
    "    max_val = numpy.max(X)\n",
    "    min_val = numpy.min(X)\n",
    "    ref = go.Scatter( x = numpy.array([min_val,max_val]),\n",
    "                      y = numpy.array([min_val,max_val]),\n",
    "                      mode = 'lines'\n",
    "                    )\n",
    "\n",
    "    data = [trace, ref]\n",
    "    \n",
    "    layout= go.Layout(\n",
    "        title= 'Energy',\n",
    "        hovermode= 'closest',\n",
    "        xaxis= dict(\n",
    "            title= 'MD',\n",
    "            ticklen= 5,\n",
    "            zeroline= False,\n",
    "            gridwidth= 2,\n",
    "        ),\n",
    "        yaxis=dict(\n",
    "            title= 'BEM',\n",
    "            ticklen= 5,\n",
    "            gridwidth= 2,\n",
    "        ),\n",
    "        showlegend= False\n",
    "    )\n",
    "    \n",
    "    correl = numpy.corrcoef(X, Y)\n",
    "    rmsd = numpy.sqrt(numpy.sum(numpy.abs(X-Y)**2)/len(X))\n",
    "    mue = numpy.sum(numpy.abs(X-Y))/len(X)\n",
    "\n",
    "    print ('Correlation coeff: %1.4f'%correl[0,1])\n",
    "    print ('RMSD: %1.4f'%rmsd)\n",
    "    print ('MUE: %1.4f'%mue)\n",
    "    \n",
    "    fig= go.Figure(data=data, layout=layout)\n",
    "    iplot(fig)\n",
    "    \n",
    "    \n",
    "def read_explicit(filename):\n",
    "    \"\"\"\n",
    "    Reads in data of solvation free energy from explicit_data.txt (taken from Mobley et al 2009)\n",
    "    Input:\n",
    "    ------\n",
    "        filename: (string) name of file (probably explicit_data.txt)\n",
    "        \n",
    "    Output:\n",
    "    -------\n",
    "        iupac: (array of str) names of molecules in IUPAC\n",
    "        smiles: (array of str) names of molecuiles in SMILES \n",
    "        dGes: (array of float) electrostatic component of solvation free energy \n",
    "        dGcav: (array of float) free energy to generate the solute-shaped cavity \n",
    "        dGdisp: (array of float) free energy of the solute-solvent dispersion interaction \n",
    "        dGexper: (array of float) solvation free energy measured experimentally\n",
    "    \"\"\"\n",
    "    \n",
    "    iupac = []; smiles = []; dGes = []; dGcav = []; dGdisp = []; dGexper = []\n",
    "    with open(filename) as f:\n",
    "        line = f.readline()\n",
    "        line = f.readline()\n",
    "\n",
    "        while line:\n",
    "            line_split = line.split()\n",
    "            iupac.append(line_split[0][:-1])\n",
    "            smiles.append(line_split[1][:-1])\n",
    "            dGes.append(float(line_split[2][:-1]))\n",
    "            dGcav.append(float(line_split[3][:-1]))\n",
    "            dGdisp.append(float(line_split[4][:-1]))\n",
    "            dGexper.append(float(line_split[5]))\n",
    "            line = f.readline()\n",
    "\n",
    "            \n",
    "    iupac   = numpy.array(iupac)\n",
    "    smiles  = numpy.array(smiles)\n",
    "    dGes    = numpy.array(dGes)\n",
    "    dGcav   = numpy.array(dGcav)\n",
    "    dGdisp  = numpy.array(dGdisp)\n",
    "    dGexper = numpy.array(dGexper)\n",
    "    \n",
    "    return iupac, smiles, dGes, dGcav, dGdisp, dGexper\n",
    "            \n",
    "    \n",
    "def read_implicit(filename):\n",
    "    \"\"\"\n",
    "    Reads in data of solvation free energy from implicit_data.txt \n",
    "    Input:\n",
    "    ------\n",
    "        filename: (string) name of file (probably implicit_data.txt)\n",
    "        \n",
    "    Output:\n",
    "    -------\n",
    "        iupac: (array of str) names of molecules in IUPAC\n",
    "        smiles: (array of str) names of molecuiles in SMILES \n",
    "        dGes: (array of float) electrostatic component of solvation free energy \n",
    "        dGcav: (array of float) free energy to generate the solute-shaped cavity \n",
    "        dGdisp: (array of float) free energy of the solute-solvent dispersion interaction \n",
    "        dGexper: (array of float) solvation free energy measured experimentally\n",
    "        sasa: (array of float) solvent accessible surface area \n",
    "        volume: (array of float) molecular volume (inside the SAS)\n",
    "    \"\"\"\n",
    "    iupac = []; smiles = []; dGes = []; dGcav = []; dGdisp = []; dGexper = []; sasa = []; vol = [];\n",
    "    with open(filename) as f:\n",
    "        line = f.readline()\n",
    "        line = f.readline()\n",
    "\n",
    "        while line:\n",
    "            line_split = line.split()\n",
    "            iupac.append(line_split[0][:-1])\n",
    "            smiles.append(line_split[1][:-1])\n",
    "            dGes.append(float(line_split[2][:-1]))\n",
    "            dGcav.append(float(line_split[3][:-1]))\n",
    "            dGdisp.append(float(line_split[4][:-1]))\n",
    "            dGexper.append(float(line_split[5][:-1]))\n",
    "            sasa.append(float(line_split[6][:-1]))\n",
    "            vol.append(float(line_split[7]))\n",
    "            line = f.readline()\n",
    "\n",
    "            \n",
    "    iupac   = numpy.array(iupac)\n",
    "    smiles  = numpy.array(smiles)\n",
    "    dGes    = numpy.array(dGes)\n",
    "    dGcav   = numpy.array(dGcav)\n",
    "    dGdisp  = numpy.array(dGdisp)\n",
    "    dGexper = numpy.array(dGexper)\n",
    "    sasa    = numpy.array(sasa)\n",
    "    vol     = numpy.array(vol)\n",
    "    \n",
    "    return iupac, smiles, dGes, dGcav, dGdisp, dGexper, sasa, vol"
   ]
  },
  {
   "cell_type": "markdown",
   "metadata": {},
   "source": [
    "All the `_i` files are energy components for the implicit solvent model, whereas `_e` for the explicit solvent. `iupac` and `smiles` are the molecule names, which are the same in both files. `SASA` is the solvent accessible surface area and `vol` the volume of each solute.\n",
    "\n",
    "As a reminder:\n",
    "* $\\Delta G_{cav}$ is the cavity energy\n",
    "* $\\Delta G_{disp}$ is the energy of the solute-solvent dispersion interacion\n",
    "* $\\Delta G_{es}$ is the electrostatic component of free energy (charging free energy)\n",
    "* $\\Delta G_{np} = \\Delta G_{cav} + \\Delta G_{disp}$ is the nonpolar component of the solvation free energy\n",
    "* $\\Delta G = \\Delta G_{np} + \\Delta G_{es}$ is the total solvation free energy\n",
    "* $\\Delta G_{exper}$ is the solvation free energy obtained from experiments\n",
    "\n",
    "Next, you can explore the correlation between explicit and implicit solvent calculations for each energy component, and with the experimental values. You might find the following very useful:\n",
    "* Hover over the scatter plot, you'll be able to see the name of each solute, given by either IUPAC or SMILES (see docstring under the `plot_correl` function). \n",
    "* Highlight in red components with a certain string in its name using the ` key` argument. For example, if you want to see all the compounds with triple bonds, your third input argument would be `smiles` and you can add `key='#'`  \n",
    "\n",
    "\n"
   ]
  },
  {
   "cell_type": "markdown",
   "metadata": {},
   "source": [
    "* Los eps es la constante dielectrica multiplicada por 100, los datos se pueden encontrar en la carpeta `new_implicit`\n",
    "\n",
    "* Activar función de \"grupos\" para para separar la información por rangos.`var` son los tipos de rangos con los cuales se desea trabajar, `n` para el numero de átomos, `vol` para volúmen y `sup` para trabjar con superficie\n",
    "\n",
    "\n",
    "* Activar función \"separar\" para trabajar con número de átomos exactos o tipos de átomos. Las entradas pueden ser uno número cualquiera `(9)`, un átomo `('Cl','Br', etc.)`, doble enlance `('=')` o nombres `('methyl','chl',...)`\n",
    "\n",
    "* Si se desea resaltar la información por números, ya sea número de átomos, superficie o volúmen,  `OPCION ='num'` y `key='n','vol' o 'sup'`. En caso de resaltar por iupac o smiles, `OPCION=''`"
   ]
  },
  {
   "cell_type": "code",
   "execution_count": 121,
   "metadata": {
    "scrolled": false
   },
   "outputs": [
    {
     "name": "stdout",
     "output_type": "stream",
     "text": [
      "Correlation coeff: 0.9629\n",
      "RMSD: 0.7083\n",
      "MUE: 0.4119\n"
     ]
    },
    {
     "data": {
      "application/vnd.plotly.v1+json": {
       "config": {
        "linkText": "Export to plot.ly",
        "plotlyServerURL": "https://plot.ly",
        "showLink": false
       },
       "data": [
        {
         "hoverinfo": "text",
         "marker": {
          "color": [
           "blue",
           "blue",
           "blue",
           "blue",
           "blue",
           "blue",
           "red",
           "blue",
           "blue",
           "blue",
           "blue",
           "blue",
           "blue",
           "blue",
           "red",
           "red",
           "red",
           "red",
           "red",
           "blue",
           "blue",
           "blue",
           "blue",
           "blue",
           "red",
           "blue",
           "blue",
           "red",
           "blue",
           "blue",
           "blue",
           "blue",
           "blue",
           "blue",
           "blue",
           "blue",
           "red",
           "blue",
           "red",
           "blue",
           "blue",
           "blue",
           "red",
           "blue",
           "blue",
           "blue",
           "red",
           "blue",
           "red",
           "blue",
           "blue",
           "blue",
           "red",
           "blue",
           "blue",
           "red",
           "blue",
           "red",
           "red",
           "blue",
           "red",
           "blue",
           "red",
           "red",
           "red",
           "blue",
           "red",
           "blue",
           "red",
           "blue",
           "blue",
           "red",
           "blue",
           "red",
           "blue"
          ],
          "colorbar": {
           "thickness": 20
          },
          "colorscale": [
           [
            0,
            "#440154"
           ],
           [
            0.1111111111111111,
            "#482878"
           ],
           [
            0.2222222222222222,
            "#3e4989"
           ],
           [
            0.3333333333333333,
            "#31688e"
           ],
           [
            0.4444444444444444,
            "#26828e"
           ],
           [
            0.5555555555555556,
            "#1f9e89"
           ],
           [
            0.6666666666666666,
            "#35b779"
           ],
           [
            0.7777777777777778,
            "#6ece58"
           ],
           [
            0.8888888888888888,
            "#b5de2b"
           ],
           [
            1,
            "#fde725"
           ]
          ],
          "opacity": 0.6,
          "size": 8
         },
         "mode": "markers",
         "text": [
          "C(C(Cl)(Cl)Cl)Cl",
          "CC(Cl)(Cl)Cl",
          "C(C(Cl)Cl)(Cl)Cl",
          "C(C(F)(Cl)Cl)(F)(F)Cl",
          "C(C(Cl)Cl)Cl",
          "CC(Cl)Cl",
          "C=C(Cl)Cl",
          "CC(F)F",
          "C(CBr)Br",
          "C(CCl)Cl",
          "C(CO)O",
          "C(CBr)Cl",
          "C(C(F)(F)F)Cl",
          "C(C(F)(F)F)O",
          "C=CCCl",
          "C(=CCl)Cl",
          "C(=CCl)Cl",
          "CC=O",
          "CC(=O)O",
          "CC#N",
          "CCBr",
          "CBr",
          "BrC(F)(F)",
          "CCC#C",
          "C=CC=C",
          "C(F)(F)Cl",
          "CCCl",
          "C=CCl",
          "C(F)Cl",
          "CCl",
          "C1CC1",
          "C(Br)Br",
          "C(Cl)Cl",
          "C(I)I",
          "COC",
          "CSC",
          "CS(=O)C",
          "CNC",
          "CC(=O)N",
          "CC",
          "CCS",
          "CCO",
          "C=C",
          "CCN",
          "CF",
          "C(C(F)(F)F)(Cl)Br",
          "C(=C(F)F)(C(F)(F)F)F",
          "NN",
          "C1=CN=CN1",
          "CCI",
          "CI",
          "C",
          "CS(=O)(=O)Cl",
          "CS",
          "CO",
          "COC=O",
          "CN",
          "CC[N+](=O)[O-]",
          "C[N+](=O)[O-]",
          "C(C(Cl)(Cl)Cl)(Cl)Cl",
          "C=CCO",
          "CCC#N",
          "CC(=O)C",
          "CC=C",
          "CCC=O",
          "CC#C",
          "C1=CNC=C1",
          "C(C(F)(F)F)(F)Br",
          "C(=C(Cl)Cl)(Cl)Cl",
          "C(Cl)(Cl)(Cl)Cl",
          "C(F)(F)(F)F",
          "C1=CSC=C1",
          "C(Br)(Br)Br",
          "C(=C(Cl)Cl)Cl",
          "C(Cl)(Cl)Cl"
         ],
         "type": "scatter",
         "x": [
          -1.43,
          -1.13,
          -1.88,
          -0.32,
          -2.01,
          -1.64,
          -0.85,
          -2.41,
          -1.6,
          -2.15,
          -8.71,
          -1.77,
          -2.27,
          -6.05,
          -1.48,
          -0.87,
          -1.72,
          -5.18,
          -7.07,
          -3.77,
          -1.01,
          -0.89,
          -0.38,
          -0.86,
          -0.96,
          -2.32,
          -1.26,
          -1.06,
          -2.25,
          -1.14,
          -0.03,
          -1.1,
          -1.6,
          -2.3,
          -2.7,
          -1.7,
          -9.68,
          -4.72,
          -9.94,
          0,
          -2.49,
          -5.2,
          -0.3,
          -5,
          -1.61,
          -1.59,
          -1.17,
          -8.36,
          -8.49,
          -1.93,
          -1.9,
          0,
          -6.85,
          -2.25,
          -5.15,
          -4.48,
          -5.13,
          -2.47,
          -2.53,
          -1.13,
          -5.18,
          -3.61,
          -5.31,
          -0.37,
          -5.06,
          -0.87,
          -5.16,
          -1.99,
          -0.09,
          -0.13,
          -0.38,
          -1.88,
          -0.7,
          -0.82,
          -1.23
         ],
         "y": [
          -1.6056,
          -1.1449,
          -2.5641,
          -0.4143,
          -3.0816,
          -1.7478,
          -0.9557,
          -2.3813,
          -1.3116,
          -2.6339,
          -11.4329,
          -1.4499,
          -2.5137,
          -8.0957,
          -1.7194,
          -1.1345,
          -1.8878,
          -4.4299,
          -9.1645,
          -3.502,
          -1.0125,
          -0.9859,
          -0.4661,
          -0.9482,
          -1.0307,
          -3.0836,
          -1.2767,
          -1.1914,
          -2.5623,
          -1.2546,
          -0.1358,
          -1.237,
          -1.8469,
          -2.7515,
          -2.2608,
          -1.6916,
          -7.3847,
          -3.8632,
          -9.3957,
          -0.015,
          -2.9369,
          -5.7466,
          -0.4328,
          -4.5038,
          -1.5487,
          -1.8367,
          -1.3188,
          -10.7964,
          -7.6514,
          -1.8971,
          -1.9901,
          -0.0063,
          -7.2576,
          -2.8865,
          -5.8747,
          -4.3011,
          -4.9411,
          -2.4684,
          -2.6741,
          -1.329,
          -5.2237,
          -3.213,
          -4.2486,
          -0.4654,
          -4.2476,
          -1.0095,
          -5.2568,
          -2.4934,
          -0.0754,
          -0.1487,
          -0.5049,
          -1.8752,
          -0.8444,
          -0.9563,
          -1.6102
         ]
        },
        {
         "mode": "lines",
         "type": "scatter",
         "x": [
          -9.94,
          0
         ],
         "y": [
          -9.94,
          0
         ]
        }
       ],
       "layout": {
        "hovermode": "closest",
        "showlegend": false,
        "template": {
         "data": {
          "bar": [
           {
            "error_x": {
             "color": "#2a3f5f"
            },
            "error_y": {
             "color": "#2a3f5f"
            },
            "marker": {
             "line": {
              "color": "#E5ECF6",
              "width": 0.5
             }
            },
            "type": "bar"
           }
          ],
          "barpolar": [
           {
            "marker": {
             "line": {
              "color": "#E5ECF6",
              "width": 0.5
             }
            },
            "type": "barpolar"
           }
          ],
          "carpet": [
           {
            "aaxis": {
             "endlinecolor": "#2a3f5f",
             "gridcolor": "white",
             "linecolor": "white",
             "minorgridcolor": "white",
             "startlinecolor": "#2a3f5f"
            },
            "baxis": {
             "endlinecolor": "#2a3f5f",
             "gridcolor": "white",
             "linecolor": "white",
             "minorgridcolor": "white",
             "startlinecolor": "#2a3f5f"
            },
            "type": "carpet"
           }
          ],
          "choropleth": [
           {
            "colorbar": {
             "outlinewidth": 0,
             "ticks": ""
            },
            "type": "choropleth"
           }
          ],
          "contour": [
           {
            "colorbar": {
             "outlinewidth": 0,
             "ticks": ""
            },
            "colorscale": [
             [
              0,
              "#0d0887"
             ],
             [
              0.1111111111111111,
              "#46039f"
             ],
             [
              0.2222222222222222,
              "#7201a8"
             ],
             [
              0.3333333333333333,
              "#9c179e"
             ],
             [
              0.4444444444444444,
              "#bd3786"
             ],
             [
              0.5555555555555556,
              "#d8576b"
             ],
             [
              0.6666666666666666,
              "#ed7953"
             ],
             [
              0.7777777777777778,
              "#fb9f3a"
             ],
             [
              0.8888888888888888,
              "#fdca26"
             ],
             [
              1,
              "#f0f921"
             ]
            ],
            "type": "contour"
           }
          ],
          "contourcarpet": [
           {
            "colorbar": {
             "outlinewidth": 0,
             "ticks": ""
            },
            "type": "contourcarpet"
           }
          ],
          "heatmap": [
           {
            "colorbar": {
             "outlinewidth": 0,
             "ticks": ""
            },
            "colorscale": [
             [
              0,
              "#0d0887"
             ],
             [
              0.1111111111111111,
              "#46039f"
             ],
             [
              0.2222222222222222,
              "#7201a8"
             ],
             [
              0.3333333333333333,
              "#9c179e"
             ],
             [
              0.4444444444444444,
              "#bd3786"
             ],
             [
              0.5555555555555556,
              "#d8576b"
             ],
             [
              0.6666666666666666,
              "#ed7953"
             ],
             [
              0.7777777777777778,
              "#fb9f3a"
             ],
             [
              0.8888888888888888,
              "#fdca26"
             ],
             [
              1,
              "#f0f921"
             ]
            ],
            "type": "heatmap"
           }
          ],
          "heatmapgl": [
           {
            "colorbar": {
             "outlinewidth": 0,
             "ticks": ""
            },
            "colorscale": [
             [
              0,
              "#0d0887"
             ],
             [
              0.1111111111111111,
              "#46039f"
             ],
             [
              0.2222222222222222,
              "#7201a8"
             ],
             [
              0.3333333333333333,
              "#9c179e"
             ],
             [
              0.4444444444444444,
              "#bd3786"
             ],
             [
              0.5555555555555556,
              "#d8576b"
             ],
             [
              0.6666666666666666,
              "#ed7953"
             ],
             [
              0.7777777777777778,
              "#fb9f3a"
             ],
             [
              0.8888888888888888,
              "#fdca26"
             ],
             [
              1,
              "#f0f921"
             ]
            ],
            "type": "heatmapgl"
           }
          ],
          "histogram": [
           {
            "marker": {
             "colorbar": {
              "outlinewidth": 0,
              "ticks": ""
             }
            },
            "type": "histogram"
           }
          ],
          "histogram2d": [
           {
            "colorbar": {
             "outlinewidth": 0,
             "ticks": ""
            },
            "colorscale": [
             [
              0,
              "#0d0887"
             ],
             [
              0.1111111111111111,
              "#46039f"
             ],
             [
              0.2222222222222222,
              "#7201a8"
             ],
             [
              0.3333333333333333,
              "#9c179e"
             ],
             [
              0.4444444444444444,
              "#bd3786"
             ],
             [
              0.5555555555555556,
              "#d8576b"
             ],
             [
              0.6666666666666666,
              "#ed7953"
             ],
             [
              0.7777777777777778,
              "#fb9f3a"
             ],
             [
              0.8888888888888888,
              "#fdca26"
             ],
             [
              1,
              "#f0f921"
             ]
            ],
            "type": "histogram2d"
           }
          ],
          "histogram2dcontour": [
           {
            "colorbar": {
             "outlinewidth": 0,
             "ticks": ""
            },
            "colorscale": [
             [
              0,
              "#0d0887"
             ],
             [
              0.1111111111111111,
              "#46039f"
             ],
             [
              0.2222222222222222,
              "#7201a8"
             ],
             [
              0.3333333333333333,
              "#9c179e"
             ],
             [
              0.4444444444444444,
              "#bd3786"
             ],
             [
              0.5555555555555556,
              "#d8576b"
             ],
             [
              0.6666666666666666,
              "#ed7953"
             ],
             [
              0.7777777777777778,
              "#fb9f3a"
             ],
             [
              0.8888888888888888,
              "#fdca26"
             ],
             [
              1,
              "#f0f921"
             ]
            ],
            "type": "histogram2dcontour"
           }
          ],
          "mesh3d": [
           {
            "colorbar": {
             "outlinewidth": 0,
             "ticks": ""
            },
            "type": "mesh3d"
           }
          ],
          "parcoords": [
           {
            "line": {
             "colorbar": {
              "outlinewidth": 0,
              "ticks": ""
             }
            },
            "type": "parcoords"
           }
          ],
          "pie": [
           {
            "automargin": true,
            "type": "pie"
           }
          ],
          "scatter": [
           {
            "marker": {
             "colorbar": {
              "outlinewidth": 0,
              "ticks": ""
             }
            },
            "type": "scatter"
           }
          ],
          "scatter3d": [
           {
            "line": {
             "colorbar": {
              "outlinewidth": 0,
              "ticks": ""
             }
            },
            "marker": {
             "colorbar": {
              "outlinewidth": 0,
              "ticks": ""
             }
            },
            "type": "scatter3d"
           }
          ],
          "scattercarpet": [
           {
            "marker": {
             "colorbar": {
              "outlinewidth": 0,
              "ticks": ""
             }
            },
            "type": "scattercarpet"
           }
          ],
          "scattergeo": [
           {
            "marker": {
             "colorbar": {
              "outlinewidth": 0,
              "ticks": ""
             }
            },
            "type": "scattergeo"
           }
          ],
          "scattergl": [
           {
            "marker": {
             "colorbar": {
              "outlinewidth": 0,
              "ticks": ""
             }
            },
            "type": "scattergl"
           }
          ],
          "scattermapbox": [
           {
            "marker": {
             "colorbar": {
              "outlinewidth": 0,
              "ticks": ""
             }
            },
            "type": "scattermapbox"
           }
          ],
          "scatterpolar": [
           {
            "marker": {
             "colorbar": {
              "outlinewidth": 0,
              "ticks": ""
             }
            },
            "type": "scatterpolar"
           }
          ],
          "scatterpolargl": [
           {
            "marker": {
             "colorbar": {
              "outlinewidth": 0,
              "ticks": ""
             }
            },
            "type": "scatterpolargl"
           }
          ],
          "scatterternary": [
           {
            "marker": {
             "colorbar": {
              "outlinewidth": 0,
              "ticks": ""
             }
            },
            "type": "scatterternary"
           }
          ],
          "surface": [
           {
            "colorbar": {
             "outlinewidth": 0,
             "ticks": ""
            },
            "colorscale": [
             [
              0,
              "#0d0887"
             ],
             [
              0.1111111111111111,
              "#46039f"
             ],
             [
              0.2222222222222222,
              "#7201a8"
             ],
             [
              0.3333333333333333,
              "#9c179e"
             ],
             [
              0.4444444444444444,
              "#bd3786"
             ],
             [
              0.5555555555555556,
              "#d8576b"
             ],
             [
              0.6666666666666666,
              "#ed7953"
             ],
             [
              0.7777777777777778,
              "#fb9f3a"
             ],
             [
              0.8888888888888888,
              "#fdca26"
             ],
             [
              1,
              "#f0f921"
             ]
            ],
            "type": "surface"
           }
          ],
          "table": [
           {
            "cells": {
             "fill": {
              "color": "#EBF0F8"
             },
             "line": {
              "color": "white"
             }
            },
            "header": {
             "fill": {
              "color": "#C8D4E3"
             },
             "line": {
              "color": "white"
             }
            },
            "type": "table"
           }
          ]
         },
         "layout": {
          "annotationdefaults": {
           "arrowcolor": "#2a3f5f",
           "arrowhead": 0,
           "arrowwidth": 1
          },
          "coloraxis": {
           "colorbar": {
            "outlinewidth": 0,
            "ticks": ""
           }
          },
          "colorscale": {
           "diverging": [
            [
             0,
             "#8e0152"
            ],
            [
             0.1,
             "#c51b7d"
            ],
            [
             0.2,
             "#de77ae"
            ],
            [
             0.3,
             "#f1b6da"
            ],
            [
             0.4,
             "#fde0ef"
            ],
            [
             0.5,
             "#f7f7f7"
            ],
            [
             0.6,
             "#e6f5d0"
            ],
            [
             0.7,
             "#b8e186"
            ],
            [
             0.8,
             "#7fbc41"
            ],
            [
             0.9,
             "#4d9221"
            ],
            [
             1,
             "#276419"
            ]
           ],
           "sequential": [
            [
             0,
             "#0d0887"
            ],
            [
             0.1111111111111111,
             "#46039f"
            ],
            [
             0.2222222222222222,
             "#7201a8"
            ],
            [
             0.3333333333333333,
             "#9c179e"
            ],
            [
             0.4444444444444444,
             "#bd3786"
            ],
            [
             0.5555555555555556,
             "#d8576b"
            ],
            [
             0.6666666666666666,
             "#ed7953"
            ],
            [
             0.7777777777777778,
             "#fb9f3a"
            ],
            [
             0.8888888888888888,
             "#fdca26"
            ],
            [
             1,
             "#f0f921"
            ]
           ],
           "sequentialminus": [
            [
             0,
             "#0d0887"
            ],
            [
             0.1111111111111111,
             "#46039f"
            ],
            [
             0.2222222222222222,
             "#7201a8"
            ],
            [
             0.3333333333333333,
             "#9c179e"
            ],
            [
             0.4444444444444444,
             "#bd3786"
            ],
            [
             0.5555555555555556,
             "#d8576b"
            ],
            [
             0.6666666666666666,
             "#ed7953"
            ],
            [
             0.7777777777777778,
             "#fb9f3a"
            ],
            [
             0.8888888888888888,
             "#fdca26"
            ],
            [
             1,
             "#f0f921"
            ]
           ]
          },
          "colorway": [
           "#636efa",
           "#EF553B",
           "#00cc96",
           "#ab63fa",
           "#FFA15A",
           "#19d3f3",
           "#FF6692",
           "#B6E880",
           "#FF97FF",
           "#FECB52"
          ],
          "font": {
           "color": "#2a3f5f"
          },
          "geo": {
           "bgcolor": "white",
           "lakecolor": "white",
           "landcolor": "#E5ECF6",
           "showlakes": true,
           "showland": true,
           "subunitcolor": "white"
          },
          "hoverlabel": {
           "align": "left"
          },
          "hovermode": "closest",
          "mapbox": {
           "style": "light"
          },
          "paper_bgcolor": "white",
          "plot_bgcolor": "#E5ECF6",
          "polar": {
           "angularaxis": {
            "gridcolor": "white",
            "linecolor": "white",
            "ticks": ""
           },
           "bgcolor": "#E5ECF6",
           "radialaxis": {
            "gridcolor": "white",
            "linecolor": "white",
            "ticks": ""
           }
          },
          "scene": {
           "xaxis": {
            "backgroundcolor": "#E5ECF6",
            "gridcolor": "white",
            "gridwidth": 2,
            "linecolor": "white",
            "showbackground": true,
            "ticks": "",
            "zerolinecolor": "white"
           },
           "yaxis": {
            "backgroundcolor": "#E5ECF6",
            "gridcolor": "white",
            "gridwidth": 2,
            "linecolor": "white",
            "showbackground": true,
            "ticks": "",
            "zerolinecolor": "white"
           },
           "zaxis": {
            "backgroundcolor": "#E5ECF6",
            "gridcolor": "white",
            "gridwidth": 2,
            "linecolor": "white",
            "showbackground": true,
            "ticks": "",
            "zerolinecolor": "white"
           }
          },
          "shapedefaults": {
           "line": {
            "color": "#2a3f5f"
           }
          },
          "ternary": {
           "aaxis": {
            "gridcolor": "white",
            "linecolor": "white",
            "ticks": ""
           },
           "baxis": {
            "gridcolor": "white",
            "linecolor": "white",
            "ticks": ""
           },
           "bgcolor": "#E5ECF6",
           "caxis": {
            "gridcolor": "white",
            "linecolor": "white",
            "ticks": ""
           }
          },
          "title": {
           "x": 0.05
          },
          "xaxis": {
           "automargin": true,
           "gridcolor": "white",
           "linecolor": "white",
           "ticks": "",
           "title": {
            "standoff": 15
           },
           "zerolinecolor": "white",
           "zerolinewidth": 2
          },
          "yaxis": {
           "automargin": true,
           "gridcolor": "white",
           "linecolor": "white",
           "ticks": "",
           "title": {
            "standoff": 15
           },
           "zerolinecolor": "white",
           "zerolinewidth": 2
          }
         }
        },
        "title": {
         "text": "Energy"
        },
        "xaxis": {
         "gridwidth": 2,
         "ticklen": 5,
         "title": {
          "text": "MD"
         },
         "zeroline": false
        },
        "yaxis": {
         "gridwidth": 2,
         "ticklen": 5,
         "title": {
          "text": "BEM"
         }
        }
       }
      },
      "text/html": [
       "<div>\n",
       "        \n",
       "        \n",
       "            <div id=\"0402aa40-fe06-4198-9323-fd1a3e502d8f\" class=\"plotly-graph-div\" style=\"height:525px; width:100%;\"></div>\n",
       "            <script type=\"text/javascript\">\n",
       "                require([\"plotly\"], function(Plotly) {\n",
       "                    window.PLOTLYENV=window.PLOTLYENV || {};\n",
       "                    \n",
       "                if (document.getElementById(\"0402aa40-fe06-4198-9323-fd1a3e502d8f\")) {\n",
       "                    Plotly.newPlot(\n",
       "                        '0402aa40-fe06-4198-9323-fd1a3e502d8f',\n",
       "                        [{\"hoverinfo\": \"text\", \"marker\": {\"color\": [\"blue\", \"blue\", \"blue\", \"blue\", \"blue\", \"blue\", \"red\", \"blue\", \"blue\", \"blue\", \"blue\", \"blue\", \"blue\", \"blue\", \"red\", \"red\", \"red\", \"red\", \"red\", \"blue\", \"blue\", \"blue\", \"blue\", \"blue\", \"red\", \"blue\", \"blue\", \"red\", \"blue\", \"blue\", \"blue\", \"blue\", \"blue\", \"blue\", \"blue\", \"blue\", \"red\", \"blue\", \"red\", \"blue\", \"blue\", \"blue\", \"red\", \"blue\", \"blue\", \"blue\", \"red\", \"blue\", \"red\", \"blue\", \"blue\", \"blue\", \"red\", \"blue\", \"blue\", \"red\", \"blue\", \"red\", \"red\", \"blue\", \"red\", \"blue\", \"red\", \"red\", \"red\", \"blue\", \"red\", \"blue\", \"red\", \"blue\", \"blue\", \"red\", \"blue\", \"red\", \"blue\"], \"colorbar\": {\"thickness\": 20}, \"colorscale\": [[0.0, \"#440154\"], [0.1111111111111111, \"#482878\"], [0.2222222222222222, \"#3e4989\"], [0.3333333333333333, \"#31688e\"], [0.4444444444444444, \"#26828e\"], [0.5555555555555556, \"#1f9e89\"], [0.6666666666666666, \"#35b779\"], [0.7777777777777778, \"#6ece58\"], [0.8888888888888888, \"#b5de2b\"], [1.0, \"#fde725\"]], \"opacity\": 0.6, \"size\": 8}, \"mode\": \"markers\", \"text\": [\"C(C(Cl)(Cl)Cl)Cl\", \"CC(Cl)(Cl)Cl\", \"C(C(Cl)Cl)(Cl)Cl\", \"C(C(F)(Cl)Cl)(F)(F)Cl\", \"C(C(Cl)Cl)Cl\", \"CC(Cl)Cl\", \"C=C(Cl)Cl\", \"CC(F)F\", \"C(CBr)Br\", \"C(CCl)Cl\", \"C(CO)O\", \"C(CBr)Cl\", \"C(C(F)(F)F)Cl\", \"C(C(F)(F)F)O\", \"C=CCCl\", \"C(=CCl)Cl\", \"C(=CCl)Cl\", \"CC=O\", \"CC(=O)O\", \"CC#N\", \"CCBr\", \"CBr\", \"BrC(F)(F)\", \"CCC#C\", \"C=CC=C\", \"C(F)(F)Cl\", \"CCCl\", \"C=CCl\", \"C(F)Cl\", \"CCl\", \"C1CC1\", \"C(Br)Br\", \"C(Cl)Cl\", \"C(I)I\", \"COC\", \"CSC\", \"CS(=O)C\", \"CNC\", \"CC(=O)N\", \"CC\", \"CCS\", \"CCO\", \"C=C\", \"CCN\", \"CF\", \"C(C(F)(F)F)(Cl)Br\", \"C(=C(F)F)(C(F)(F)F)F\", \"NN\", \"C1=CN=CN1\", \"CCI\", \"CI\", \"C\", \"CS(=O)(=O)Cl\", \"CS\", \"CO\", \"COC=O\", \"CN\", \"CC[N+](=O)[O-]\", \"C[N+](=O)[O-]\", \"C(C(Cl)(Cl)Cl)(Cl)Cl\", \"C=CCO\", \"CCC#N\", \"CC(=O)C\", \"CC=C\", \"CCC=O\", \"CC#C\", \"C1=CNC=C1\", \"C(C(F)(F)F)(F)Br\", \"C(=C(Cl)Cl)(Cl)Cl\", \"C(Cl)(Cl)(Cl)Cl\", \"C(F)(F)(F)F\", \"C1=CSC=C1\", \"C(Br)(Br)Br\", \"C(=C(Cl)Cl)Cl\", \"C(Cl)(Cl)Cl\"], \"type\": \"scatter\", \"x\": [-1.43, -1.13, -1.88, -0.32, -2.01, -1.64, -0.85, -2.41, -1.6, -2.15, -8.71, -1.77, -2.27, -6.05, -1.48, -0.87, -1.72, -5.18, -7.07, -3.77, -1.01, -0.89, -0.38, -0.86, -0.96, -2.32, -1.26, -1.06, -2.25, -1.14, -0.03, -1.1, -1.6, -2.3, -2.7, -1.7, -9.68, -4.72, -9.94, 0.0, -2.49, -5.2, -0.3, -5.0, -1.61, -1.59, -1.17, -8.36, -8.49, -1.93, -1.9, 0.0, -6.85, -2.25, -5.15, -4.48, -5.13, -2.47, -2.53, -1.13, -5.18, -3.61, -5.31, -0.37, -5.06, -0.87, -5.16, -1.99, -0.09, -0.13, -0.38, -1.88, -0.7, -0.82, -1.23], \"y\": [-1.6056, -1.1449, -2.5641, -0.4143, -3.0816, -1.7478, -0.9557, -2.3813, -1.3116, -2.6339, -11.4329, -1.4499, -2.5137, -8.0957, -1.7194, -1.1345, -1.8878, -4.4299, -9.1645, -3.502, -1.0125, -0.9859, -0.4661, -0.9482, -1.0307, -3.0836, -1.2767, -1.1914, -2.5623, -1.2546, -0.1358, -1.237, -1.8469, -2.7515, -2.2608, -1.6916, -7.3847, -3.8632, -9.3957, -0.015, -2.9369, -5.7466, -0.4328, -4.5038, -1.5487, -1.8367, -1.3188, -10.7964, -7.6514, -1.8971, -1.9901, -0.0063, -7.2576, -2.8865, -5.8747, -4.3011, -4.9411, -2.4684, -2.6741, -1.329, -5.2237, -3.213, -4.2486, -0.4654, -4.2476, -1.0095, -5.2568, -2.4934, -0.0754, -0.1487, -0.5049, -1.8752, -0.8444, -0.9563, -1.6102]}, {\"mode\": \"lines\", \"type\": \"scatter\", \"x\": [-9.94, 0.0], \"y\": [-9.94, 0.0]}],\n",
       "                        {\"hovermode\": \"closest\", \"showlegend\": false, \"template\": {\"data\": {\"bar\": [{\"error_x\": {\"color\": \"#2a3f5f\"}, \"error_y\": {\"color\": \"#2a3f5f\"}, \"marker\": {\"line\": {\"color\": \"#E5ECF6\", \"width\": 0.5}}, \"type\": \"bar\"}], \"barpolar\": [{\"marker\": {\"line\": {\"color\": \"#E5ECF6\", \"width\": 0.5}}, \"type\": \"barpolar\"}], \"carpet\": [{\"aaxis\": {\"endlinecolor\": \"#2a3f5f\", \"gridcolor\": \"white\", \"linecolor\": \"white\", \"minorgridcolor\": \"white\", \"startlinecolor\": \"#2a3f5f\"}, \"baxis\": {\"endlinecolor\": \"#2a3f5f\", \"gridcolor\": \"white\", \"linecolor\": \"white\", \"minorgridcolor\": \"white\", \"startlinecolor\": \"#2a3f5f\"}, \"type\": \"carpet\"}], \"choropleth\": [{\"colorbar\": {\"outlinewidth\": 0, \"ticks\": \"\"}, \"type\": \"choropleth\"}], \"contour\": [{\"colorbar\": {\"outlinewidth\": 0, \"ticks\": \"\"}, \"colorscale\": [[0.0, \"#0d0887\"], [0.1111111111111111, \"#46039f\"], [0.2222222222222222, \"#7201a8\"], [0.3333333333333333, \"#9c179e\"], [0.4444444444444444, \"#bd3786\"], [0.5555555555555556, \"#d8576b\"], [0.6666666666666666, \"#ed7953\"], [0.7777777777777778, \"#fb9f3a\"], [0.8888888888888888, \"#fdca26\"], [1.0, \"#f0f921\"]], \"type\": \"contour\"}], \"contourcarpet\": [{\"colorbar\": {\"outlinewidth\": 0, \"ticks\": \"\"}, \"type\": \"contourcarpet\"}], \"heatmap\": [{\"colorbar\": {\"outlinewidth\": 0, \"ticks\": \"\"}, \"colorscale\": [[0.0, \"#0d0887\"], [0.1111111111111111, \"#46039f\"], [0.2222222222222222, \"#7201a8\"], [0.3333333333333333, \"#9c179e\"], [0.4444444444444444, \"#bd3786\"], [0.5555555555555556, \"#d8576b\"], [0.6666666666666666, \"#ed7953\"], [0.7777777777777778, \"#fb9f3a\"], [0.8888888888888888, \"#fdca26\"], [1.0, \"#f0f921\"]], \"type\": \"heatmap\"}], \"heatmapgl\": [{\"colorbar\": {\"outlinewidth\": 0, \"ticks\": \"\"}, \"colorscale\": [[0.0, \"#0d0887\"], [0.1111111111111111, \"#46039f\"], [0.2222222222222222, \"#7201a8\"], [0.3333333333333333, \"#9c179e\"], [0.4444444444444444, \"#bd3786\"], [0.5555555555555556, \"#d8576b\"], [0.6666666666666666, \"#ed7953\"], [0.7777777777777778, \"#fb9f3a\"], [0.8888888888888888, \"#fdca26\"], [1.0, \"#f0f921\"]], \"type\": \"heatmapgl\"}], \"histogram\": [{\"marker\": {\"colorbar\": {\"outlinewidth\": 0, \"ticks\": \"\"}}, \"type\": \"histogram\"}], \"histogram2d\": [{\"colorbar\": {\"outlinewidth\": 0, \"ticks\": \"\"}, \"colorscale\": [[0.0, \"#0d0887\"], [0.1111111111111111, \"#46039f\"], [0.2222222222222222, \"#7201a8\"], [0.3333333333333333, \"#9c179e\"], [0.4444444444444444, \"#bd3786\"], [0.5555555555555556, \"#d8576b\"], [0.6666666666666666, \"#ed7953\"], [0.7777777777777778, \"#fb9f3a\"], [0.8888888888888888, \"#fdca26\"], [1.0, \"#f0f921\"]], \"type\": \"histogram2d\"}], \"histogram2dcontour\": [{\"colorbar\": {\"outlinewidth\": 0, \"ticks\": \"\"}, \"colorscale\": [[0.0, \"#0d0887\"], [0.1111111111111111, \"#46039f\"], [0.2222222222222222, \"#7201a8\"], [0.3333333333333333, \"#9c179e\"], [0.4444444444444444, \"#bd3786\"], [0.5555555555555556, \"#d8576b\"], [0.6666666666666666, \"#ed7953\"], [0.7777777777777778, \"#fb9f3a\"], [0.8888888888888888, \"#fdca26\"], [1.0, \"#f0f921\"]], \"type\": \"histogram2dcontour\"}], \"mesh3d\": [{\"colorbar\": {\"outlinewidth\": 0, \"ticks\": \"\"}, \"type\": \"mesh3d\"}], \"parcoords\": [{\"line\": {\"colorbar\": {\"outlinewidth\": 0, \"ticks\": \"\"}}, \"type\": \"parcoords\"}], \"pie\": [{\"automargin\": true, \"type\": \"pie\"}], \"scatter\": [{\"marker\": {\"colorbar\": {\"outlinewidth\": 0, \"ticks\": \"\"}}, \"type\": \"scatter\"}], \"scatter3d\": [{\"line\": {\"colorbar\": {\"outlinewidth\": 0, \"ticks\": \"\"}}, \"marker\": {\"colorbar\": {\"outlinewidth\": 0, \"ticks\": \"\"}}, \"type\": \"scatter3d\"}], \"scattercarpet\": [{\"marker\": {\"colorbar\": {\"outlinewidth\": 0, \"ticks\": \"\"}}, \"type\": \"scattercarpet\"}], \"scattergeo\": [{\"marker\": {\"colorbar\": {\"outlinewidth\": 0, \"ticks\": \"\"}}, \"type\": \"scattergeo\"}], \"scattergl\": [{\"marker\": {\"colorbar\": {\"outlinewidth\": 0, \"ticks\": \"\"}}, \"type\": \"scattergl\"}], \"scattermapbox\": [{\"marker\": {\"colorbar\": {\"outlinewidth\": 0, \"ticks\": \"\"}}, \"type\": \"scattermapbox\"}], \"scatterpolar\": [{\"marker\": {\"colorbar\": {\"outlinewidth\": 0, \"ticks\": \"\"}}, \"type\": \"scatterpolar\"}], \"scatterpolargl\": [{\"marker\": {\"colorbar\": {\"outlinewidth\": 0, \"ticks\": \"\"}}, \"type\": \"scatterpolargl\"}], \"scatterternary\": [{\"marker\": {\"colorbar\": {\"outlinewidth\": 0, \"ticks\": \"\"}}, \"type\": \"scatterternary\"}], \"surface\": [{\"colorbar\": {\"outlinewidth\": 0, \"ticks\": \"\"}, \"colorscale\": [[0.0, \"#0d0887\"], [0.1111111111111111, \"#46039f\"], [0.2222222222222222, \"#7201a8\"], [0.3333333333333333, \"#9c179e\"], [0.4444444444444444, \"#bd3786\"], [0.5555555555555556, \"#d8576b\"], [0.6666666666666666, \"#ed7953\"], [0.7777777777777778, \"#fb9f3a\"], [0.8888888888888888, \"#fdca26\"], [1.0, \"#f0f921\"]], \"type\": \"surface\"}], \"table\": [{\"cells\": {\"fill\": {\"color\": \"#EBF0F8\"}, \"line\": {\"color\": \"white\"}}, \"header\": {\"fill\": {\"color\": \"#C8D4E3\"}, \"line\": {\"color\": \"white\"}}, \"type\": \"table\"}]}, \"layout\": {\"annotationdefaults\": {\"arrowcolor\": \"#2a3f5f\", \"arrowhead\": 0, \"arrowwidth\": 1}, \"coloraxis\": {\"colorbar\": {\"outlinewidth\": 0, \"ticks\": \"\"}}, \"colorscale\": {\"diverging\": [[0, \"#8e0152\"], [0.1, \"#c51b7d\"], [0.2, \"#de77ae\"], [0.3, \"#f1b6da\"], [0.4, \"#fde0ef\"], [0.5, \"#f7f7f7\"], [0.6, \"#e6f5d0\"], [0.7, \"#b8e186\"], [0.8, \"#7fbc41\"], [0.9, \"#4d9221\"], [1, \"#276419\"]], \"sequential\": [[0.0, \"#0d0887\"], [0.1111111111111111, \"#46039f\"], [0.2222222222222222, \"#7201a8\"], [0.3333333333333333, \"#9c179e\"], [0.4444444444444444, \"#bd3786\"], [0.5555555555555556, \"#d8576b\"], [0.6666666666666666, \"#ed7953\"], [0.7777777777777778, \"#fb9f3a\"], [0.8888888888888888, \"#fdca26\"], [1.0, \"#f0f921\"]], \"sequentialminus\": [[0.0, \"#0d0887\"], [0.1111111111111111, \"#46039f\"], [0.2222222222222222, \"#7201a8\"], [0.3333333333333333, \"#9c179e\"], [0.4444444444444444, \"#bd3786\"], [0.5555555555555556, \"#d8576b\"], [0.6666666666666666, \"#ed7953\"], [0.7777777777777778, \"#fb9f3a\"], [0.8888888888888888, \"#fdca26\"], [1.0, \"#f0f921\"]]}, \"colorway\": [\"#636efa\", \"#EF553B\", \"#00cc96\", \"#ab63fa\", \"#FFA15A\", \"#19d3f3\", \"#FF6692\", \"#B6E880\", \"#FF97FF\", \"#FECB52\"], \"font\": {\"color\": \"#2a3f5f\"}, \"geo\": {\"bgcolor\": \"white\", \"lakecolor\": \"white\", \"landcolor\": \"#E5ECF6\", \"showlakes\": true, \"showland\": true, \"subunitcolor\": \"white\"}, \"hoverlabel\": {\"align\": \"left\"}, \"hovermode\": \"closest\", \"mapbox\": {\"style\": \"light\"}, \"paper_bgcolor\": \"white\", \"plot_bgcolor\": \"#E5ECF6\", \"polar\": {\"angularaxis\": {\"gridcolor\": \"white\", \"linecolor\": \"white\", \"ticks\": \"\"}, \"bgcolor\": \"#E5ECF6\", \"radialaxis\": {\"gridcolor\": \"white\", \"linecolor\": \"white\", \"ticks\": \"\"}}, \"scene\": {\"xaxis\": {\"backgroundcolor\": \"#E5ECF6\", \"gridcolor\": \"white\", \"gridwidth\": 2, \"linecolor\": \"white\", \"showbackground\": true, \"ticks\": \"\", \"zerolinecolor\": \"white\"}, \"yaxis\": {\"backgroundcolor\": \"#E5ECF6\", \"gridcolor\": \"white\", \"gridwidth\": 2, \"linecolor\": \"white\", \"showbackground\": true, \"ticks\": \"\", \"zerolinecolor\": \"white\"}, \"zaxis\": {\"backgroundcolor\": \"#E5ECF6\", \"gridcolor\": \"white\", \"gridwidth\": 2, \"linecolor\": \"white\", \"showbackground\": true, \"ticks\": \"\", \"zerolinecolor\": \"white\"}}, \"shapedefaults\": {\"line\": {\"color\": \"#2a3f5f\"}}, \"ternary\": {\"aaxis\": {\"gridcolor\": \"white\", \"linecolor\": \"white\", \"ticks\": \"\"}, \"baxis\": {\"gridcolor\": \"white\", \"linecolor\": \"white\", \"ticks\": \"\"}, \"bgcolor\": \"#E5ECF6\", \"caxis\": {\"gridcolor\": \"white\", \"linecolor\": \"white\", \"ticks\": \"\"}}, \"title\": {\"x\": 0.05}, \"xaxis\": {\"automargin\": true, \"gridcolor\": \"white\", \"linecolor\": \"white\", \"ticks\": \"\", \"title\": {\"standoff\": 15}, \"zerolinecolor\": \"white\", \"zerolinewidth\": 2}, \"yaxis\": {\"automargin\": true, \"gridcolor\": \"white\", \"linecolor\": \"white\", \"ticks\": \"\", \"title\": {\"standoff\": 15}, \"zerolinecolor\": \"white\", \"zerolinewidth\": 2}}}, \"title\": {\"text\": \"Energy\"}, \"xaxis\": {\"gridwidth\": 2, \"ticklen\": 5, \"title\": {\"text\": \"MD\"}, \"zeroline\": false}, \"yaxis\": {\"gridwidth\": 2, \"ticklen\": 5, \"title\": {\"text\": \"BEM\"}}},\n",
       "                        {\"responsive\": true}\n",
       "                    ).then(function(){\n",
       "                            \n",
       "var gd = document.getElementById('0402aa40-fe06-4198-9323-fd1a3e502d8f');\n",
       "var x = new MutationObserver(function (mutations, observer) {{\n",
       "        var display = window.getComputedStyle(gd).display;\n",
       "        if (!display || display === 'none') {{\n",
       "            console.log([gd, 'removed!']);\n",
       "            Plotly.purge(gd);\n",
       "            observer.disconnect();\n",
       "        }}\n",
       "}});\n",
       "\n",
       "// Listen for the removal of the full notebook cells\n",
       "var notebookContainer = gd.closest('#notebook-container');\n",
       "if (notebookContainer) {{\n",
       "    x.observe(notebookContainer, {childList: true});\n",
       "}}\n",
       "\n",
       "// Listen for the clearing of the current output cell\n",
       "var outputEl = gd.closest('.output');\n",
       "if (outputEl) {{\n",
       "    x.observe(outputEl, {childList: true});\n",
       "}}\n",
       "\n",
       "                        })\n",
       "                };\n",
       "                });\n",
       "            </script>\n",
       "        </div>"
      ]
     },
     "metadata": {},
     "output_type": "display_data"
    }
   ],
   "source": [
    "eps='125'\n",
    "direccion = 'new_implicit/'+eps+'.txt'\n",
    "var,i,S='n',5,10\n",
    "VAR='='\n",
    "\n",
    "grupos(var,i,S,'data/explicit_data.txt','new_implicit/'+eps+'.txt','data/n_atom.txt')\n",
    "#separar(VAR,'data/explicit_data.txt','new_implicit/'+eps+'.txt')\n",
    "\n",
    "iupac, smiles, dGes_i, dGcav_i, dGdisp_i, dGexper, SASA, vol =read_implicit('data/implicit_comp.txt')\n",
    "iupac, smiles, dGes_e, dGcav_e, dGdisp_e, dGexper = read_explicit('data/explicit_comp.txt')\n",
    "\n",
    "plot_correl(dGes_e, dGes_i,smiles,'data/n_groups.txt',OPCION='um' ,key='=')"
   ]
  },
  {
   "cell_type": "code",
   "execution_count": null,
   "metadata": {},
   "outputs": [],
   "source": []
  },
  {
   "cell_type": "code",
   "execution_count": null,
   "metadata": {},
   "outputs": [],
   "source": []
  }
 ],
 "metadata": {
  "kernelspec": {
   "display_name": "Python 3",
   "language": "python",
   "name": "python3"
  },
  "language_info": {
   "codemirror_mode": {
    "name": "ipython",
    "version": 3
   },
   "file_extension": ".py",
   "mimetype": "text/x-python",
   "name": "python",
   "nbconvert_exporter": "python",
   "pygments_lexer": "ipython3",
   "version": "3.7.6"
  }
 },
 "nbformat": 4,
 "nbformat_minor": 4
}
