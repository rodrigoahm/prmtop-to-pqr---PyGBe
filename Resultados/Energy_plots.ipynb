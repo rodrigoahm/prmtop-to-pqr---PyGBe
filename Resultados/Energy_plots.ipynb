{
 "cells": [
  {
   "cell_type": "markdown",
   "metadata": {},
   "source": [
    "## Supplementary material for \"A Simple Electrostatic Model for the Hard-Sphere Solute Component of Nonpolar Solvation\"\n",
    "#### Christopher D. Cooper and Jaydeep P. Bardhan\n",
    "\n",
    "This Jupyter notebook explores results from solvation free energy calculations using an implicit solvent model from the paper \"A Simple Electrostatic Model for the Hard-Sphere Solute Component of Nonpolar Solvation\", and molecular dynamics from Mobley et al. \"Small Molecule Hydration Free Energies in Explicit Solvent: An Extensive Test of Fixed-Charge Atomistic Simulations\" (2009). The test set corresponds to 497 small solutes from D. Mobley's paper.\n",
    "\n",
    "The code reads in the files `implicit_data.txt` and `explicit_data.txt` which are available in the Supplementary Material. These are CSV files with the names and different free energy components for the 497 molecules. "
   ]
  },
  {
   "cell_type": "code",
   "execution_count": 1,
   "metadata": {},
   "outputs": [
    {
     "data": {
      "text/html": [
       "        <script type=\"text/javascript\">\n",
       "        window.PlotlyConfig = {MathJaxConfig: 'local'};\n",
       "        if (window.MathJax) {MathJax.Hub.Config({SVG: {font: \"STIX-Web\"}});}\n",
       "        if (typeof require !== 'undefined') {\n",
       "        require.undef(\"plotly\");\n",
       "        requirejs.config({\n",
       "            paths: {\n",
       "                'plotly': ['https://cdn.plot.ly/plotly-latest.min']\n",
       "            }\n",
       "        });\n",
       "        require(['plotly'], function(Plotly) {\n",
       "            window._Plotly = Plotly;\n",
       "        });\n",
       "        }\n",
       "        </script>\n",
       "        "
      ]
     },
     "metadata": {},
     "output_type": "display_data"
    }
   ],
   "source": [
    "import numpy\n",
    "import plotly.graph_objs as go\n",
    "from plotly.offline import download_plotlyjs, init_notebook_mode, plot, iplot\n",
    "init_notebook_mode(connected=True)\n",
    "import shutil"
   ]
  },
  {
   "cell_type": "code",
   "execution_count": 2,
   "metadata": {},
   "outputs": [],
   "source": [
    "def read_atoms_volume(archivo):\n",
    "    moleculas = []; n_atomos = []; volumen = []; area = []\n",
    "    doc=open(archivo,'r')\n",
    "    for linea in doc.readlines():\n",
    "        L=linea.split('   ')\n",
    "        moleculas.append(L[0])\n",
    "        n_atomos.append(int(L[1]))\n",
    "        volumen.append(int(float(L[2][:7])))\n",
    "        area.append(int(float(L[3][:7])))\n",
    "    \n",
    "    return (moleculas,n_atomos,volumen,area)\n",
    "\n",
    "\n",
    "#------------------------------------------------------------------------------------------------------\n",
    "\n",
    "#------------------------------------------------------------------------------------------------------\n",
    "\n",
    "#------------------------------------------------------------------------------------------------------\n",
    "def separar(variable,explicit, implicit):\n",
    "    comp_explicit = open('data/explicit_comp.txt','w+')#Crear Documentos a Comparar\n",
    "    comp_explicit.write('IUPAC, SMILES, dGes, dGcav, dGdisp, dGexper, SASA, Vol\\n')\n",
    "    comp_implicit = open('data/implicit_comp.txt','w+')\n",
    "    comp_implicit.write('IUPAC, SMILES, dGes, dGcav, dGdisp, dGexper, SASA, Vol\\n')\n",
    "    new_atoms_doc = open('data/n_groups.txt','w+')\n",
    "    \n",
    "    \n",
    "    if isinstance(variable, int):                    #Si es un número se identifica el número de átomos\n",
    "        n_atoms_doc = open('data/n_atom.txt','r')  \n",
    "        for linea_atoms in n_atoms_doc.readlines():\n",
    "            lista_atoms = linea_atoms.split('   ')\n",
    "            if variable == int(lista_atoms[1]):\n",
    "                new_atoms_doc.write(linea_atoms)\n",
    "                exp = open(explicit)\n",
    "                for linea_exp in exp.readlines():\n",
    "                    lista_exp = linea_exp.split(',')\n",
    "                    if lista_exp[0]==lista_atoms[0]:\n",
    "                        comp_explicit.write(linea_exp)\n",
    "                imp = open(implicit)\n",
    "                for linea_imp in imp.readlines():\n",
    "                    lista_imp = linea_imp.split(',')\n",
    "                    if lista_imp[0]==lista_atoms[0]:\n",
    "                        comp_implicit.write(linea_imp)\n",
    "                exp.close()\n",
    "                imp.close()\n",
    "        n_atoms_doc.close()\n",
    "#-------------------------------------------------------------------------------\n",
    "            \n",
    "    elif isinstance(variable, str):\n",
    "        if len(variable)<=3:\n",
    "            exp=open(explicit)\n",
    "            imp=open(implicit)\n",
    "            for linea_exp in exp.readlines():\n",
    "                lista_exp = linea_exp.split(',')\n",
    "                n_atoms_doc = open('data/n_atom.txt','r') \n",
    "                if variable in lista_exp[1]:\n",
    "                    for linea_atoms in n_atoms_doc.readlines():\n",
    "                        if lista_exp[0] == linea_atoms.split('   ')[0]:\n",
    "                            new_atoms_doc.write(linea_atoms)\n",
    "                    comp_explicit.write(linea_exp)\n",
    "                n_atoms_doc.close()\n",
    "                    \n",
    "            for linea_imp in imp.readlines():\n",
    "                lista_imp = linea_imp.split(',')\n",
    "                if variable in lista_imp[1]:\n",
    "                    comp_implicit.write(linea_imp)\n",
    "            exp.close()\n",
    "            imp.close()\n",
    "            \n",
    "        else:\n",
    "            exp=open(explicit)\n",
    "            imp=open(implicit)\n",
    "            for linea_exp in exp.readlines():\n",
    "                lista_exp = linea_exp.split(',')\n",
    "                n_atoms_doc = open('data/n_atom.txt','r') \n",
    "                if variable in lista_exp[0]:\n",
    "                    for linea_atoms in n_atoms_doc.readlines():\n",
    "                        if lista_exp[0] == linea_atoms.split('   ')[0]:\n",
    "                            new_atoms_doc.write(linea_atoms)\n",
    "                    comp_explicit.write(linea_exp)\n",
    "                n_atoms_doc.close()\n",
    "                    \n",
    "            for linea_imp in imp.readlines():\n",
    "                lista_imp = linea_imp.split(',')\n",
    "                if variable in lista_imp[0]:\n",
    "                    comp_implicit.write(linea_imp)\n",
    "            exp.close()\n",
    "            imp.close()\n",
    "        \n",
    "        \n",
    "    comp_explicit.close()\n",
    "    comp_implicit.close()\n",
    "    return new_atoms_doc.close()    \n",
    "\n",
    "\n",
    "\n",
    "#------------------------------------------------------------------------------------------------------\n",
    "\n",
    "#------------------------------------------------------------------------------------------------------\n",
    "\n",
    "#------------------------------------------------------------------------------------------------------\n",
    "#Borrar el 1 en comp1 para volver a lo de antes y dejarlos independientes\n",
    "\n",
    "def grupos(variable,lim_i,lim_S,explicit,implicit,n_atoms):\n",
    "    comp_explicit = open('data/explicit_comp1.txt','w+')#Crear Documentos a Comparar\n",
    "    comp_explicit.write('IUPAC, SMILES, dGes, dGcav, dGdisp, dGexper, SASA, Vol\\n')\n",
    "    comp_implicit = open('data/implicit_comp1.txt','w+')\n",
    "    comp_implicit.write('IUPAC, SMILES, dGes, dGcav, dGdisp, dGexper, SASA, Vol\\n')\n",
    "    n_atoms_doc = open(n_atoms,'r')   \n",
    "    new_atoms_doc = open('data/n_groups.txt','w+')\n",
    "    \n",
    "    \n",
    "    if variable=='n':\n",
    "        for linea_atoms in n_atoms_doc.readlines():\n",
    "            lista_atoms = linea_atoms.split('   ')        \n",
    "            if lim_i<=int(lista_atoms[1])<=lim_S:\n",
    "                new_atoms_doc.write(linea_atoms)\n",
    "                exp = open(explicit)\n",
    "                for linea_exp in exp.readlines():\n",
    "                    lista_exp = linea_exp.split(',')\n",
    "                    if lista_exp[0]==lista_atoms[0]:\n",
    "                        comp_explicit.write(linea_exp)\n",
    "                imp = open(implicit)\n",
    "                for linea_imp in imp.readlines():\n",
    "                    lista_imp=linea_imp.split(',')\n",
    "                    if lista_imp[0]==lista_atoms[0]:\n",
    "                        comp_implicit.write(linea_imp)\n",
    "\n",
    "                exp.close()\n",
    "                imp.close()\n",
    "                \n",
    "    if variable=='vol':\n",
    "        for linea_atoms in n_atoms_doc.readlines():\n",
    "            lista_atoms = linea_atoms.split('   ')        \n",
    "            if lim_i<=float(lista_atoms[2][:5])<=lim_S:\n",
    "                new_atoms_doc.write(linea_atoms)\n",
    "                exp = open(explicit)\n",
    "                for linea_exp in exp.readlines():\n",
    "                    lista_exp = linea_exp.split(',')\n",
    "                    if lista_exp[0]==lista_atoms[0]:\n",
    "                        comp_explicit.write(linea_exp)\n",
    "                imp = open(implicit)\n",
    "                for linea_imp in imp.readlines():\n",
    "                    lista_imp=linea_imp.split(',')\n",
    "                    if lista_imp[0]==lista_atoms[0]:\n",
    "                        comp_implicit.write(linea_imp)\n",
    "\n",
    "                exp.close()\n",
    "                imp.close()\n",
    "                \n",
    "    if variable=='sup':\n",
    "        for linea_atoms in n_atoms_doc.readlines():\n",
    "            lista_atoms = linea_atoms.split('   ')        \n",
    "            if lim_i<=float(lista_atoms[3][:5])<=lim_S:\n",
    "                new_atoms_doc.write(linea_atoms)\n",
    "                exp = open(explicit)\n",
    "                for linea_exp in exp.readlines():\n",
    "                    lista_exp = linea_exp.split(',')\n",
    "                    if lista_exp[0]==lista_atoms[0]:\n",
    "                        comp_explicit.write(linea_exp)\n",
    "                imp = open(implicit)\n",
    "                for linea_imp in imp.readlines():\n",
    "                    lista_imp=linea_imp.split(',')\n",
    "                    if lista_imp[0]==lista_atoms[0]:\n",
    "                        comp_implicit.write(linea_imp)\n",
    "\n",
    "                exp.close()\n",
    "                imp.close()\n",
    "\n",
    "\n",
    "\n",
    "        \n",
    "    new_atoms_doc.close()\n",
    "    comp_explicit.close()\n",
    "    comp_implicit.close()\n",
    "    return n_atoms_doc.close()\n",
    "\n",
    "#-------------------------------------------------------------------------------------------------------\n",
    "\n",
    "#-------------------------------------------------------------------------------------------------------\n",
    "\n",
    "#-------------------------------------------------------------------------------------------------------\n",
    "\n",
    "def G_funcionales(grupo):\n",
    "    explicit_comp = open('data/explicit_comp.txt','w+')\n",
    "    implicit_comp = open('data/implicit_comp.txt','w+')\n",
    "    grupos_funcionales = open('data/mobley_database/grupos funcionales.txt','r')\n",
    "    \n",
    "    explicit_comp.write('IUPAC, SMILES, dGes, dGcav, dGdisp, dGexper, SASA, Vol\\n')\n",
    "    implicit_comp.write('IUPAC, SMILES, dGes, dGcav, dGdisp, dGexper, SASA, Vol\\n')\n",
    "    \n",
    "    new_atoms_doc = open('data/n_groups.txt','w+')\n",
    "    \n",
    "    for linea_grupos in grupos_funcionales.readlines():\n",
    "        lista_grupos = linea_grupos.split(';')\n",
    "        \n",
    "        if grupo in linea_grupos:\n",
    "            explicit_data = open('data/explicit_comp1.txt','r')\n",
    "            implicit_data = open('data/implicit_comp1.txt','r')\n",
    "            n_atoms_doc = open('data/n_atom.txt','r')  \n",
    "            \n",
    "            \n",
    "            for linea_explicit_data in explicit_data.readlines():\n",
    "                lista_explicit_data = linea_explicit_data.split(',') ######################\n",
    "                if lista_grupos[0] == lista_explicit_data[0]:\n",
    "                    for linea_atoms in n_atoms_doc.readlines():\n",
    "                        \n",
    "                        if lista_grupos[0] == linea_atoms.split('   ')[0]:\n",
    "                            new_atoms_doc.write(linea_atoms)\n",
    "                    explicit_comp.write(linea_explicit_data)\n",
    "                    \n",
    "            n_atoms_doc.close\n",
    "            \n",
    "            for linea_implicit_data in implicit_data.readlines():\n",
    "                lista_implicit_data = linea_implicit_data.split(',')\n",
    "                if lista_grupos[0] == lista_implicit_data[0]:\n",
    "                    implicit_comp.write(linea_implicit_data)\n",
    "                    \n",
    "            explicit_data.close()\n",
    "            implicit_data.close()\n",
    "    \n",
    "    \n",
    "    explicit_comp.close()\n",
    "    return implicit_comp.close()\n",
    "\n",
    "#--------------------------------------------------------------------------------------------------\n",
    "\n",
    "#--------------------------------------------------------------------------------------------------\n",
    "\n",
    "#--------------------------------------------------------------------------------------------------\n",
    "\n",
    "def e_rel(error,eps,data_exp):\n",
    "    \n",
    "    if error >=40:\n",
    "        explicit_comp = open('data/explicit_comp1.txt','w+')\n",
    "        eps_data = open('new_implicit/'+str(eps)+'.txt','r')\n",
    "        implicit_comp = open('data/implicit_comp1.txt','w+')\n",
    "        for linea_eps in eps_data.readlines():\n",
    "            implicit_comp.write(linea_eps)\n",
    "        explicit = open(data_exp,'r')\n",
    "        for linea_exp in explicit.readlines():\n",
    "            explicit_comp.write(linea_exp)\n",
    "        \n",
    "    else:\n",
    "        explicit_comp = open('data/explicit_comp1.txt','w+')\n",
    "        explicit_comp.write('IUPAC, SMILES, dGes, dGcav, dGdisp, dGexper, SASA, Vol\\n')\n",
    "        eps_data = open('new_implicit/'+str(eps)+'.txt','r')\n",
    "        implicit_comp = open('data/implicit_comp1.txt','w+')\n",
    "        implicit_comp.write('IUPAC, SMILES, dGes, dGcav, dGdisp, dGexper, SASA, Vol\\n')\n",
    "        for linea_eps in eps_data.readlines():\n",
    "            lista_eps = linea_eps.split(', ')\n",
    "            explicit_data = open(data_exp,'r')\n",
    "\n",
    "            for linea_explicit in explicit_data.readlines():\n",
    "                lista_explicit = linea_explicit.split(', ')\n",
    "\n",
    "                if lista_eps[0]==lista_explicit[0]:\n",
    "                    if '.' in lista_eps[2]:\n",
    "                        if float(lista_explicit[2]) != 0:\n",
    "                            E = abs((float(lista_eps[2])/float(lista_explicit[2]) - 1))*100\n",
    "\n",
    "                            if error >= E:\n",
    "                                explicit_comp.write(linea_explicit)\n",
    "                                implicit_comp.write(linea_eps)\n",
    "            explicit_data.close()  \n",
    "    explicit_comp.close()\n",
    "    implicit_comp.close()\n",
    "    \n",
    "    shutil.copy('data/explicit_comp1.txt','data/explicit_comp.txt')\n",
    "    shutil.copy('data/implicit_comp1.txt','data/implicit_comp.txt')\n",
    "    \n",
    "    return eps_data.close()\n"
   ]
  },
  {
   "cell_type": "code",
   "execution_count": 3,
   "metadata": {},
   "outputs": [],
   "source": [
    "def plot_correl(X, Y, names,N_ATOMS,OPCION='', key='None', title='Energy', xlabel='X-axis', ylabel='Y-axis'):\n",
    "    \"\"\"\n",
    "    Uses plotly to do scatter plot of correlation between two datasets\n",
    "    Inputs:\n",
    "    -------\n",
    "        X    : (array of float) data in X axis\n",
    "        Y    : (array of float) data in Y axis\n",
    "        names: (array of string) molecule names\n",
    "        key  : (string) highlight points that contain 'key' in the name\n",
    "        title: (string) title of the plot. Defaults to 'Energy'\n",
    "        xlabel: (string) x label of the plot\n",
    "    Output:\n",
    "    -------\n",
    "        Plotly scatter plot with hover tags\n",
    "        Correlation statistics\n",
    "    \"\"\"\n",
    "    if OPCION=='num':\n",
    "        moleculas,n_atomos,volumen,area = read_atoms_volume(N_ATOMS)\n",
    "        key_true = []\n",
    "        if key=='vol':\n",
    "            key_true=volumen\n",
    "        elif key=='sup':\n",
    "            key_true=area\n",
    "        else:\n",
    "            key_true=n_atomos\n",
    "        \n",
    "    else:   \n",
    "        key_true = []\n",
    "        for i in range(len(names)):\n",
    "            if key in names[i]:\n",
    "                key_true.append(\"red\")\n",
    "            else:\n",
    "                key_true.append(\"blue\")\n",
    "\n",
    "    trace = go.Scatter(\n",
    "                x = X,\n",
    "                y = Y,\n",
    "                text = names,\n",
    "                mode='markers',\n",
    "                marker = dict(size=8,\n",
    "                            opacity=0.6, color=key_true,colorscale='Viridis',colorbar=dict(thickness=20)),\n",
    "                hoverinfo = 'text')\n",
    "\n",
    "\n",
    "    max_val = numpy.max(X)\n",
    "    min_val = numpy.min(X)\n",
    "    ref = go.Scatter( x = numpy.array([min_val,max_val]),\n",
    "                      y = numpy.array([min_val,max_val]),\n",
    "                      mode = 'lines'\n",
    "                    )\n",
    "\n",
    "    data = [trace, ref]\n",
    "    \n",
    "    layout= go.Layout(\n",
    "        title= 'Energy',\n",
    "        hovermode= 'closest',\n",
    "        xaxis= dict(\n",
    "            title= 'MD',\n",
    "            ticklen= 5,\n",
    "            zeroline= False,\n",
    "            gridwidth= 2,\n",
    "        ),\n",
    "        yaxis=dict(\n",
    "            title= 'BEM',\n",
    "            ticklen= 5,\n",
    "            gridwidth= 2,\n",
    "        ),\n",
    "        showlegend= False\n",
    "    )\n",
    "    \n",
    "    correl = numpy.corrcoef(X, Y)\n",
    "    rmsd = numpy.sqrt(numpy.sum(numpy.abs(X-Y)**2)/len(X))\n",
    "    mue = numpy.sum(numpy.abs(X-Y))/len(X)\n",
    "\n",
    "    print ('Correlation coeff: %1.4f'%correl[0,1])\n",
    "    print ('RMSD: %1.4f'%rmsd)\n",
    "    print ('MUE: %1.4f'%mue)\n",
    "    \n",
    "    fig= go.Figure(data=data, layout=layout)\n",
    "    iplot(fig)\n",
    "    \n",
    "    \n",
    "def read_explicit(filename):\n",
    "    \"\"\"\n",
    "    Reads in data of solvation free energy from explicit_data.txt (taken from Mobley et al 2009)\n",
    "    Input:\n",
    "    ------\n",
    "        filename: (string) name of file (probably explicit_data.txt)\n",
    "        \n",
    "    Output:\n",
    "    -------\n",
    "        iupac: (array of str) names of molecules in IUPAC\n",
    "        smiles: (array of str) names of molecuiles in SMILES \n",
    "        dGes: (array of float) electrostatic component of solvation free energy \n",
    "        dGcav: (array of float) free energy to generate the solute-shaped cavity \n",
    "        dGdisp: (array of float) free energy of the solute-solvent dispersion interaction \n",
    "        dGexper: (array of float) solvation free energy measured experimentally\n",
    "    \"\"\"\n",
    "    \n",
    "    iupac = []; smiles = []; dGes = []; dGcav = []; dGdisp = []; dGexper = []\n",
    "    with open(filename) as f:\n",
    "        line = f.readline()\n",
    "        line = f.readline()\n",
    "\n",
    "        while line:\n",
    "            line_split = line.split()\n",
    "            iupac.append(line_split[0][:-1])\n",
    "            smiles.append(line_split[1][:-1])\n",
    "            dGes.append(float(line_split[2][:-1]))\n",
    "            dGcav.append(float(line_split[3][:-1]))\n",
    "            dGdisp.append(float(line_split[4][:-1]))\n",
    "            dGexper.append(float(line_split[5]))\n",
    "            line = f.readline()\n",
    "\n",
    "            \n",
    "    iupac   = numpy.array(iupac)\n",
    "    smiles  = numpy.array(smiles)\n",
    "    dGes    = numpy.array(dGes)\n",
    "    dGcav   = numpy.array(dGcav)\n",
    "    dGdisp  = numpy.array(dGdisp)\n",
    "    dGexper = numpy.array(dGexper)\n",
    "    \n",
    "    return iupac, smiles, dGes, dGcav, dGdisp, dGexper\n",
    "            \n",
    "    \n",
    "def read_implicit(filename):\n",
    "    \"\"\"\n",
    "    Reads in data of solvation free energy from implicit_data.txt \n",
    "    Input:\n",
    "    ------\n",
    "        filename: (string) name of file (probably implicit_data.txt)\n",
    "        \n",
    "    Output:\n",
    "    -------\n",
    "        iupac: (array of str) names of molecules in IUPAC\n",
    "        smiles: (array of str) names of molecuiles in SMILES \n",
    "        dGes: (array of float) electrostatic component of solvation free energy \n",
    "        dGcav: (array of float) free energy to generate the solute-shaped cavity \n",
    "        dGdisp: (array of float) free energy of the solute-solvent dispersion interaction \n",
    "        dGexper: (array of float) solvation free energy measured experimentally\n",
    "        sasa: (array of float) solvent accessible surface area \n",
    "        volume: (array of float) molecular volume (inside the SAS)\n",
    "    \"\"\"\n",
    "    iupac = []; smiles = []; dGes = []; dGcav = []; dGdisp = []; dGexper = []; sasa = []; vol = [];\n",
    "    with open(filename) as f:\n",
    "        line = f.readline()\n",
    "        line = f.readline()\n",
    "\n",
    "        while line:\n",
    "            line_split = line.split()\n",
    "            iupac.append(line_split[0][:-1])\n",
    "            smiles.append(line_split[1][:-1])\n",
    "            dGes.append(float(line_split[2][:-1]))\n",
    "            dGcav.append(float(line_split[3][:-1]))\n",
    "            dGdisp.append(float(line_split[4][:-1]))\n",
    "            dGexper.append(float(line_split[5][:-1]))\n",
    "            sasa.append(float(line_split[6][:-1]))\n",
    "            vol.append(float(line_split[7]))\n",
    "            line = f.readline()\n",
    "\n",
    "            \n",
    "    iupac   = numpy.array(iupac)\n",
    "    smiles  = numpy.array(smiles)\n",
    "    dGes    = numpy.array(dGes)\n",
    "    dGcav   = numpy.array(dGcav)\n",
    "    dGdisp  = numpy.array(dGdisp)\n",
    "    dGexper = numpy.array(dGexper)\n",
    "    sasa    = numpy.array(sasa)\n",
    "    vol     = numpy.array(vol)\n",
    "    \n",
    "    return iupac, smiles, dGes, dGcav, dGdisp, dGexper, sasa, vol"
   ]
  },
  {
   "cell_type": "markdown",
   "metadata": {},
   "source": [
    "All the `_i` files are energy components for the implicit solvent model, whereas `_e` for the explicit solvent. `iupac` and `smiles` are the molecule names, which are the same in both files. `SASA` is the solvent accessible surface area and `vol` the volume of each solute.\n",
    "\n",
    "As a reminder:\n",
    "* $\\Delta G_{cav}$ is the cavity energy\n",
    "* $\\Delta G_{disp}$ is the energy of the solute-solvent dispersion interacion\n",
    "* $\\Delta G_{es}$ is the electrostatic component of free energy (charging free energy)\n",
    "* $\\Delta G_{np} = \\Delta G_{cav} + \\Delta G_{disp}$ is the nonpolar component of the solvation free energy\n",
    "* $\\Delta G = \\Delta G_{np} + \\Delta G_{es}$ is the total solvation free energy\n",
    "* $\\Delta G_{exper}$ is the solvation free energy obtained from experiments\n",
    "\n",
    "Next, you can explore the correlation between explicit and implicit solvent calculations for each energy component, and with the experimental values. You might find the following very useful:\n",
    "* Hover over the scatter plot, you'll be able to see the name of each solute, given by either IUPAC or SMILES (see docstring under the `plot_correl` function). \n",
    "* Highlight in red components with a certain string in its name using the ` key` argument. For example, if you want to see all the compounds with triple bonds, your third input argument would be `smiles` and you can add `key='#'`  \n",
    "\n",
    "\n"
   ]
  },
  {
   "cell_type": "markdown",
   "metadata": {},
   "source": [
    "* Los eps es la constante dielectrica multiplicada por 100, los datos se pueden encontrar en la carpeta `new_implicit`\n",
    "\n",
    "* Activar función de \"grupos\" para para separar la información por rangos.`var` son los tipos de rangos con los cuales se desea trabajar, `n` para el numero de átomos, `vol` para volúmen y `sup` para trabjar con superficie\n",
    "\n",
    "\n",
    "* Activar función \"separar\" para trabajar con número de átomos exactos o tipos de átomos. Las entradas pueden ser un número cualquiera `(9)`, un átomo `('Cl','Br', etc.)`, doble enlance `('=')` o nombres `('methyl','chl',...)`\n",
    "\n",
    "* Si se desea resaltar la información por números, ya sea número de átomos, superficie o volúmen,  `OPCION ='num'` y `key='n','vol' o 'sup'`. En caso de resaltar por iupac o smiles, `OPCION=''`"
   ]
  },
  {
   "cell_type": "code",
   "execution_count": 4,
   "metadata": {
    "scrolled": true
   },
   "outputs": [],
   "source": [
    "eps='125'\n",
    "\n",
    "var,i,S='n',15,21\n",
    "VAR = 'C'\n",
    "\n",
    "grupo_funcional = ' alkyl'\n",
    "error = 100\n",
    "\n",
    "OP = 0\n",
    "\n",
    "\n",
    "if OP==0:\n",
    "    e_rel(error,eps,'data/explicit_data.txt')\n",
    "    G_funcionales(grupo_funcional)\n",
    "    \n",
    "elif OP==1:\n",
    "    grupos(var,i,S,'data/explicit_data.txt','new_implicit/'+eps+'.txt','data/n_atom.txt')\n",
    "    separar(VAR,'data/explicit_comp1.txt','data/implicit_comp1.txt')\n",
    "\n",
    "\n",
    "#Cambiar comp1 a data para dejar independiente\n"
   ]
  },
  {
   "cell_type": "code",
   "execution_count": 5,
   "metadata": {},
   "outputs": [
    {
     "name": "stdout",
     "output_type": "stream",
     "text": [
      "Correlation coeff: 0.9877\n",
      "RMSD: 0.3353\n",
      "MUE: 0.2196\n"
     ]
    },
    {
     "data": {
      "application/vnd.plotly.v1+json": {
       "config": {
        "linkText": "Export to plot.ly",
        "plotlyServerURL": "https://plot.ly",
        "showLink": false
       },
       "data": [
        {
         "hoverinfo": "text",
         "marker": {
          "color": [
           8,
           8,
           8,
           8,
           8,
           8,
           8,
           11,
           14,
           8,
           14,
           14,
           23,
           20,
           26,
           17,
           11,
           8,
           14,
           23,
           20,
           17,
           11,
           14,
           23,
           20,
           17,
           11,
           14,
           11,
           20,
           14,
           11,
           11,
           9,
           15,
           8,
           5,
           8,
           5,
           5,
           5,
           5,
           5,
           9,
           5,
           8,
           5,
           6,
           11,
           15,
           12,
           8,
           11,
           14,
           18,
           17,
           18,
           17,
           18,
           16,
           15,
           15
          ],
          "colorbar": {
           "thickness": 20
          },
          "colorscale": [
           [
            0,
            "#440154"
           ],
           [
            0.1111111111111111,
            "#482878"
           ],
           [
            0.2222222222222222,
            "#3e4989"
           ],
           [
            0.3333333333333333,
            "#31688e"
           ],
           [
            0.4444444444444444,
            "#26828e"
           ],
           [
            0.5555555555555556,
            "#1f9e89"
           ],
           [
            0.6666666666666666,
            "#35b779"
           ],
           [
            0.7777777777777778,
            "#6ece58"
           ],
           [
            0.8888888888888888,
            "#b5de2b"
           ],
           [
            1,
            "#fde725"
           ]
          ],
          "opacity": 0.6,
          "size": 8
         },
         "mode": "markers",
         "text": [
          "1112_tetrachloroethane",
          "1122_tetrachloroethane",
          "112_trichloroethane",
          "11_dichloroethane",
          "11_difluoroethane",
          "12_dibromoethane",
          "12_dichloroethane",
          "13_dichloropropane",
          "14_dichlorobutane",
          "1_bromo_2_chloroethane",
          "1_bromo_2_methylpropane",
          "1_bromobutane",
          "1_bromoheptane",
          "1_bromohexane",
          "1_bromooctane",
          "1_bromopentane",
          "1_bromopropane",
          "1_chloro_222_trifluoroethane",
          "1_chlorobutane",
          "1_chloroheptane",
          "1_chlorohexane",
          "1_chloropentane",
          "1_chloropropane",
          "1_iodobutane",
          "1_iodoheptane",
          "1_iodohexane",
          "1_iodopentane",
          "1_iodopropane",
          "2_bromo_2_methylpropane",
          "2_bromopropane",
          "2_chloro_111_trimethoxyethane",
          "2_chloro_2_methylpropane",
          "2_chloropropane",
          "2_iodopropane",
          "3_chloroprop_1_ene",
          "bis_2_chloroethyl_ether",
          "bromoethane",
          "bromomethane",
          "chloroethane",
          "chlorofluoromethane",
          "chloromethane",
          "dibromomethane",
          "dichloromethane",
          "diiodomethane",
          "ethanethiol",
          "fluoromethane",
          "iodoethane",
          "iodomethane",
          "methanethiol",
          "methyl_chloroacetate",
          "n_butanethiol",
          "n_propanethiol",
          "pentachloroethane",
          "12_dichloropropane",
          "2_chlorobutane",
          "2_methoxyaniline",
          "2_methoxyphenol",
          "3_methoxyaniline",
          "3_methoxyphenol",
          "4_methoxyaniline",
          "anisole",
          "benzyl_bromide",
          "benzyl_chloride"
         ],
         "type": "scatter",
         "x": [
          -1.43,
          -1.88,
          -2.01,
          -1.64,
          -2.41,
          -1.6,
          -2.15,
          -2.18,
          -2.38,
          -1.77,
          -0.95,
          -0.97,
          -0.97,
          -0.97,
          -0.97,
          -0.96,
          -0.98,
          -2.27,
          -1.22,
          -1.21,
          -1.23,
          -1.22,
          -1.25,
          -1.83,
          -1.8,
          -1.81,
          -1.82,
          -1.87,
          -1.25,
          -1.16,
          -5.4,
          -1.44,
          -1.4,
          -1.97,
          -1.48,
          -3.78,
          -1.01,
          -0.89,
          -1.26,
          -2.25,
          -1.14,
          -1.1,
          -1.6,
          -2.3,
          -2.49,
          -1.61,
          -1.93,
          -1.9,
          -2.25,
          -5.16,
          -2.39,
          -2.41,
          -1.13,
          -2.13,
          -1.35,
          -7.69,
          -6,
          -8.44,
          -8.1,
          -8.09,
          -3.98,
          -3.13,
          -3.37
         ],
         "y": [
          -1.6056,
          -2.5641,
          -3.0816,
          -1.7478,
          -2.3813,
          -1.3116,
          -2.6339,
          -2.2256,
          -2.495,
          -1.4499,
          -0.9116,
          -0.9286,
          -0.9292,
          -0.914,
          -0.9271,
          -0.9147,
          -0.9305,
          -2.5137,
          -1.1759,
          -1.181,
          -1.2302,
          -1.2291,
          -1.1529,
          -1.748,
          -1.7202,
          -1.7197,
          -1.7201,
          -1.7541,
          -1.1291,
          -1.0902,
          -5.8305,
          -1.3164,
          -1.3212,
          -1.848,
          -1.7194,
          -4.9962,
          -1.0125,
          -0.9859,
          -1.2767,
          -2.5623,
          -1.2546,
          -1.237,
          -1.8469,
          -2.7515,
          -2.9369,
          -1.5487,
          -1.8971,
          -1.9901,
          -2.8865,
          -4.95,
          -2.9101,
          -2.8588,
          -1.329,
          -2.4907,
          -1.2562,
          -7.6767,
          -6.6327,
          -8.4557,
          -8.9718,
          -8.285,
          -3.7082,
          -2.9052,
          -3.1666
         ]
        },
        {
         "mode": "lines",
         "type": "scatter",
         "x": [
          -8.44,
          -0.89
         ],
         "y": [
          -8.44,
          -0.89
         ]
        }
       ],
       "layout": {
        "hovermode": "closest",
        "showlegend": false,
        "template": {
         "data": {
          "bar": [
           {
            "error_x": {
             "color": "#2a3f5f"
            },
            "error_y": {
             "color": "#2a3f5f"
            },
            "marker": {
             "line": {
              "color": "#E5ECF6",
              "width": 0.5
             }
            },
            "type": "bar"
           }
          ],
          "barpolar": [
           {
            "marker": {
             "line": {
              "color": "#E5ECF6",
              "width": 0.5
             }
            },
            "type": "barpolar"
           }
          ],
          "carpet": [
           {
            "aaxis": {
             "endlinecolor": "#2a3f5f",
             "gridcolor": "white",
             "linecolor": "white",
             "minorgridcolor": "white",
             "startlinecolor": "#2a3f5f"
            },
            "baxis": {
             "endlinecolor": "#2a3f5f",
             "gridcolor": "white",
             "linecolor": "white",
             "minorgridcolor": "white",
             "startlinecolor": "#2a3f5f"
            },
            "type": "carpet"
           }
          ],
          "choropleth": [
           {
            "colorbar": {
             "outlinewidth": 0,
             "ticks": ""
            },
            "type": "choropleth"
           }
          ],
          "contour": [
           {
            "colorbar": {
             "outlinewidth": 0,
             "ticks": ""
            },
            "colorscale": [
             [
              0,
              "#0d0887"
             ],
             [
              0.1111111111111111,
              "#46039f"
             ],
             [
              0.2222222222222222,
              "#7201a8"
             ],
             [
              0.3333333333333333,
              "#9c179e"
             ],
             [
              0.4444444444444444,
              "#bd3786"
             ],
             [
              0.5555555555555556,
              "#d8576b"
             ],
             [
              0.6666666666666666,
              "#ed7953"
             ],
             [
              0.7777777777777778,
              "#fb9f3a"
             ],
             [
              0.8888888888888888,
              "#fdca26"
             ],
             [
              1,
              "#f0f921"
             ]
            ],
            "type": "contour"
           }
          ],
          "contourcarpet": [
           {
            "colorbar": {
             "outlinewidth": 0,
             "ticks": ""
            },
            "type": "contourcarpet"
           }
          ],
          "heatmap": [
           {
            "colorbar": {
             "outlinewidth": 0,
             "ticks": ""
            },
            "colorscale": [
             [
              0,
              "#0d0887"
             ],
             [
              0.1111111111111111,
              "#46039f"
             ],
             [
              0.2222222222222222,
              "#7201a8"
             ],
             [
              0.3333333333333333,
              "#9c179e"
             ],
             [
              0.4444444444444444,
              "#bd3786"
             ],
             [
              0.5555555555555556,
              "#d8576b"
             ],
             [
              0.6666666666666666,
              "#ed7953"
             ],
             [
              0.7777777777777778,
              "#fb9f3a"
             ],
             [
              0.8888888888888888,
              "#fdca26"
             ],
             [
              1,
              "#f0f921"
             ]
            ],
            "type": "heatmap"
           }
          ],
          "heatmapgl": [
           {
            "colorbar": {
             "outlinewidth": 0,
             "ticks": ""
            },
            "colorscale": [
             [
              0,
              "#0d0887"
             ],
             [
              0.1111111111111111,
              "#46039f"
             ],
             [
              0.2222222222222222,
              "#7201a8"
             ],
             [
              0.3333333333333333,
              "#9c179e"
             ],
             [
              0.4444444444444444,
              "#bd3786"
             ],
             [
              0.5555555555555556,
              "#d8576b"
             ],
             [
              0.6666666666666666,
              "#ed7953"
             ],
             [
              0.7777777777777778,
              "#fb9f3a"
             ],
             [
              0.8888888888888888,
              "#fdca26"
             ],
             [
              1,
              "#f0f921"
             ]
            ],
            "type": "heatmapgl"
           }
          ],
          "histogram": [
           {
            "marker": {
             "colorbar": {
              "outlinewidth": 0,
              "ticks": ""
             }
            },
            "type": "histogram"
           }
          ],
          "histogram2d": [
           {
            "colorbar": {
             "outlinewidth": 0,
             "ticks": ""
            },
            "colorscale": [
             [
              0,
              "#0d0887"
             ],
             [
              0.1111111111111111,
              "#46039f"
             ],
             [
              0.2222222222222222,
              "#7201a8"
             ],
             [
              0.3333333333333333,
              "#9c179e"
             ],
             [
              0.4444444444444444,
              "#bd3786"
             ],
             [
              0.5555555555555556,
              "#d8576b"
             ],
             [
              0.6666666666666666,
              "#ed7953"
             ],
             [
              0.7777777777777778,
              "#fb9f3a"
             ],
             [
              0.8888888888888888,
              "#fdca26"
             ],
             [
              1,
              "#f0f921"
             ]
            ],
            "type": "histogram2d"
           }
          ],
          "histogram2dcontour": [
           {
            "colorbar": {
             "outlinewidth": 0,
             "ticks": ""
            },
            "colorscale": [
             [
              0,
              "#0d0887"
             ],
             [
              0.1111111111111111,
              "#46039f"
             ],
             [
              0.2222222222222222,
              "#7201a8"
             ],
             [
              0.3333333333333333,
              "#9c179e"
             ],
             [
              0.4444444444444444,
              "#bd3786"
             ],
             [
              0.5555555555555556,
              "#d8576b"
             ],
             [
              0.6666666666666666,
              "#ed7953"
             ],
             [
              0.7777777777777778,
              "#fb9f3a"
             ],
             [
              0.8888888888888888,
              "#fdca26"
             ],
             [
              1,
              "#f0f921"
             ]
            ],
            "type": "histogram2dcontour"
           }
          ],
          "mesh3d": [
           {
            "colorbar": {
             "outlinewidth": 0,
             "ticks": ""
            },
            "type": "mesh3d"
           }
          ],
          "parcoords": [
           {
            "line": {
             "colorbar": {
              "outlinewidth": 0,
              "ticks": ""
             }
            },
            "type": "parcoords"
           }
          ],
          "pie": [
           {
            "automargin": true,
            "type": "pie"
           }
          ],
          "scatter": [
           {
            "marker": {
             "colorbar": {
              "outlinewidth": 0,
              "ticks": ""
             }
            },
            "type": "scatter"
           }
          ],
          "scatter3d": [
           {
            "line": {
             "colorbar": {
              "outlinewidth": 0,
              "ticks": ""
             }
            },
            "marker": {
             "colorbar": {
              "outlinewidth": 0,
              "ticks": ""
             }
            },
            "type": "scatter3d"
           }
          ],
          "scattercarpet": [
           {
            "marker": {
             "colorbar": {
              "outlinewidth": 0,
              "ticks": ""
             }
            },
            "type": "scattercarpet"
           }
          ],
          "scattergeo": [
           {
            "marker": {
             "colorbar": {
              "outlinewidth": 0,
              "ticks": ""
             }
            },
            "type": "scattergeo"
           }
          ],
          "scattergl": [
           {
            "marker": {
             "colorbar": {
              "outlinewidth": 0,
              "ticks": ""
             }
            },
            "type": "scattergl"
           }
          ],
          "scattermapbox": [
           {
            "marker": {
             "colorbar": {
              "outlinewidth": 0,
              "ticks": ""
             }
            },
            "type": "scattermapbox"
           }
          ],
          "scatterpolar": [
           {
            "marker": {
             "colorbar": {
              "outlinewidth": 0,
              "ticks": ""
             }
            },
            "type": "scatterpolar"
           }
          ],
          "scatterpolargl": [
           {
            "marker": {
             "colorbar": {
              "outlinewidth": 0,
              "ticks": ""
             }
            },
            "type": "scatterpolargl"
           }
          ],
          "scatterternary": [
           {
            "marker": {
             "colorbar": {
              "outlinewidth": 0,
              "ticks": ""
             }
            },
            "type": "scatterternary"
           }
          ],
          "surface": [
           {
            "colorbar": {
             "outlinewidth": 0,
             "ticks": ""
            },
            "colorscale": [
             [
              0,
              "#0d0887"
             ],
             [
              0.1111111111111111,
              "#46039f"
             ],
             [
              0.2222222222222222,
              "#7201a8"
             ],
             [
              0.3333333333333333,
              "#9c179e"
             ],
             [
              0.4444444444444444,
              "#bd3786"
             ],
             [
              0.5555555555555556,
              "#d8576b"
             ],
             [
              0.6666666666666666,
              "#ed7953"
             ],
             [
              0.7777777777777778,
              "#fb9f3a"
             ],
             [
              0.8888888888888888,
              "#fdca26"
             ],
             [
              1,
              "#f0f921"
             ]
            ],
            "type": "surface"
           }
          ],
          "table": [
           {
            "cells": {
             "fill": {
              "color": "#EBF0F8"
             },
             "line": {
              "color": "white"
             }
            },
            "header": {
             "fill": {
              "color": "#C8D4E3"
             },
             "line": {
              "color": "white"
             }
            },
            "type": "table"
           }
          ]
         },
         "layout": {
          "annotationdefaults": {
           "arrowcolor": "#2a3f5f",
           "arrowhead": 0,
           "arrowwidth": 1
          },
          "coloraxis": {
           "colorbar": {
            "outlinewidth": 0,
            "ticks": ""
           }
          },
          "colorscale": {
           "diverging": [
            [
             0,
             "#8e0152"
            ],
            [
             0.1,
             "#c51b7d"
            ],
            [
             0.2,
             "#de77ae"
            ],
            [
             0.3,
             "#f1b6da"
            ],
            [
             0.4,
             "#fde0ef"
            ],
            [
             0.5,
             "#f7f7f7"
            ],
            [
             0.6,
             "#e6f5d0"
            ],
            [
             0.7,
             "#b8e186"
            ],
            [
             0.8,
             "#7fbc41"
            ],
            [
             0.9,
             "#4d9221"
            ],
            [
             1,
             "#276419"
            ]
           ],
           "sequential": [
            [
             0,
             "#0d0887"
            ],
            [
             0.1111111111111111,
             "#46039f"
            ],
            [
             0.2222222222222222,
             "#7201a8"
            ],
            [
             0.3333333333333333,
             "#9c179e"
            ],
            [
             0.4444444444444444,
             "#bd3786"
            ],
            [
             0.5555555555555556,
             "#d8576b"
            ],
            [
             0.6666666666666666,
             "#ed7953"
            ],
            [
             0.7777777777777778,
             "#fb9f3a"
            ],
            [
             0.8888888888888888,
             "#fdca26"
            ],
            [
             1,
             "#f0f921"
            ]
           ],
           "sequentialminus": [
            [
             0,
             "#0d0887"
            ],
            [
             0.1111111111111111,
             "#46039f"
            ],
            [
             0.2222222222222222,
             "#7201a8"
            ],
            [
             0.3333333333333333,
             "#9c179e"
            ],
            [
             0.4444444444444444,
             "#bd3786"
            ],
            [
             0.5555555555555556,
             "#d8576b"
            ],
            [
             0.6666666666666666,
             "#ed7953"
            ],
            [
             0.7777777777777778,
             "#fb9f3a"
            ],
            [
             0.8888888888888888,
             "#fdca26"
            ],
            [
             1,
             "#f0f921"
            ]
           ]
          },
          "colorway": [
           "#636efa",
           "#EF553B",
           "#00cc96",
           "#ab63fa",
           "#FFA15A",
           "#19d3f3",
           "#FF6692",
           "#B6E880",
           "#FF97FF",
           "#FECB52"
          ],
          "font": {
           "color": "#2a3f5f"
          },
          "geo": {
           "bgcolor": "white",
           "lakecolor": "white",
           "landcolor": "#E5ECF6",
           "showlakes": true,
           "showland": true,
           "subunitcolor": "white"
          },
          "hoverlabel": {
           "align": "left"
          },
          "hovermode": "closest",
          "mapbox": {
           "style": "light"
          },
          "paper_bgcolor": "white",
          "plot_bgcolor": "#E5ECF6",
          "polar": {
           "angularaxis": {
            "gridcolor": "white",
            "linecolor": "white",
            "ticks": ""
           },
           "bgcolor": "#E5ECF6",
           "radialaxis": {
            "gridcolor": "white",
            "linecolor": "white",
            "ticks": ""
           }
          },
          "scene": {
           "xaxis": {
            "backgroundcolor": "#E5ECF6",
            "gridcolor": "white",
            "gridwidth": 2,
            "linecolor": "white",
            "showbackground": true,
            "ticks": "",
            "zerolinecolor": "white"
           },
           "yaxis": {
            "backgroundcolor": "#E5ECF6",
            "gridcolor": "white",
            "gridwidth": 2,
            "linecolor": "white",
            "showbackground": true,
            "ticks": "",
            "zerolinecolor": "white"
           },
           "zaxis": {
            "backgroundcolor": "#E5ECF6",
            "gridcolor": "white",
            "gridwidth": 2,
            "linecolor": "white",
            "showbackground": true,
            "ticks": "",
            "zerolinecolor": "white"
           }
          },
          "shapedefaults": {
           "line": {
            "color": "#2a3f5f"
           }
          },
          "ternary": {
           "aaxis": {
            "gridcolor": "white",
            "linecolor": "white",
            "ticks": ""
           },
           "baxis": {
            "gridcolor": "white",
            "linecolor": "white",
            "ticks": ""
           },
           "bgcolor": "#E5ECF6",
           "caxis": {
            "gridcolor": "white",
            "linecolor": "white",
            "ticks": ""
           }
          },
          "title": {
           "x": 0.05
          },
          "xaxis": {
           "automargin": true,
           "gridcolor": "white",
           "linecolor": "white",
           "ticks": "",
           "title": {
            "standoff": 15
           },
           "zerolinecolor": "white",
           "zerolinewidth": 2
          },
          "yaxis": {
           "automargin": true,
           "gridcolor": "white",
           "linecolor": "white",
           "ticks": "",
           "title": {
            "standoff": 15
           },
           "zerolinecolor": "white",
           "zerolinewidth": 2
          }
         }
        },
        "title": {
         "text": "Energy"
        },
        "xaxis": {
         "gridwidth": 2,
         "ticklen": 5,
         "title": {
          "text": "MD"
         },
         "zeroline": false
        },
        "yaxis": {
         "gridwidth": 2,
         "ticklen": 5,
         "title": {
          "text": "BEM"
         }
        }
       }
      },
      "text/html": [
       "<div>\n",
       "        \n",
       "        \n",
       "            <div id=\"188c8c59-4f70-4629-b3a6-80949543d2a9\" class=\"plotly-graph-div\" style=\"height:525px; width:100%;\"></div>\n",
       "            <script type=\"text/javascript\">\n",
       "                require([\"plotly\"], function(Plotly) {\n",
       "                    window.PLOTLYENV=window.PLOTLYENV || {};\n",
       "                    \n",
       "                if (document.getElementById(\"188c8c59-4f70-4629-b3a6-80949543d2a9\")) {\n",
       "                    Plotly.newPlot(\n",
       "                        '188c8c59-4f70-4629-b3a6-80949543d2a9',\n",
       "                        [{\"hoverinfo\": \"text\", \"marker\": {\"color\": [8, 8, 8, 8, 8, 8, 8, 11, 14, 8, 14, 14, 23, 20, 26, 17, 11, 8, 14, 23, 20, 17, 11, 14, 23, 20, 17, 11, 14, 11, 20, 14, 11, 11, 9, 15, 8, 5, 8, 5, 5, 5, 5, 5, 9, 5, 8, 5, 6, 11, 15, 12, 8, 11, 14, 18, 17, 18, 17, 18, 16, 15, 15], \"colorbar\": {\"thickness\": 20}, \"colorscale\": [[0.0, \"#440154\"], [0.1111111111111111, \"#482878\"], [0.2222222222222222, \"#3e4989\"], [0.3333333333333333, \"#31688e\"], [0.4444444444444444, \"#26828e\"], [0.5555555555555556, \"#1f9e89\"], [0.6666666666666666, \"#35b779\"], [0.7777777777777778, \"#6ece58\"], [0.8888888888888888, \"#b5de2b\"], [1.0, \"#fde725\"]], \"opacity\": 0.6, \"size\": 8}, \"mode\": \"markers\", \"text\": [\"1112_tetrachloroethane\", \"1122_tetrachloroethane\", \"112_trichloroethane\", \"11_dichloroethane\", \"11_difluoroethane\", \"12_dibromoethane\", \"12_dichloroethane\", \"13_dichloropropane\", \"14_dichlorobutane\", \"1_bromo_2_chloroethane\", \"1_bromo_2_methylpropane\", \"1_bromobutane\", \"1_bromoheptane\", \"1_bromohexane\", \"1_bromooctane\", \"1_bromopentane\", \"1_bromopropane\", \"1_chloro_222_trifluoroethane\", \"1_chlorobutane\", \"1_chloroheptane\", \"1_chlorohexane\", \"1_chloropentane\", \"1_chloropropane\", \"1_iodobutane\", \"1_iodoheptane\", \"1_iodohexane\", \"1_iodopentane\", \"1_iodopropane\", \"2_bromo_2_methylpropane\", \"2_bromopropane\", \"2_chloro_111_trimethoxyethane\", \"2_chloro_2_methylpropane\", \"2_chloropropane\", \"2_iodopropane\", \"3_chloroprop_1_ene\", \"bis_2_chloroethyl_ether\", \"bromoethane\", \"bromomethane\", \"chloroethane\", \"chlorofluoromethane\", \"chloromethane\", \"dibromomethane\", \"dichloromethane\", \"diiodomethane\", \"ethanethiol\", \"fluoromethane\", \"iodoethane\", \"iodomethane\", \"methanethiol\", \"methyl_chloroacetate\", \"n_butanethiol\", \"n_propanethiol\", \"pentachloroethane\", \"12_dichloropropane\", \"2_chlorobutane\", \"2_methoxyaniline\", \"2_methoxyphenol\", \"3_methoxyaniline\", \"3_methoxyphenol\", \"4_methoxyaniline\", \"anisole\", \"benzyl_bromide\", \"benzyl_chloride\"], \"type\": \"scatter\", \"x\": [-1.43, -1.88, -2.01, -1.64, -2.41, -1.6, -2.15, -2.18, -2.38, -1.77, -0.95, -0.97, -0.97, -0.97, -0.97, -0.96, -0.98, -2.27, -1.22, -1.21, -1.23, -1.22, -1.25, -1.83, -1.8, -1.81, -1.82, -1.87, -1.25, -1.16, -5.4, -1.44, -1.4, -1.97, -1.48, -3.78, -1.01, -0.89, -1.26, -2.25, -1.14, -1.1, -1.6, -2.3, -2.49, -1.61, -1.93, -1.9, -2.25, -5.16, -2.39, -2.41, -1.13, -2.13, -1.35, -7.69, -6.0, -8.44, -8.1, -8.09, -3.98, -3.13, -3.37], \"y\": [-1.6056, -2.5641, -3.0816, -1.7478, -2.3813, -1.3116, -2.6339, -2.2256, -2.495, -1.4499, -0.9116, -0.9286, -0.9292, -0.914, -0.9271, -0.9147, -0.9305, -2.5137, -1.1759, -1.181, -1.2302, -1.2291, -1.1529, -1.748, -1.7202, -1.7197, -1.7201, -1.7541, -1.1291, -1.0902, -5.8305, -1.3164, -1.3212, -1.848, -1.7194, -4.9962, -1.0125, -0.9859, -1.2767, -2.5623, -1.2546, -1.237, -1.8469, -2.7515, -2.9369, -1.5487, -1.8971, -1.9901, -2.8865, -4.95, -2.9101, -2.8588, -1.329, -2.4907, -1.2562, -7.6767, -6.6327, -8.4557, -8.9718, -8.285, -3.7082, -2.9052, -3.1666]}, {\"mode\": \"lines\", \"type\": \"scatter\", \"x\": [-8.44, -0.89], \"y\": [-8.44, -0.89]}],\n",
       "                        {\"hovermode\": \"closest\", \"showlegend\": false, \"template\": {\"data\": {\"bar\": [{\"error_x\": {\"color\": \"#2a3f5f\"}, \"error_y\": {\"color\": \"#2a3f5f\"}, \"marker\": {\"line\": {\"color\": \"#E5ECF6\", \"width\": 0.5}}, \"type\": \"bar\"}], \"barpolar\": [{\"marker\": {\"line\": {\"color\": \"#E5ECF6\", \"width\": 0.5}}, \"type\": \"barpolar\"}], \"carpet\": [{\"aaxis\": {\"endlinecolor\": \"#2a3f5f\", \"gridcolor\": \"white\", \"linecolor\": \"white\", \"minorgridcolor\": \"white\", \"startlinecolor\": \"#2a3f5f\"}, \"baxis\": {\"endlinecolor\": \"#2a3f5f\", \"gridcolor\": \"white\", \"linecolor\": \"white\", \"minorgridcolor\": \"white\", \"startlinecolor\": \"#2a3f5f\"}, \"type\": \"carpet\"}], \"choropleth\": [{\"colorbar\": {\"outlinewidth\": 0, \"ticks\": \"\"}, \"type\": \"choropleth\"}], \"contour\": [{\"colorbar\": {\"outlinewidth\": 0, \"ticks\": \"\"}, \"colorscale\": [[0.0, \"#0d0887\"], [0.1111111111111111, \"#46039f\"], [0.2222222222222222, \"#7201a8\"], [0.3333333333333333, \"#9c179e\"], [0.4444444444444444, \"#bd3786\"], [0.5555555555555556, \"#d8576b\"], [0.6666666666666666, \"#ed7953\"], [0.7777777777777778, \"#fb9f3a\"], [0.8888888888888888, \"#fdca26\"], [1.0, \"#f0f921\"]], \"type\": \"contour\"}], \"contourcarpet\": [{\"colorbar\": {\"outlinewidth\": 0, \"ticks\": \"\"}, \"type\": \"contourcarpet\"}], \"heatmap\": [{\"colorbar\": {\"outlinewidth\": 0, \"ticks\": \"\"}, \"colorscale\": [[0.0, \"#0d0887\"], [0.1111111111111111, \"#46039f\"], [0.2222222222222222, \"#7201a8\"], [0.3333333333333333, \"#9c179e\"], [0.4444444444444444, \"#bd3786\"], [0.5555555555555556, \"#d8576b\"], [0.6666666666666666, \"#ed7953\"], [0.7777777777777778, \"#fb9f3a\"], [0.8888888888888888, \"#fdca26\"], [1.0, \"#f0f921\"]], \"type\": \"heatmap\"}], \"heatmapgl\": [{\"colorbar\": {\"outlinewidth\": 0, \"ticks\": \"\"}, \"colorscale\": [[0.0, \"#0d0887\"], [0.1111111111111111, \"#46039f\"], [0.2222222222222222, \"#7201a8\"], [0.3333333333333333, \"#9c179e\"], [0.4444444444444444, \"#bd3786\"], [0.5555555555555556, \"#d8576b\"], [0.6666666666666666, \"#ed7953\"], [0.7777777777777778, \"#fb9f3a\"], [0.8888888888888888, \"#fdca26\"], [1.0, \"#f0f921\"]], \"type\": \"heatmapgl\"}], \"histogram\": [{\"marker\": {\"colorbar\": {\"outlinewidth\": 0, \"ticks\": \"\"}}, \"type\": \"histogram\"}], \"histogram2d\": [{\"colorbar\": {\"outlinewidth\": 0, \"ticks\": \"\"}, \"colorscale\": [[0.0, \"#0d0887\"], [0.1111111111111111, \"#46039f\"], [0.2222222222222222, \"#7201a8\"], [0.3333333333333333, \"#9c179e\"], [0.4444444444444444, \"#bd3786\"], [0.5555555555555556, \"#d8576b\"], [0.6666666666666666, \"#ed7953\"], [0.7777777777777778, \"#fb9f3a\"], [0.8888888888888888, \"#fdca26\"], [1.0, \"#f0f921\"]], \"type\": \"histogram2d\"}], \"histogram2dcontour\": [{\"colorbar\": {\"outlinewidth\": 0, \"ticks\": \"\"}, \"colorscale\": [[0.0, \"#0d0887\"], [0.1111111111111111, \"#46039f\"], [0.2222222222222222, \"#7201a8\"], [0.3333333333333333, \"#9c179e\"], [0.4444444444444444, \"#bd3786\"], [0.5555555555555556, \"#d8576b\"], [0.6666666666666666, \"#ed7953\"], [0.7777777777777778, \"#fb9f3a\"], [0.8888888888888888, \"#fdca26\"], [1.0, \"#f0f921\"]], \"type\": \"histogram2dcontour\"}], \"mesh3d\": [{\"colorbar\": {\"outlinewidth\": 0, \"ticks\": \"\"}, \"type\": \"mesh3d\"}], \"parcoords\": [{\"line\": {\"colorbar\": {\"outlinewidth\": 0, \"ticks\": \"\"}}, \"type\": \"parcoords\"}], \"pie\": [{\"automargin\": true, \"type\": \"pie\"}], \"scatter\": [{\"marker\": {\"colorbar\": {\"outlinewidth\": 0, \"ticks\": \"\"}}, \"type\": \"scatter\"}], \"scatter3d\": [{\"line\": {\"colorbar\": {\"outlinewidth\": 0, \"ticks\": \"\"}}, \"marker\": {\"colorbar\": {\"outlinewidth\": 0, \"ticks\": \"\"}}, \"type\": \"scatter3d\"}], \"scattercarpet\": [{\"marker\": {\"colorbar\": {\"outlinewidth\": 0, \"ticks\": \"\"}}, \"type\": \"scattercarpet\"}], \"scattergeo\": [{\"marker\": {\"colorbar\": {\"outlinewidth\": 0, \"ticks\": \"\"}}, \"type\": \"scattergeo\"}], \"scattergl\": [{\"marker\": {\"colorbar\": {\"outlinewidth\": 0, \"ticks\": \"\"}}, \"type\": \"scattergl\"}], \"scattermapbox\": [{\"marker\": {\"colorbar\": {\"outlinewidth\": 0, \"ticks\": \"\"}}, \"type\": \"scattermapbox\"}], \"scatterpolar\": [{\"marker\": {\"colorbar\": {\"outlinewidth\": 0, \"ticks\": \"\"}}, \"type\": \"scatterpolar\"}], \"scatterpolargl\": [{\"marker\": {\"colorbar\": {\"outlinewidth\": 0, \"ticks\": \"\"}}, \"type\": \"scatterpolargl\"}], \"scatterternary\": [{\"marker\": {\"colorbar\": {\"outlinewidth\": 0, \"ticks\": \"\"}}, \"type\": \"scatterternary\"}], \"surface\": [{\"colorbar\": {\"outlinewidth\": 0, \"ticks\": \"\"}, \"colorscale\": [[0.0, \"#0d0887\"], [0.1111111111111111, \"#46039f\"], [0.2222222222222222, \"#7201a8\"], [0.3333333333333333, \"#9c179e\"], [0.4444444444444444, \"#bd3786\"], [0.5555555555555556, \"#d8576b\"], [0.6666666666666666, \"#ed7953\"], [0.7777777777777778, \"#fb9f3a\"], [0.8888888888888888, \"#fdca26\"], [1.0, \"#f0f921\"]], \"type\": \"surface\"}], \"table\": [{\"cells\": {\"fill\": {\"color\": \"#EBF0F8\"}, \"line\": {\"color\": \"white\"}}, \"header\": {\"fill\": {\"color\": \"#C8D4E3\"}, \"line\": {\"color\": \"white\"}}, \"type\": \"table\"}]}, \"layout\": {\"annotationdefaults\": {\"arrowcolor\": \"#2a3f5f\", \"arrowhead\": 0, \"arrowwidth\": 1}, \"coloraxis\": {\"colorbar\": {\"outlinewidth\": 0, \"ticks\": \"\"}}, \"colorscale\": {\"diverging\": [[0, \"#8e0152\"], [0.1, \"#c51b7d\"], [0.2, \"#de77ae\"], [0.3, \"#f1b6da\"], [0.4, \"#fde0ef\"], [0.5, \"#f7f7f7\"], [0.6, \"#e6f5d0\"], [0.7, \"#b8e186\"], [0.8, \"#7fbc41\"], [0.9, \"#4d9221\"], [1, \"#276419\"]], \"sequential\": [[0.0, \"#0d0887\"], [0.1111111111111111, \"#46039f\"], [0.2222222222222222, \"#7201a8\"], [0.3333333333333333, \"#9c179e\"], [0.4444444444444444, \"#bd3786\"], [0.5555555555555556, \"#d8576b\"], [0.6666666666666666, \"#ed7953\"], [0.7777777777777778, \"#fb9f3a\"], [0.8888888888888888, \"#fdca26\"], [1.0, \"#f0f921\"]], \"sequentialminus\": [[0.0, \"#0d0887\"], [0.1111111111111111, \"#46039f\"], [0.2222222222222222, \"#7201a8\"], [0.3333333333333333, \"#9c179e\"], [0.4444444444444444, \"#bd3786\"], [0.5555555555555556, \"#d8576b\"], [0.6666666666666666, \"#ed7953\"], [0.7777777777777778, \"#fb9f3a\"], [0.8888888888888888, \"#fdca26\"], [1.0, \"#f0f921\"]]}, \"colorway\": [\"#636efa\", \"#EF553B\", \"#00cc96\", \"#ab63fa\", \"#FFA15A\", \"#19d3f3\", \"#FF6692\", \"#B6E880\", \"#FF97FF\", \"#FECB52\"], \"font\": {\"color\": \"#2a3f5f\"}, \"geo\": {\"bgcolor\": \"white\", \"lakecolor\": \"white\", \"landcolor\": \"#E5ECF6\", \"showlakes\": true, \"showland\": true, \"subunitcolor\": \"white\"}, \"hoverlabel\": {\"align\": \"left\"}, \"hovermode\": \"closest\", \"mapbox\": {\"style\": \"light\"}, \"paper_bgcolor\": \"white\", \"plot_bgcolor\": \"#E5ECF6\", \"polar\": {\"angularaxis\": {\"gridcolor\": \"white\", \"linecolor\": \"white\", \"ticks\": \"\"}, \"bgcolor\": \"#E5ECF6\", \"radialaxis\": {\"gridcolor\": \"white\", \"linecolor\": \"white\", \"ticks\": \"\"}}, \"scene\": {\"xaxis\": {\"backgroundcolor\": \"#E5ECF6\", \"gridcolor\": \"white\", \"gridwidth\": 2, \"linecolor\": \"white\", \"showbackground\": true, \"ticks\": \"\", \"zerolinecolor\": \"white\"}, \"yaxis\": {\"backgroundcolor\": \"#E5ECF6\", \"gridcolor\": \"white\", \"gridwidth\": 2, \"linecolor\": \"white\", \"showbackground\": true, \"ticks\": \"\", \"zerolinecolor\": \"white\"}, \"zaxis\": {\"backgroundcolor\": \"#E5ECF6\", \"gridcolor\": \"white\", \"gridwidth\": 2, \"linecolor\": \"white\", \"showbackground\": true, \"ticks\": \"\", \"zerolinecolor\": \"white\"}}, \"shapedefaults\": {\"line\": {\"color\": \"#2a3f5f\"}}, \"ternary\": {\"aaxis\": {\"gridcolor\": \"white\", \"linecolor\": \"white\", \"ticks\": \"\"}, \"baxis\": {\"gridcolor\": \"white\", \"linecolor\": \"white\", \"ticks\": \"\"}, \"bgcolor\": \"#E5ECF6\", \"caxis\": {\"gridcolor\": \"white\", \"linecolor\": \"white\", \"ticks\": \"\"}}, \"title\": {\"x\": 0.05}, \"xaxis\": {\"automargin\": true, \"gridcolor\": \"white\", \"linecolor\": \"white\", \"ticks\": \"\", \"title\": {\"standoff\": 15}, \"zerolinecolor\": \"white\", \"zerolinewidth\": 2}, \"yaxis\": {\"automargin\": true, \"gridcolor\": \"white\", \"linecolor\": \"white\", \"ticks\": \"\", \"title\": {\"standoff\": 15}, \"zerolinecolor\": \"white\", \"zerolinewidth\": 2}}}, \"title\": {\"text\": \"Energy\"}, \"xaxis\": {\"gridwidth\": 2, \"ticklen\": 5, \"title\": {\"text\": \"MD\"}, \"zeroline\": false}, \"yaxis\": {\"gridwidth\": 2, \"ticklen\": 5, \"title\": {\"text\": \"BEM\"}}},\n",
       "                        {\"responsive\": true}\n",
       "                    ).then(function(){\n",
       "                            \n",
       "var gd = document.getElementById('188c8c59-4f70-4629-b3a6-80949543d2a9');\n",
       "var x = new MutationObserver(function (mutations, observer) {{\n",
       "        var display = window.getComputedStyle(gd).display;\n",
       "        if (!display || display === 'none') {{\n",
       "            console.log([gd, 'removed!']);\n",
       "            Plotly.purge(gd);\n",
       "            observer.disconnect();\n",
       "        }}\n",
       "}});\n",
       "\n",
       "// Listen for the removal of the full notebook cells\n",
       "var notebookContainer = gd.closest('#notebook-container');\n",
       "if (notebookContainer) {{\n",
       "    x.observe(notebookContainer, {childList: true});\n",
       "}}\n",
       "\n",
       "// Listen for the clearing of the current output cell\n",
       "var outputEl = gd.closest('.output');\n",
       "if (outputEl) {{\n",
       "    x.observe(outputEl, {childList: true});\n",
       "}}\n",
       "\n",
       "                        })\n",
       "                };\n",
       "                });\n",
       "            </script>\n",
       "        </div>"
      ]
     },
     "metadata": {},
     "output_type": "display_data"
    }
   ],
   "source": [
    "iupac, smiles, dGes_i, dGcav_i, dGdisp_i, dGexper, SASA, vol =read_implicit('data/implicit_comp.txt')\n",
    "iupac, smiles, dGes_e, dGcav_e, dGdisp_e, dGexper = read_explicit('data/explicit_comp.txt')\n",
    "\n",
    "plot_correl(dGes_e, dGes_i,iupac,'data/n_groups.txt',OPCION='num' ,key='')"
   ]
  }
 ],
 "metadata": {
  "kernelspec": {
   "display_name": "Python 3",
   "language": "python",
   "name": "python3"
  },
  "language_info": {
   "codemirror_mode": {
    "name": "ipython",
    "version": 3
   },
   "file_extension": ".py",
   "mimetype": "text/x-python",
   "name": "python",
   "nbconvert_exporter": "python",
   "pygments_lexer": "ipython3",
   "version": "3.7.6"
  }
 },
 "nbformat": 4,
 "nbformat_minor": 4
}
