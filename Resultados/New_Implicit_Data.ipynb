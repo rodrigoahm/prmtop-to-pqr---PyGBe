{
 "cells": [
  {
   "cell_type": "code",
   "execution_count": 1,
   "metadata": {},
   "outputs": [],
   "source": [
    "import numpy \n",
    "import os\n",
    "import parmed.amber\n",
    "import trimesh "
   ]
  },
  {
   "cell_type": "markdown",
   "metadata": {},
   "source": [
    "## Nueva implicit Data"
   ]
  },
  {
   "cell_type": "code",
   "execution_count": 2,
   "metadata": {},
   "outputs": [],
   "source": [
    "### Ingresar Archivo con los resultados de PyGBe y el implicit Data a utilizar\n",
    "def create_implicit_data(archivo,implicit_data): \n",
    "    nuevo = open('new_implicit_data.txt','w+') #Nombre nuevo documento\n",
    "    nuevo.write('IUPAC, SMILES, dGes, dGcav, dGdisp, dGexper, SASA, Vol\\n')\n",
    "    f = open(implicit_data,'r')\n",
    "    for linea in f.readlines():\n",
    "        g=open(archivo,'r')\n",
    "        listaF=linea.split(',')\n",
    "        for line in g.readlines():\n",
    "            listaG=line.split('   E_solv = ')\n",
    "            e,d=listaG[1].split('.')\n",
    "            nn = e+'.'+d[:4]\n",
    "            if listaF[0]==listaG[0]:\n",
    "                new_line=linea.replace(str(listaF[2][1:]),nn)\n",
    "                nuevo.write(new_line)\n",
    "        g.close()\n",
    "    f.close()\n",
    "    return nuevo.close()\n",
    "\n",
    "\n",
    "def lista(direccion):\n",
    "    lista_de_moleculas=[]\n",
    "    for dirpath ,dirnames, filenames in os.walk(direccion):\n",
    "        filenames\n",
    "        for molecula in filenames:\n",
    "            if '.crd' in molecula:\n",
    "                molecula=molecula[:-4]\n",
    "                lista_de_moleculas.append(molecula)\n",
    "            \n",
    "            if '.pqr' in molecula:\n",
    "                molecula=molecula[:-4]\n",
    "                lista_de_moleculas.append(molecula)\n",
    "    return lista_de_moleculas\n",
    "\n"
   ]
  },
  {
   "cell_type": "code",
   "execution_count": 3,
   "metadata": {},
   "outputs": [],
   "source": [
    "#dirección de las Carpetas con documentos .pqr\n",
    "lista_molec = lista('pqr/')\n",
    "create_implicit_data('resultados eps1.05.txt','data/implicit_data.txt')"
   ]
  },
  {
   "cell_type": "markdown",
   "metadata": {},
   "source": [
    "## N atoms y Vol"
   ]
  },
  {
   "cell_type": "code",
   "execution_count": 4,
   "metadata": {},
   "outputs": [],
   "source": [
    "##Ingresar Direccion con los datos en PQR\n",
    "def N_atoms_and_volume(direccion):\n",
    "    lista_molec = lista(direccion)\n",
    "    nuevo = open('data/n_atom.txt','w+')\n",
    "    explicit = open('data/explicit_data.txt','r')\n",
    "    for L in explicit.readlines():\n",
    "        L_split = L.split(',')\n",
    "        name = L_split[0]\n",
    "        if name in lista_molec:\n",
    "            contador=0\n",
    "            dir_archivo= direccion+'/'+name+'/'+name+'.pqr'\n",
    "            archivo=open(dir_archivo,'r')\n",
    "            for linea in archivo.readlines():\n",
    "                if 'ATOM' in linea:\n",
    "                    contador +=1\n",
    "            volumen,area = vert_face(direccion,name)\n",
    "            nuevo.write(name + '   '+str(contador)+'   '+str(volumen)+'   '+str(area)+' \\n')\n",
    "            archivo.close()\n",
    "    explicit.close()\n",
    "    return nuevo.close()\n",
    "\n",
    "def vert_face(direccion,molec):  #Función que entrega el Volumen y el Area de cada \n",
    "    V = numpy.loadtxt(direccion+molec+'/geometry/'+molec+'.vert')\n",
    "    F = numpy.loadtxt(direccion+molec+'/geometry/'+molec+'.face')\n",
    "    vert = numpy.zeros(len(V)*3)\n",
    "    face = numpy.zeros(len(F)*3)\n",
    "    contador_V = 0\n",
    "    contador_F = 0\n",
    "    for i in range(len(V)):\n",
    "        for j in range(3):\n",
    "            vert[contador_V]=V[i][j]\n",
    "            contador_V+=1\n",
    "    vertices=vert.reshape(len(V),3)\n",
    "\n",
    "    for k in range(len(F)):\n",
    "        for l in range(3):\n",
    "            face[contador_F]=F[k][l] - 1\n",
    "            contador_F+=1\n",
    "    faces=face.reshape(len(F),3)\n",
    "    mesh = trimesh.Trimesh(vertices,\n",
    "                       faces,process=False)\n",
    "    return mesh.volume, mesh.area\n"
   ]
  },
  {
   "cell_type": "code",
   "execution_count": 5,
   "metadata": {},
   "outputs": [],
   "source": [
    "lista_molec = lista('pqr/')\n",
    "N_atoms_and_volume('pqr/')"
   ]
  },
  {
   "cell_type": "code",
   "execution_count": null,
   "metadata": {},
   "outputs": [],
   "source": []
  }
 ],
 "metadata": {
  "kernelspec": {
   "display_name": "Python 3",
   "language": "python",
   "name": "python3"
  },
  "language_info": {
   "codemirror_mode": {
    "name": "ipython",
    "version": 3
   },
   "file_extension": ".py",
   "mimetype": "text/x-python",
   "name": "python",
   "nbconvert_exporter": "python",
   "pygments_lexer": "ipython3",
   "version": "3.7.6"
  }
 },
 "nbformat": 4,
 "nbformat_minor": 4
}
